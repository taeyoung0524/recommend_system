{
 "cells": [
  {
   "cell_type": "markdown",
   "id": "8GHOtkripVl9",
   "metadata": {
    "id": "8GHOtkripVl9"
   },
   "source": [
    "# 기본 설정\n",
    "\n",
    "구글 드라이브 마운트\n",
    "\n",
    "패키지 설치"
   ]
  },
  {
   "cell_type": "code",
   "execution_count": 1,
   "id": "JHvDyoRwpUAe",
   "metadata": {
    "colab": {
     "base_uri": "https://localhost:8080/"
    },
    "executionInfo": {
     "elapsed": 18046,
     "status": "ok",
     "timestamp": 1716211447800,
     "user": {
      "displayName": "오장민 (AI융합학부)",
      "userId": "14191339932351591583"
     },
     "user_tz": -540
    },
    "id": "JHvDyoRwpUAe",
    "outputId": "48b213bc-007f-4a0f-bced-e755986a3920"
   },
   "outputs": [
    {
     "name": "stdout",
     "output_type": "stream",
     "text": [
      "Mounted at /gdrive\n"
     ]
    }
   ],
   "source": [
    "#from google.colab import drive\n",
    "#drive.mount('/gdrive', force_remount=True)"
   ]
  },
  {
   "cell_type": "code",
   "execution_count": 1,
   "id": "40ec6cfd",
   "metadata": {},
   "outputs": [],
   "source": [
    "import torch"
   ]
  },
  {
   "cell_type": "code",
   "execution_count": null,
   "id": "8d45f759",
   "metadata": {},
   "outputs": [
    {
     "name": "stdout",
     "output_type": "stream",
     "text": [
      "tensor([1.], device='mps:0')\n"
     ]
    },
    {
     "name": "stderr",
     "output_type": "stream",
     "text": [
      "/opt/miniconda3/envs/noise_control/lib/python3.9/site-packages/torch/_tensor_str.py:137: UserWarning: MPS: nonzero op is supported natively starting from macOS 13.0. Falling back on CPU. This may have performance implications. (Triggered internally at /Users/runner/work/pytorch/pytorch/pytorch/aten/src/ATen/native/mps/operations/Indexing.mm:283.)\n",
      "  nonzero_finite_vals = torch.masked_select(\n"
     ]
    },
    {
     "data": {
      "text/plain": [
       "True"
      ]
     },
     "execution_count": 2,
     "metadata": {},
     "output_type": "execute_result"
    }
   ],
   "source": [
    "if torch.backends.mps.is_available():\n",
    "    mps_device = torch.device(\"mps\")\n",
    "    x = torch.ones(1, device=mps_device)\n",
    "    print (x)\n",
    "else:\n",
    "    print (\"MPS device not found.\")\n",
    "\n",
    "torch.backends.mps.is_built() \n",
    "torch.backends.mps.is_available()"
   ]
  },
  {
   "cell_type": "code",
   "execution_count": 4,
   "id": "cTdbnPd-pgv9",
   "metadata": {
    "colab": {
     "base_uri": "https://localhost:8080/"
    },
    "executionInfo": {
     "elapsed": 88671,
     "status": "ok",
     "timestamp": 1716211536469,
     "user": {
      "displayName": "오장민 (AI융합학부)",
      "userId": "14191339932351591583"
     },
     "user_tz": -540
    },
    "id": "cTdbnPd-pgv9",
    "outputId": "fbd7900b-70ab-4870-bba4-03238c6d944b"
   },
   "outputs": [
    {
     "name": "stdout",
     "output_type": "stream",
     "text": [
      "Requirement already satisfied: transformers in /opt/miniconda3/envs/noise_control/lib/python3.9/site-packages (4.49.0)\n",
      "Requirement already satisfied: filelock in /opt/miniconda3/envs/noise_control/lib/python3.9/site-packages (from transformers) (3.17.0)\n",
      "Requirement already satisfied: huggingface-hub<1.0,>=0.26.0 in /opt/miniconda3/envs/noise_control/lib/python3.9/site-packages (from transformers) (0.29.0)\n",
      "Requirement already satisfied: numpy>=1.17 in /opt/miniconda3/envs/noise_control/lib/python3.9/site-packages (from transformers) (1.26.4)\n",
      "Requirement already satisfied: packaging>=20.0 in /opt/miniconda3/envs/noise_control/lib/python3.9/site-packages (from transformers) (24.2)\n",
      "Requirement already satisfied: pyyaml>=5.1 in /opt/miniconda3/envs/noise_control/lib/python3.9/site-packages (from transformers) (6.0.2)\n",
      "Requirement already satisfied: regex!=2019.12.17 in /opt/miniconda3/envs/noise_control/lib/python3.9/site-packages (from transformers) (2024.11.6)\n",
      "Requirement already satisfied: requests in /opt/miniconda3/envs/noise_control/lib/python3.9/site-packages (from transformers) (2.32.3)\n",
      "Requirement already satisfied: tokenizers<0.22,>=0.21 in /opt/miniconda3/envs/noise_control/lib/python3.9/site-packages (from transformers) (0.21.0)\n",
      "Requirement already satisfied: safetensors>=0.4.1 in /opt/miniconda3/envs/noise_control/lib/python3.9/site-packages (from transformers) (0.5.2)\n",
      "Requirement already satisfied: tqdm>=4.27 in /opt/miniconda3/envs/noise_control/lib/python3.9/site-packages (from transformers) (4.67.1)\n",
      "Requirement already satisfied: fsspec>=2023.5.0 in /opt/miniconda3/envs/noise_control/lib/python3.9/site-packages (from huggingface-hub<1.0,>=0.26.0->transformers) (2025.2.0)\n",
      "Requirement already satisfied: typing-extensions>=3.7.4.3 in /opt/miniconda3/envs/noise_control/lib/python3.9/site-packages (from huggingface-hub<1.0,>=0.26.0->transformers) (4.12.2)\n",
      "Requirement already satisfied: charset-normalizer<4,>=2 in /opt/miniconda3/envs/noise_control/lib/python3.9/site-packages (from requests->transformers) (3.4.1)\n",
      "Requirement already satisfied: idna<4,>=2.5 in /opt/miniconda3/envs/noise_control/lib/python3.9/site-packages (from requests->transformers) (3.10)\n",
      "Requirement already satisfied: urllib3<3,>=1.21.1 in /opt/miniconda3/envs/noise_control/lib/python3.9/site-packages (from requests->transformers) (2.3.0)\n",
      "Requirement already satisfied: certifi>=2017.4.17 in /opt/miniconda3/envs/noise_control/lib/python3.9/site-packages (from requests->transformers) (2025.1.31)\n",
      "Requirement already satisfied: datasets in /opt/miniconda3/envs/noise_control/lib/python3.9/site-packages (3.6.0)\n",
      "Requirement already satisfied: filelock in /opt/miniconda3/envs/noise_control/lib/python3.9/site-packages (from datasets) (3.17.0)\n",
      "Requirement already satisfied: numpy>=1.17 in /opt/miniconda3/envs/noise_control/lib/python3.9/site-packages (from datasets) (1.26.4)\n",
      "Requirement already satisfied: pyarrow>=15.0.0 in /opt/miniconda3/envs/noise_control/lib/python3.9/site-packages (from datasets) (20.0.0)\n",
      "Requirement already satisfied: dill<0.3.9,>=0.3.0 in /opt/miniconda3/envs/noise_control/lib/python3.9/site-packages (from datasets) (0.3.8)\n",
      "Requirement already satisfied: pandas in /opt/miniconda3/envs/noise_control/lib/python3.9/site-packages (from datasets) (2.2.3)\n",
      "Requirement already satisfied: requests>=2.32.2 in /opt/miniconda3/envs/noise_control/lib/python3.9/site-packages (from datasets) (2.32.3)\n",
      "Requirement already satisfied: tqdm>=4.66.3 in /opt/miniconda3/envs/noise_control/lib/python3.9/site-packages (from datasets) (4.67.1)\n",
      "Requirement already satisfied: xxhash in /opt/miniconda3/envs/noise_control/lib/python3.9/site-packages (from datasets) (3.5.0)\n",
      "Requirement already satisfied: multiprocess<0.70.17 in /opt/miniconda3/envs/noise_control/lib/python3.9/site-packages (from datasets) (0.70.16)\n",
      "Requirement already satisfied: fsspec<=2025.3.0,>=2023.1.0 in /opt/miniconda3/envs/noise_control/lib/python3.9/site-packages (from fsspec[http]<=2025.3.0,>=2023.1.0->datasets) (2025.2.0)\n",
      "Requirement already satisfied: huggingface-hub>=0.24.0 in /opt/miniconda3/envs/noise_control/lib/python3.9/site-packages (from datasets) (0.29.0)\n",
      "Requirement already satisfied: packaging in /opt/miniconda3/envs/noise_control/lib/python3.9/site-packages (from datasets) (24.2)\n",
      "Requirement already satisfied: pyyaml>=5.1 in /opt/miniconda3/envs/noise_control/lib/python3.9/site-packages (from datasets) (6.0.2)\n",
      "Requirement already satisfied: aiohttp!=4.0.0a0,!=4.0.0a1 in /opt/miniconda3/envs/noise_control/lib/python3.9/site-packages (from fsspec[http]<=2025.3.0,>=2023.1.0->datasets) (3.11.18)\n",
      "Requirement already satisfied: typing-extensions>=3.7.4.3 in /opt/miniconda3/envs/noise_control/lib/python3.9/site-packages (from huggingface-hub>=0.24.0->datasets) (4.12.2)\n",
      "Requirement already satisfied: charset-normalizer<4,>=2 in /opt/miniconda3/envs/noise_control/lib/python3.9/site-packages (from requests>=2.32.2->datasets) (3.4.1)\n",
      "Requirement already satisfied: idna<4,>=2.5 in /opt/miniconda3/envs/noise_control/lib/python3.9/site-packages (from requests>=2.32.2->datasets) (3.10)\n",
      "Requirement already satisfied: urllib3<3,>=1.21.1 in /opt/miniconda3/envs/noise_control/lib/python3.9/site-packages (from requests>=2.32.2->datasets) (2.3.0)\n",
      "Requirement already satisfied: certifi>=2017.4.17 in /opt/miniconda3/envs/noise_control/lib/python3.9/site-packages (from requests>=2.32.2->datasets) (2025.1.31)\n",
      "Requirement already satisfied: python-dateutil>=2.8.2 in /opt/miniconda3/envs/noise_control/lib/python3.9/site-packages (from pandas->datasets) (2.9.0.post0)\n",
      "Requirement already satisfied: pytz>=2020.1 in /opt/miniconda3/envs/noise_control/lib/python3.9/site-packages (from pandas->datasets) (2025.1)\n",
      "Requirement already satisfied: tzdata>=2022.7 in /opt/miniconda3/envs/noise_control/lib/python3.9/site-packages (from pandas->datasets) (2025.1)\n",
      "Requirement already satisfied: aiohappyeyeballs>=2.3.0 in /opt/miniconda3/envs/noise_control/lib/python3.9/site-packages (from aiohttp!=4.0.0a0,!=4.0.0a1->fsspec[http]<=2025.3.0,>=2023.1.0->datasets) (2.6.1)\n",
      "Requirement already satisfied: aiosignal>=1.1.2 in /opt/miniconda3/envs/noise_control/lib/python3.9/site-packages (from aiohttp!=4.0.0a0,!=4.0.0a1->fsspec[http]<=2025.3.0,>=2023.1.0->datasets) (1.3.2)\n",
      "Requirement already satisfied: async-timeout<6.0,>=4.0 in /opt/miniconda3/envs/noise_control/lib/python3.9/site-packages (from aiohttp!=4.0.0a0,!=4.0.0a1->fsspec[http]<=2025.3.0,>=2023.1.0->datasets) (5.0.1)\n",
      "Requirement already satisfied: attrs>=17.3.0 in /opt/miniconda3/envs/noise_control/lib/python3.9/site-packages (from aiohttp!=4.0.0a0,!=4.0.0a1->fsspec[http]<=2025.3.0,>=2023.1.0->datasets) (25.3.0)\n",
      "Requirement already satisfied: frozenlist>=1.1.1 in /opt/miniconda3/envs/noise_control/lib/python3.9/site-packages (from aiohttp!=4.0.0a0,!=4.0.0a1->fsspec[http]<=2025.3.0,>=2023.1.0->datasets) (1.6.0)\n",
      "Requirement already satisfied: multidict<7.0,>=4.5 in /opt/miniconda3/envs/noise_control/lib/python3.9/site-packages (from aiohttp!=4.0.0a0,!=4.0.0a1->fsspec[http]<=2025.3.0,>=2023.1.0->datasets) (6.4.4)\n",
      "Requirement already satisfied: propcache>=0.2.0 in /opt/miniconda3/envs/noise_control/lib/python3.9/site-packages (from aiohttp!=4.0.0a0,!=4.0.0a1->fsspec[http]<=2025.3.0,>=2023.1.0->datasets) (0.3.1)\n",
      "Requirement already satisfied: yarl<2.0,>=1.17.0 in /opt/miniconda3/envs/noise_control/lib/python3.9/site-packages (from aiohttp!=4.0.0a0,!=4.0.0a1->fsspec[http]<=2025.3.0,>=2023.1.0->datasets) (1.20.0)\n",
      "Requirement already satisfied: six>=1.5 in /opt/miniconda3/envs/noise_control/lib/python3.9/site-packages (from python-dateutil>=2.8.2->pandas->datasets) (1.17.0)\n",
      "Requirement already satisfied: accelerate in /opt/miniconda3/envs/noise_control/lib/python3.9/site-packages (1.7.0)\n",
      "Requirement already satisfied: numpy<3.0.0,>=1.17 in /opt/miniconda3/envs/noise_control/lib/python3.9/site-packages (from accelerate) (1.26.4)\n",
      "Requirement already satisfied: packaging>=20.0 in /opt/miniconda3/envs/noise_control/lib/python3.9/site-packages (from accelerate) (24.2)\n",
      "Requirement already satisfied: psutil in /opt/miniconda3/envs/noise_control/lib/python3.9/site-packages (from accelerate) (6.1.1)\n",
      "Requirement already satisfied: pyyaml in /opt/miniconda3/envs/noise_control/lib/python3.9/site-packages (from accelerate) (6.0.2)\n",
      "Requirement already satisfied: torch>=2.0.0 in /opt/miniconda3/envs/noise_control/lib/python3.9/site-packages (from accelerate) (2.1.0)\n",
      "Requirement already satisfied: huggingface-hub>=0.21.0 in /opt/miniconda3/envs/noise_control/lib/python3.9/site-packages (from accelerate) (0.29.0)\n",
      "Requirement already satisfied: safetensors>=0.4.3 in /opt/miniconda3/envs/noise_control/lib/python3.9/site-packages (from accelerate) (0.5.2)\n",
      "Requirement already satisfied: filelock in /opt/miniconda3/envs/noise_control/lib/python3.9/site-packages (from huggingface-hub>=0.21.0->accelerate) (3.17.0)\n",
      "Requirement already satisfied: fsspec>=2023.5.0 in /opt/miniconda3/envs/noise_control/lib/python3.9/site-packages (from huggingface-hub>=0.21.0->accelerate) (2025.2.0)\n",
      "Requirement already satisfied: requests in /opt/miniconda3/envs/noise_control/lib/python3.9/site-packages (from huggingface-hub>=0.21.0->accelerate) (2.32.3)\n",
      "Requirement already satisfied: tqdm>=4.42.1 in /opt/miniconda3/envs/noise_control/lib/python3.9/site-packages (from huggingface-hub>=0.21.0->accelerate) (4.67.1)\n",
      "Requirement already satisfied: typing-extensions>=3.7.4.3 in /opt/miniconda3/envs/noise_control/lib/python3.9/site-packages (from huggingface-hub>=0.21.0->accelerate) (4.12.2)\n",
      "Requirement already satisfied: sympy in /opt/miniconda3/envs/noise_control/lib/python3.9/site-packages (from torch>=2.0.0->accelerate) (1.13.3)\n",
      "Requirement already satisfied: networkx in /opt/miniconda3/envs/noise_control/lib/python3.9/site-packages (from torch>=2.0.0->accelerate) (3.2.1)\n",
      "Requirement already satisfied: jinja2 in /opt/miniconda3/envs/noise_control/lib/python3.9/site-packages (from torch>=2.0.0->accelerate) (3.1.5)\n",
      "Requirement already satisfied: MarkupSafe>=2.0 in /opt/miniconda3/envs/noise_control/lib/python3.9/site-packages (from jinja2->torch>=2.0.0->accelerate) (2.1.5)\n",
      "Requirement already satisfied: charset-normalizer<4,>=2 in /opt/miniconda3/envs/noise_control/lib/python3.9/site-packages (from requests->huggingface-hub>=0.21.0->accelerate) (3.4.1)\n",
      "Requirement already satisfied: idna<4,>=2.5 in /opt/miniconda3/envs/noise_control/lib/python3.9/site-packages (from requests->huggingface-hub>=0.21.0->accelerate) (3.10)\n",
      "Requirement already satisfied: urllib3<3,>=1.21.1 in /opt/miniconda3/envs/noise_control/lib/python3.9/site-packages (from requests->huggingface-hub>=0.21.0->accelerate) (2.3.0)\n",
      "Requirement already satisfied: certifi>=2017.4.17 in /opt/miniconda3/envs/noise_control/lib/python3.9/site-packages (from requests->huggingface-hub>=0.21.0->accelerate) (2025.1.31)\n",
      "Requirement already satisfied: mpmath<1.4,>=1.1.0 in /opt/miniconda3/envs/noise_control/lib/python3.9/site-packages (from sympy->torch>=2.0.0->accelerate) (1.3.0)\n"
     ]
    }
   ],
   "source": [
    "!pip install transformers\n",
    "!pip install datasets\n",
    "!pip install accelerate"
   ]
  },
  {
   "cell_type": "code",
   "execution_count": 5,
   "id": "f19938da-d485-41c4-8aa6-82cd83f1e48d",
   "metadata": {
    "executionInfo": {
     "elapsed": 9330,
     "status": "ok",
     "timestamp": 1716211545797,
     "user": {
      "displayName": "오장민 (AI융합학부)",
      "userId": "14191339932351591583"
     },
     "user_tz": -540
    },
    "id": "f19938da-d485-41c4-8aa6-82cd83f1e48d"
   },
   "outputs": [
    {
     "name": "stderr",
     "output_type": "stream",
     "text": [
      "/opt/miniconda3/envs/noise_control/lib/python3.9/site-packages/tqdm/auto.py:21: TqdmWarning: IProgress not found. Please update jupyter and ipywidgets. See https://ipywidgets.readthedocs.io/en/stable/user_install.html\n",
      "  from .autonotebook import tqdm as notebook_tqdm\n"
     ]
    }
   ],
   "source": [
    "import pandas as pd\n",
    "import numpy as np\n",
    "from glob import glob\n",
    "import os\n",
    "import tqdm\n",
    "from transformers import (\n",
    "    AutoTokenizer,\n",
    "    AutoModel,\n",
    "    DataCollatorWithPadding\n",
    ")\n",
    "\n",
    "from datasets import Dataset, Value\n",
    "import torch\n",
    "import torch.nn as nn\n",
    "from typing import List, Optional, Tuple, Union\n",
    "import datetime\n",
    "import re"
   ]
  },
  {
   "cell_type": "code",
   "execution_count": 6,
   "id": "0d68342b-a86b-42ba-b944-5468af810920",
   "metadata": {
    "colab": {
     "base_uri": "https://localhost:8080/"
    },
    "executionInfo": {
     "elapsed": 12,
     "status": "ok",
     "timestamp": 1716211545798,
     "user": {
      "displayName": "오장민 (AI융합학부)",
      "userId": "14191339932351591583"
     },
     "user_tz": -540
    },
    "id": "0d68342b-a86b-42ba-b944-5468af810920",
    "outputId": "4311d9b2-409d-4db8-f7b6-3dbccc041185"
   },
   "outputs": [],
   "source": [
    "#@title 마이너 패키지 로딩\n",
    "%matplotlib inline\n",
    "from datetime import datetime\n",
    "import matplotlib.pyplot as plt\n",
    "#plt.style.use('seaborn-darkgrid')"
   ]
  },
  {
   "cell_type": "code",
   "execution_count": 7,
   "id": "3GYLpunFp2ro",
   "metadata": {
    "colab": {
     "base_uri": "https://localhost:8080/"
    },
    "executionInfo": {
     "elapsed": 484,
     "status": "ok",
     "timestamp": 1716211549763,
     "user": {
      "displayName": "오장민 (AI융합학부)",
      "userId": "14191339932351591583"
     },
     "user_tz": -540
    },
    "id": "3GYLpunFp2ro",
    "outputId": "4a866dd8-8612-48e0-90a0-8650b10e0892"
   },
   "outputs": [],
   "source": [
    "#cd /gdrive/MyDrive/Lectures/2025/RecSys/content-based"
   ]
  },
  {
   "cell_type": "markdown",
   "id": "af2c2359-91bb-4ea0-9567-a27ff0b20234",
   "metadata": {
    "id": "af2c2359-91bb-4ea0-9567-a27ff0b20234"
   },
   "source": [
    "# 데이터 로드\n",
    "\n",
    "`../raw/ml-100k`\n",
    "- u1.base: 학습 (80K)\n",
    "- u1.test: 검증 (20K)"
   ]
  },
  {
   "cell_type": "code",
   "execution_count": 22,
   "id": "bdd47ecd-efdd-46b3-b6ff-5a48fc1211dd",
   "metadata": {
    "executionInfo": {
     "elapsed": 1,
     "status": "ok",
     "timestamp": 1716211552326,
     "user": {
      "displayName": "오장민 (AI융합학부)",
      "userId": "14191339932351591583"
     },
     "user_tz": -540
    },
    "id": "bdd47ecd-efdd-46b3-b6ff-5a48fc1211dd"
   },
   "outputs": [],
   "source": [
    "#@title get_user_item_map\n",
    "def get_user_item_map(X):\n",
    "  \"\"\"Function to generate a ratings matrx and mappings for\n",
    "  the user and item ids to the row and column indices\n",
    "\n",
    "  Parameters\n",
    "  ----------\n",
    "  X : pandas.DataFrame, shape=(n_ratings,>=3)\n",
    "      First 3 columns must be in order of user, item, rating.\n",
    "\n",
    "  Returns\n",
    "  -------\n",
    "  user_map : pandas Series, shape=(n_users,)\n",
    "      Mapping from the original user id to an integer in the range [0,n_users)\n",
    "  item_map : pandas Series, shape=(n_items,)\n",
    "      Mapping from the original item id to an integer in the range [0,n_items)\n",
    "  \"\"\"\n",
    "  user_col, item_col, rating_col = X.columns[:3]\n",
    "  rating = X[rating_col]\n",
    "  user_map = pd.Series(\n",
    "      index=np.unique(X[user_col]),\n",
    "      data=np.arange(X[user_col].nunique()),\n",
    "      name='user_map',\n",
    "  )\n",
    "  item_map = pd.Series(\n",
    "      index=np.unique(X[item_col]),\n",
    "      data=np.arange(X[item_col].nunique()),\n",
    "      name='columns_map',\n",
    "  )\n",
    "\n",
    "  return user_map, item_map"
   ]
  },
  {
   "cell_type": "code",
   "execution_count": 9,
   "id": "14a07a7d-5ae6-43b2-9ec0-12a4699272c4",
   "metadata": {
    "executionInfo": {
     "elapsed": 811,
     "status": "ok",
     "timestamp": 1716211553482,
     "user": {
      "displayName": "오장민 (AI융합학부)",
      "userId": "14191339932351591583"
     },
     "user_tz": -540
    },
    "id": "14a07a7d-5ae6-43b2-9ec0-12a4699272c4"
   },
   "outputs": [],
   "source": [
    "item_plot_df = pd.read_csv('movie_plots_80_missings.csv', index_col=0)"
   ]
  },
  {
   "cell_type": "code",
   "execution_count": 10,
   "id": "08605cb1-da47-4500-bfe7-c76029b3db3f",
   "metadata": {
    "executionInfo": {
     "elapsed": 2,
     "status": "ok",
     "timestamp": 1716211553483,
     "user": {
      "displayName": "오장민 (AI융합학부)",
      "userId": "14191339932351591583"
     },
     "user_tz": -540
    },
    "id": "08605cb1-da47-4500-bfe7-c76029b3db3f"
   },
   "outputs": [],
   "source": [
    "def load_data(file_path):\n",
    "  ratings_df = pd.read_csv(file_path, sep='\\t', header=None,\n",
    "                          names=['userId', 'movieId', 'rating', 'timestamp'])\n",
    "  ratings_df['timestamp'] = ratings_df['timestamp'].apply(datetime.fromtimestamp)\n",
    "  ratings_df = ratings_df.sort_values('timestamp')\n",
    "  return ratings_df"
   ]
  },
  {
   "cell_type": "code",
   "execution_count": 11,
   "id": "48962f8c-1d37-4659-9a7a-9dba002f32ef",
   "metadata": {
    "executionInfo": {
     "elapsed": 1323,
     "status": "ok",
     "timestamp": 1716211556287,
     "user": {
      "displayName": "오장민 (AI융합학부)",
      "userId": "14191339932351591583"
     },
     "user_tz": -540
    },
    "id": "48962f8c-1d37-4659-9a7a-9dba002f32ef"
   },
   "outputs": [],
   "source": [
    "train_df = load_data('raw/ml-100k/u1.base').reset_index(drop=True)\n",
    "val_df = load_data('raw/ml-100k/u1.test').reset_index(drop=True)"
   ]
  },
  {
   "cell_type": "code",
   "execution_count": 12,
   "id": "61029bb2-d78a-4442-8e08-b0f68d39e2ac",
   "metadata": {
    "executionInfo": {
     "elapsed": 1,
     "status": "ok",
     "timestamp": 1716211556287,
     "user": {
      "displayName": "오장민 (AI융합학부)",
      "userId": "14191339932351591583"
     },
     "user_tz": -540
    },
    "id": "61029bb2-d78a-4442-8e08-b0f68d39e2ac"
   },
   "outputs": [],
   "source": [
    "user_map, item_map = get_user_item_map(pd.concat((train_df, val_df), axis=0))"
   ]
  },
  {
   "cell_type": "code",
   "execution_count": 13,
   "id": "52204be2-9f9d-4bd5-8135-52513212a277",
   "metadata": {
    "executionInfo": {
     "elapsed": 1,
     "status": "ok",
     "timestamp": 1716211556287,
     "user": {
      "displayName": "오장민 (AI융합학부)",
      "userId": "14191339932351591583"
     },
     "user_tz": -540
    },
    "id": "52204be2-9f9d-4bd5-8135-52513212a277"
   },
   "outputs": [],
   "source": [
    "train_df['plots'] = train_df.movieId.map(item_plot_df['plot'])\n",
    "val_df['plots'] = val_df.movieId.map(item_plot_df['plot'])"
   ]
  },
  {
   "cell_type": "markdown",
   "id": "3316fd59-4db7-4114-929f-c400c8f35fa7",
   "metadata": {
    "id": "3316fd59-4db7-4114-929f-c400c8f35fa7"
   },
   "source": [
    "# 모델링\n",
    "\n",
    "컨텐츠 모델링\n",
    "- 플롯(plot) 활용: Distilbert (https://huggingface.co/docs/transformers/model_doc/distilbert#distilbert)\n",
    "\n",
    "유저 모델링\n",
    "- 단순 임베딩\n",
    "\n",
    "결합\n",
    "- 연결: concatenation\n",
    "\n",
    "예측\n",
    "- Linear regression\n",
    "\n",
    "아이템 플롯 데이터\n",
    "- movie_plots_80_missings.csv\n",
    "\n",
    "참고\n",
    "- ~~https://ratsgo.github.io/nlpbook/docs/lm~~\n",
    "- https://huggingface.co/docs/transformers/index\n"
   ]
  },
  {
   "cell_type": "code",
   "execution_count": 15,
   "id": "8e1b3881-9b21-4007-86d2-f036e4938c25",
   "metadata": {
    "executionInfo": {
     "elapsed": 294,
     "status": "ok",
     "timestamp": 1716211564221,
     "user": {
      "displayName": "오장민 (AI융합학부)",
      "userId": "14191339932351591583"
     },
     "user_tz": -540
    },
    "id": "8e1b3881-9b21-4007-86d2-f036e4938c25"
   },
   "outputs": [],
   "source": [
    "pretrained_model_tag = \"distilbert-base-uncased\""
   ]
  },
  {
   "cell_type": "markdown",
   "id": "i3MPYTvdqdt9",
   "metadata": {
    "id": "i3MPYTvdqdt9"
   },
   "source": [
    "## 데이터셋"
   ]
  },
  {
   "cell_type": "code",
   "execution_count": 16,
   "id": "2f06e07d-27f2-42d7-8021-7e2c7b592518",
   "metadata": {
    "colab": {
     "base_uri": "https://localhost:8080/",
     "height": 304,
     "referenced_widgets": [
      "c12f9589f7ac4ac3a4550540e88811cd",
      "f1b54b59c27543bcab6be6a3761deea2",
      "111cf8dfc6574087bcb4e93978a4e028",
      "f644bf313d10487aa752274330379dc5",
      "96723a4887f64fc5b964d741e72c8ae9",
      "763a612739764fcb927eeb5cf2173291",
      "6885b81c6bac494fbeb9c59909541f78",
      "ed0562cec30b4f18872f2baf433278b9",
      "5c8ba26b52404e909d34581895b6ea74",
      "e21901930e864d7d8e823295cbfd5829",
      "4ba003b5c426402ebc407c1bf46f182e",
      "1dc84e7f1e6c4963b867b828ecb52279",
      "3a5e01f6a6ce4304bd8ff3d9d1177036",
      "6bece8f993534173bb24cfaba6dee60e",
      "9e30001e4de24f9eac8e8fdb2d0ce8da",
      "59380d51e9a24f3cac3977cf8cd05b6a",
      "f9ddda41f1fb4a27b498dfa68fe8b153",
      "380a52470dad433fbb3f3d02c413fc09",
      "fb546f873d9b45bca78feb2af39a69db",
      "2748ba59eb184b3395ae7f7c070faa9a",
      "15558466e3484cccbddcd7cada8e740e",
      "3601e08573c54700b80928d07b2acbf4",
      "4f7c8281877b460da4512778d1d4f290",
      "6776c84b35a74feb863f1587c858b0d7",
      "c0e0161cc2b34d009b22eac075088e63",
      "e40725b8b54347f1bcf1338ef502d959",
      "85d934bf155e41ecb4e03ab1dc2eaa9d",
      "384c2757ad8841b380ee82194ef77553",
      "69199241a493431c9c1be551fa77bc69",
      "2815ccfc4b324dc39077a4c4aff24736",
      "5b94a01a56874a64ae0e0b559fe6e73c",
      "003efd12dd7c43788773f87022608cd2",
      "a7951be00cab4b9a80e224a5f7eeb4d7",
      "c13abea495c64f21b9da90a237e2c44b",
      "333b98e64b9f4030b570d918178ccc04",
      "cb2557ca01014e318a87174f116b75a2",
      "345e2cbbf11c4c9e8f8049cb6daf6dcc",
      "2dffc694e1594593a0858317437af2fe",
      "f5fbb82a064146d58bddc46bd26c527c",
      "a07c50afe5a143ec9155fe08fa24833c",
      "3077e5e11d6340b6be3877e6b160c92a",
      "1e88da398e4746cbb393a1bb5262c4ee",
      "0c1cd7b8b6b24eb98723714e53cec710",
      "3adc987f3bbf4f2c90fc5085b4dbd0b1"
     ]
    },
    "executionInfo": {
     "elapsed": 2073,
     "status": "ok",
     "timestamp": 1716211567175,
     "user": {
      "displayName": "오장민 (AI융합학부)",
      "userId": "14191339932351591583"
     },
     "user_tz": -540
    },
    "id": "2f06e07d-27f2-42d7-8021-7e2c7b592518",
    "outputId": "cf267a1d-fbd8-4fe7-c664-ef558c529775"
   },
   "outputs": [],
   "source": [
    "tokenizer = AutoTokenizer.from_pretrained(pretrained_model_tag)"
   ]
  },
  {
   "cell_type": "code",
   "execution_count": 17,
   "id": "a0c9e280-5bf9-4b9e-a7db-92c9d17a73ed",
   "metadata": {
    "executionInfo": {
     "elapsed": 387,
     "status": "ok",
     "timestamp": 1716211572000,
     "user": {
      "displayName": "오장민 (AI융합학부)",
      "userId": "14191339932351591583"
     },
     "user_tz": -540
    },
    "id": "a0c9e280-5bf9-4b9e-a7db-92c9d17a73ed"
   },
   "outputs": [],
   "source": [
    "def preprocess_function(examples):\n",
    "    return tokenizer(examples[\"plots\"], truncation=True, max_length=256)"
   ]
  },
  {
   "cell_type": "markdown",
   "id": "BiYcwqw0rCTT",
   "metadata": {
    "id": "BiYcwqw0rCTT"
   },
   "source": [
    "데이터셋 변환\n",
    "- `Dataset.map(fn)`"
   ]
  },
  {
   "cell_type": "code",
   "execution_count": 18,
   "id": "afaf93a6-1850-4b98-9721-34c7148c312f",
   "metadata": {
    "executionInfo": {
     "elapsed": 288,
     "status": "ok",
     "timestamp": 1716211582686,
     "user": {
      "displayName": "오장민 (AI융합학부)",
      "userId": "14191339932351591583"
     },
     "user_tz": -540
    },
    "id": "afaf93a6-1850-4b98-9721-34c7148c312f"
   },
   "outputs": [],
   "source": [
    "def make_dataset(df):\n",
    "    ds = Dataset.from_pandas(pd.concat([df.userId.map(user_map),\n",
    "                              df.movieId.map(item_map),\n",
    "                              df.rating,\n",
    "                              df.plots],\n",
    "                             axis=1)\n",
    "                            )\n",
    "    ds = ds.map(preprocess_function, batched=True)\n",
    "    ds = ds.rename_column(\"userId\", \"user_id\")\n",
    "    ds = ds.rename_column(\"movieId\", \"movie_id\")\n",
    "    ds = ds.rename_column(\"rating\", \"label\")\n",
    "    ds = ds.cast_column('label', Value(\"float\"))\n",
    "    return ds.remove_columns(['plots', 'movie_id'])"
   ]
  },
  {
   "cell_type": "markdown",
   "id": "v4tnqalSq1wp",
   "metadata": {
    "id": "v4tnqalSq1wp"
   },
   "source": [
    "토크나이징"
   ]
  },
  {
   "cell_type": "code",
   "execution_count": 19,
   "id": "9bf133ec-4f26-4f1b-9504-eccee3ae7d41",
   "metadata": {
    "colab": {
     "base_uri": "https://localhost:8080/",
     "height": 145,
     "referenced_widgets": [
      "9b26ca809dfe407298d2a83b934eb59f",
      "da9ebdeaec2148e99e442fa8c7d65500",
      "0d1d6d646016448db42d89a361615d3f",
      "b2581625e0bf4716be3a8d482b45f022",
      "f88c23c699a14b8ab5d0c4c127e2dd23",
      "49391d5afbf94668b8cad796dfeb0ea0",
      "9a410e8d729947dcbda22ab3a1fba286",
      "25f74ea033a94a82a7fc70af9f3319e5",
      "e45aebb7df474ef3bf48b9116c099ae7",
      "1dc047a85ef34f9196a18e863deebe2c",
      "e3fe289ebc9e43189a30cc2b3d893c58",
      "52aef509c21440fa93db49c8896c00a0",
      "2500b9d0026e4cb9bfdeed778996b907",
      "be2799510bcf42f580424b1869a0c1dc",
      "7a10aaa732f840d5bbb9f67fbe4c3966",
      "2e6d902eb05e47ec830755d9c4a5f3db",
      "0c45791ddfb04346b741564338e4e4f0",
      "3d1f9b6fb3524923b56c2e788c6ee7a9",
      "92ae2bccb9e74e1a85b1d60ea0b3eaf5",
      "9309067feaef4e548b82a72bc2c3352b",
      "e64761e61d184b32812a82e71ef69e64",
      "e57ccc5b05014c9a92740e8f4dd42e76",
      "3d17c6245fa3496cbdf929268194ad20",
      "bcc6c01fe01b481eabf99b791a84b471",
      "f5e51b28692841a49cf2c9ceb22c5fbc",
      "1c5737d007ab4e738877ab1e63f8cec6",
      "d0d7201477a34616822338bad9480361",
      "8344795d5fbd4894a57ce981b073d5c7",
      "9761869eddca48fa9848562d548a8607",
      "7fa59e279b994dae8350195e38c84f8e",
      "80e4ee75da0b47729f12ca1a21d78c06",
      "dc0424a4b160434b8515305f6a2ad4dd",
      "f9f9e3325e4949179c321d3458e66fdf",
      "a9f55e9ec7e34294a3d7fb7ae08871d9",
      "4867b4f5c7d74f85a259a6f72e59f7a8",
      "cf9e01b01dbe47bf8be57dd95ffbe00e",
      "70a9d788d64549e5bbf588c323b0ad6b",
      "dfe712ffdd3941338471b0d1066f5114",
      "dcfccfe8d7e541efba45ab2df7b50d45",
      "6d1feceb8c49419fb7c53d8c54eb09d3",
      "56917473b76c4a0a8ce3eb2c8cd34d77",
      "d2f0bc1fd2bf45ae8d4b8adebdebde53",
      "aa2c7b49b1e54d979c10ecf92c351d78",
      "8599fb4939cd4b3f9b7f6d6b1f0bb408"
     ]
    },
    "executionInfo": {
     "elapsed": 159743,
     "status": "ok",
     "timestamp": 1716211745435,
     "user": {
      "displayName": "오장민 (AI융합학부)",
      "userId": "14191339932351591583"
     },
     "user_tz": -540
    },
    "id": "9bf133ec-4f26-4f1b-9504-eccee3ae7d41",
    "outputId": "98d000c3-90e9-47de-bd96-dfde3022285b"
   },
   "outputs": [
    {
     "name": "stderr",
     "output_type": "stream",
     "text": [
      "Map: 100%|██████████| 80000/80000 [00:16<00:00, 4982.79 examples/s]\n",
      "Casting the dataset: 100%|██████████| 80000/80000 [00:00<00:00, 749329.09 examples/s]\n",
      "Map: 100%|██████████| 20000/20000 [00:03<00:00, 5067.84 examples/s]\n",
      "Casting the dataset: 100%|██████████| 20000/20000 [00:00<00:00, 776162.40 examples/s]\n"
     ]
    }
   ],
   "source": [
    "train_ds = make_dataset(train_df)\n",
    "validation_ds = make_dataset(val_df)"
   ]
  },
  {
   "cell_type": "markdown",
   "id": "b3r6M0oqrMy5",
   "metadata": {
    "id": "b3r6M0oqrMy5"
   },
   "source": [
    "포맷 변경\n",
    "- `torch` 포맷으로..."
   ]
  },
  {
   "cell_type": "code",
   "execution_count": 20,
   "id": "375ba13c-8e20-49c3-91c7-b95e66d14c97",
   "metadata": {
    "executionInfo": {
     "elapsed": 460,
     "status": "ok",
     "timestamp": 1716211745892,
     "user": {
      "displayName": "오장민 (AI융합학부)",
      "userId": "14191339932351591583"
     },
     "user_tz": -540
    },
    "id": "375ba13c-8e20-49c3-91c7-b95e66d14c97"
   },
   "outputs": [],
   "source": [
    "train_ds = train_ds.with_format('torch').shuffle(\n",
    "        seed=0\n",
    "    )\n",
    "validation_ds = validation_ds.with_format('torch')\n"
   ]
  },
  {
   "cell_type": "code",
   "execution_count": 23,
   "id": "80d09b0b",
   "metadata": {},
   "outputs": [
    {
     "name": "stdout",
     "output_type": "stream",
     "text": [
      "Dataset({\n",
      "    features: ['user_id', 'label', 'input_ids', 'attention_mask'],\n",
      "    num_rows: 20000\n",
      "})\n",
      "torch.Size([256])\n",
      "Sample 0 input_ids: tensor([  101,  2043,  1037,  2450,  1005,  1055,  2146,  1011,  2051,  2767,\n",
      "         7657,  2002,  1005,  1055,  5117,  1010,  2016, 10919,  2016,  7459,\n",
      "         2032,  2841,  1998,  4520,  2041,  2000,  2131,  2032,  1010,  2007,\n",
      "         2069,  2420,  2077,  1996,  5030,  1012,  1037,  2450,  2040,  1010,\n",
      "         2011,  1037,  4872,  2081,  2086,  3041,  1010,  2003,  4011,  2000,\n",
      "         5914,  2014,  2190,  2767,  1999,  2093,  3134,  1010,  2130,  2295,\n",
      "         2016,  2987,  1005,  1056,  2215,  2000,  1012,  2043,  2016,  4858,\n",
      "         2041,  2008,  2002,  1005,  1055, 13516,  2619,  2842,  1010,  2016,\n",
      "         4150,  9981,  1998,  5363,  2000,  3338,  2125,  1996,  5030,  1012,\n",
      "         1024,  1024,  2728,  1047, 24175, 19779,  5488,  1026,  2962, 18927,\n",
      "         6508,  9905,  1030,  7570, 21397,  1012,  4012,  1028,  2745,  1051,\n",
      "         1005, 11030,  1998,  6426,  2638, 10693,  2031,  2042,  2814,  2005,\n",
      "         2086,  2021,  2043,  2745,  7635,  6426,  2638,  2000,  2425,  2014,\n",
      "         2002,  2003,  2893,  2496,  2000,  1037,  3203,  2170, 23729,  7825,\n",
      "         2016,  2633, 10919,  2002,  2038,  2000,  2425,  2032,  2014,  2995,\n",
      "         5346,  1010,  2029,  2024,  2008,  2016,  7459,  2032,  1012,  2043,\n",
      "         2016,  4152,  2045,  2016,  2064,  1005,  1056,  2079,  2009,  2061,\n",
      "         2016,  5363,  2000,  2079,  2673,  2000,  2131,  2068,  2000,  3338,\n",
      "         2039,  1012,  1024,  1024, 10974, 23858,  2100,  2043,  6426,  2638,\n",
      "         1005,  1055,  2190,  2767,  4136,  2014,  2008,  2002,  2777,  1037,\n",
      "         2450,  1998,  2027,  2024,  2893,  2496,  1999,  2176,  2420,  1010,\n",
      "         2016,  4858,  2041,  2008,  2016,  7459,  2032,  1998,  4122,  2032,\n",
      "         2005,  2841,  1012,  2061,  1010,  2016,  4520,  2041,  2000,  3338,\n",
      "         2125,  1996,  5030,  1010,  2021,  2477,  6011,  2000,  2022,  2428,\n",
      "         3697,  1010,  2144,  1996,  8959,  3849,  2000,  2022,  1000,  1996,\n",
      "         3819,  2450,  1000,  1012,  1024,   102])\n",
      "Sample 1 input_ids: tensor([  101,  1037,  2154,  1999,  1996,  2166,  1997,  1037,  2177,  1997,\n",
      "        13496,  2004,  2027,  3604,  2105,  2047,  2259,  2103, 10080,  1010,\n",
      "         5948,  1010,  9422,  1998, 13366, 27663,  4892,  6261,  2015,  1012,\n",
      "        14888,  1010,  2601,  1010,  2659,  1011,  5166,  2981,  2143,  2055,\n",
      "         9458,  1011,  2287,  2869,  1999,  2047,  2259,  2103,  1012,  1996,\n",
      "         2466,  7679,  2006,  2425,  2100,  1006,  6688, 26249,  1007,  1010,\n",
      "         1037,  9458,  2040,  2038,  1037,  3125,  2000,  2139,  1011,  6546,\n",
      "         2004,  2116,  6261,  2015,  2004,  2002,  2064,  1012,  2043,  2028,\n",
      "         1997,  2010,  2214, 11340,  9418,  2008,  2016,  2003,  1044,  1012,\n",
      "         1045,  1012,  1058,  1012,  1011,  3893,  1010,  2044,  2069,  2028,\n",
      "         8087,  2007,  1037,  3124,  1010,  2425,  2100,  3464,  6151,  4887,\n",
      "        14706,  1012,  1024,  1024, 10786,  1048,  1012,  2310,  2638, 12426,\n",
      "         1026, 11081, 20554, 24096,  1030, 20118,  2140,  1012,  4012,  1028,\n",
      "         4268,  4076,  1037,  2177,  2402,  1010,  4895,  6342,  4842, 11365,\n",
      "         2098,  1010,  2025,  9677,  1010,  2021,  2035,  1011,  2205,  1011,\n",
      "         4961,  1011,  2039,  4268,  1999,  2047,  2259,  1012,  2028,  2611,\n",
      "         2038,  2074,  2042, 11441,  2007,  9820,  1998,  2003,  2667,  2000,\n",
      "         2025,  8757,  1996,  2879,  2040,  2435,  2009,  2000,  2014,  1010,\n",
      "         2040,  2003,  2006,  1037,  8795,  2000, 12581,  8336,  2588,  7036,\n",
      "         3057,  1012,  1996,  2143,  4076,  2122,  3494,  1998,  2037,  2814,\n",
      "         2083,  1996,  2154,  1010,  5689,  2041,  1010,  2652,  1010,  2482,\n",
      "         3560,  2075,  1998,  2183,  2000,  4243,  1012,  2169,  3496,  2003,\n",
      "        23824,  1998, 14888,  1011,  1011, 16636,  2075,  2019,  3923,  4507,\n",
      "         2008,  2950,  5850,  1010,  3348,  1010,  4409,  1010,  1998,  4295,\n",
      "         1025,  1998,  2664,  2196,  5599,  2017,  5293,  2122,  2024,  1008,\n",
      "         4268,  1008,  1010,  2070,  1997,   102])\n",
      "Sample 2 input_ids: tensor([  101,  1037, 13859,  7155,  9005,  1037, 17357,  2008,  3084,  2111,\n",
      "         3342,  2037,  5292,  9397, 10458,  3638,  1010,  1998,  2348,  2009,\n",
      "         1005,  1055,  3144,  1010,  2009,  2038, 15140,  2217,  3896,  1012,\n",
      "         1037,  2136,  1997,  6529,  2551,  2005,  1037, 13859,  2194,  9418,\n",
      "         1037,  9526,  2005,  6245,  1012,  2043,  1996,  2194,  4858,  2993,\n",
      "         1999,  4390, 13732,  1010,  2027,  5481,  1996,  2047,  4319,  2046,\n",
      "         2537,  2302,  2725,  2438,  5604,  1012,  2477,  4025,  2000,  2175,\n",
      "         2986,  2127,  2070,  1997,  1996,  5198,  1997,  1996,  4319,  2707,\n",
      "        11426,  2046, 16571,  2015,  1012,  2009,  4150,  1037,  2679,  2090,\n",
      "         1996,  6529,  2040,  2215,  2000,  2425,  1996,  2088,  1996,  3606,\n",
      "         1998,  1996,  2194,  1005,  1055,  5821,  2533,  2040,  4122,  2000,\n",
      "         4047,  2037,  5618,  7785,  1012,  1024,  1024,  5076,  6156,  6950,\n",
      "         2012,  1037, 13859,  2194,  4503,  2019,  6429,  2047,  3424,  2139,\n",
      "        20110,  4630,  1010,  2029,  2855,  4150,  1996,  2327,  4855,  4319,\n",
      "         1012,  1996,  4319,  2038,  1037,  9202,  2217,  1011,  3466,  1010,\n",
      "         2295,  1010,  1998,  2028,  1997,  1996,  6950,  4152,  5299,  1999,\n",
      "         1037,  2645,  2007,  1996,  2194,  1005,  1055,  5821,  3194,  2000,\n",
      "         3046,  2000,  4139,  1996,  4319,  2125,  1996,  3006,  1012,  1024,\n",
      "         1024,  5529,  1042,  5063, 26036,  8043,  1026,  4642,  2546,  1030,\n",
      "         5658,  7076,  1012,  5658,  1028,   102])\n",
      "tensor([4., 4., 4.])\n"
     ]
    }
   ],
   "source": [
    "## 학습데이터 확인 ##\n",
    "\n",
    "print(validation_ds)\n",
    "\n",
    "\n",
    "print(validation_ds[0]['input_ids'].shape)\n",
    "#input 3개 출력\n",
    "for i in range(3):\n",
    "    print(f\"Sample {i} input_ids:\", validation_ds[i]['input_ids'])\n",
    "\n",
    "\n",
    "#label 3개 출력\n",
    "labels = torch.tensor([example['label'] for example in validation_ds])\n",
    "#print(labels.shape)  # 예: torch.Size([25000])\n",
    "print(labels[:3])   # 앞 3개 출력"
   ]
  },
  {
   "cell_type": "markdown",
   "id": "8b708b03-fa11-4513-9ffc-3b39ff5326d9",
   "metadata": {
    "id": "8b708b03-fa11-4513-9ffc-3b39ff5326d9"
   },
   "source": [
    "## DataCollatorWithPadding\n",
    "\n",
    "모델에 전달할 최종 입력과 출력 가공\n",
    "- 만약 입력이 B개의 미니 배치로 구성될 때\n",
    "- 각 토큰 시퀀스인 `input_ids`의 길이가 다르다면\n",
    "- 끝을 패딩하여, 미니 배치 내의 모든 시퀀스의 길이가 동일하게 해주는 역할\n",
    "- (필요시 출력도 변경...)"
   ]
  },
  {
   "cell_type": "code",
   "execution_count": 24,
   "id": "4ju9flXqr4m4",
   "metadata": {
    "executionInfo": {
     "elapsed": 3,
     "status": "ok",
     "timestamp": 1716211745892,
     "user": {
      "displayName": "오장민 (AI융합학부)",
      "userId": "14191339932351591583"
     },
     "user_tz": -540
    },
    "id": "4ju9flXqr4m4"
   },
   "outputs": [],
   "source": [
    "data_collator = DataCollatorWithPadding(tokenizer=tokenizer)"
   ]
  },
  {
   "cell_type": "markdown",
   "id": "hlnW_iPYr7T2",
   "metadata": {
    "id": "hlnW_iPYr7T2"
   },
   "source": [
    "### DataCollator 테스트"
   ]
  },
  {
   "cell_type": "code",
   "execution_count": 25,
   "id": "0c5563c5-f4f3-45b0-954e-0bae76247318",
   "metadata": {
    "colab": {
     "base_uri": "https://localhost:8080/"
    },
    "executionInfo": {
     "elapsed": 3,
     "status": "ok",
     "timestamp": 1716211745892,
     "user": {
      "displayName": "오장민 (AI융합학부)",
      "userId": "14191339932351591583"
     },
     "user_tz": -540
    },
    "id": "0c5563c5-f4f3-45b0-954e-0bae76247318",
    "outputId": "63011c41-3a9c-409d-b512-55e92fbd0438"
   },
   "outputs": [
    {
     "name": "stdout",
     "output_type": "stream",
     "text": [
      "[210, 256, 256, 256, 210, 256, 256, 256, 256, 256, 256, 256, 256, 256, 256, 110]\n",
      "tensor([  101,  4079, 27850,  1006,  1996,  3002,  1007,  1010,  2003,  1037,\n",
      "        12383,  2005, 10887,  1010,  3005,  6745,  3105,  2000,  8954,  1996,\n",
      "         3595,  2832,  2005,  3147, 10077,  8509,  2032,  2012, 10238,  2007,\n",
      "         1037, 17328,  6260,  2006,  2327, 14353,  1996,  2845,  2231,  1010,\n",
      "         2004,  2092,  2004,  1996,  2450,  2040,  4324,  2049,  3595,  1012,\n",
      "         4079, 27850,  2038,  2053,  2613,  2155,  1010,  2053,  2613,  2188,\n",
      "         1010,  1998,  4079, 27850,  3475,  1005,  1056,  2130,  2010,  2613,\n",
      "         2171,  1012,  2664,  1010,  4079, 27850,  1010,  2036,  2124,  2004,\n",
      "         1996,  3002,  2005,  2010,  2224,  1997,  4526,  6270, 15702,  2478,\n",
      "         1996,  3415,  1997,  3234,  6586,  1010,  2003,  2028,  1997,  1996,\n",
      "         2088,  1005,  1055,  2087,  3144, 15862,  1012, 13554,  1010,  2139,\n",
      "        11735, 11215,  1010,  1998,  1037,  3040,  1997, 14249,  1010,  4079,\n",
      "         9020,  2000,  2041,  9148,  2102,  1996,  2610,  2153,  1998,  2153,\n",
      "         1012,  2006,  2010,  2279,  3105,  1010,  2002,  2003,  5086,  2011,\n",
      "         1996,  2845, 13897,  2000,  8954,  1037,  3147, 10077,  2943,  5675,\n",
      "         2013,  7155,  5616, 18072,  2884,  1012,  2174,  1010,  1996,  3260,\n",
      "         2067, 26332,  2004,  2002,  4212,  2005,  1996,  3492,  1010,  9414,\n",
      "         7155,  1012,  4079,  1998,  2010,  2047,  2293,  2442,  2085,  6133,\n",
      "         2000,  2041,  9148,  2102,  1996,  2845, 13897,  1998,  2147,  2041,\n",
      "         1996,  2943,  5675,  2077,  1996,  5409,  6433,  1010,  1998,  1996,\n",
      "         1057,  1012,  1055,  1012,  2003,  5360,  5091,  1012,  1024,  1024,\n",
      "         3203,  2078,  2487,  4079, 27850,  1010,  1037, 23577,  2171,  1037,\n",
      "         2402, 18211,  2879,  8826,  2005,  2370,  1999,  1037,  4291,  4290,\n",
      "        18504,  2086,  3283,  1010,  2003,  2085,  1037, 10514, 10696,  1010,\n",
      "         2139, 11735, 11215,  1010,  2248, 12383,  2040,  3791,  2000,  4139,\n",
      "         2125,  2074,  2028,  2062,  4654,   102])\n"
     ]
    }
   ],
   "source": [
    "inputs = train_ds[:16]\n",
    "\n",
    "inputs_len = [len(x) for x in inputs['input_ids']]\n",
    "\n",
    "# 입력 시퀀스의 길이 조사\n",
    "print(inputs_len)\n",
    "\n",
    "# 문장들을 배치로 묶고 패딩합니다.\n",
    "batch = data_collator(inputs)\n",
    "\n",
    "# 결과를 출력합니다.\n",
    "#print(batch['input_ids'][15])\n",
    "print(batch['input_ids'][2])"
   ]
  },
  {
   "cell_type": "markdown",
   "id": "0dcebaa6-f405-4186-9c18-007a6af340b2",
   "metadata": {
    "id": "0dcebaa6-f405-4186-9c18-007a6af340b2"
   },
   "source": [
    "# 모델 정의"
   ]
  },
  {
   "cell_type": "markdown",
   "id": "hn4v3FWiuP0e",
   "metadata": {
    "id": "hn4v3FWiuP0e"
   },
   "source": [
    "모델 설정과 모델 클래스 생성\n",
    "- DistilBertForRegressionConfig\n",
    "- DistilBertForRegression"
   ]
  },
  {
   "cell_type": "code",
   "execution_count": 26,
   "id": "93f21069-b98b-4ae4-bdbc-c07320d8be0b",
   "metadata": {
    "executionInfo": {
     "elapsed": 2627,
     "status": "ok",
     "timestamp": 1716211749234,
     "user": {
      "displayName": "오장민 (AI융합학부)",
      "userId": "14191339932351591583"
     },
     "user_tz": -540
    },
    "id": "93f21069-b98b-4ae4-bdbc-c07320d8be0b"
   },
   "outputs": [],
   "source": [
    "from transformers import DistilBertConfig\n",
    "from transformers.modeling_outputs import SequenceClassifierOutput\n",
    "from transformers.models.distilbert.modeling_distilbert import DistilBertModel\n",
    "from transformers.models.distilbert.modeling_distilbert import DistilBertPreTrainedModel\n",
    "\n",
    "# DistilBertConfig를 상속받아 새로운 설정 클래스 정의\n",
    "class DistilBertForRegressionConfig(DistilBertConfig):\n",
    "    def __init__(self, user_num, factor_num, regressor_dropout, *args, **kwargs):\n",
    "        super().__init__(*args, **kwargs)\n",
    "        self.user_num = user_num\n",
    "        self.factor_num = factor_num\n",
    "        self.regressor_dropout = regressor_dropout\n",
    "\n",
    "# DistilBertModel 바디에 Regression 헤드를 추가한 클래스 정의\n",
    "class DistilBertForRegression(DistilBertPreTrainedModel):\n",
    "    config_class = DistilBertForRegressionConfig\n",
    "\n",
    "    def __init__(self, config):\n",
    "        super().__init__(config)\n",
    "\n",
    "        # 유저 임베딩 레이어\n",
    "        self.embed_user = nn.Embedding(config.user_num, config.factor_num)\n",
    "        # 모델 바디\n",
    "        self.distilbert = DistilBertModel(config)\n",
    "        # 예측 헤드\n",
    "        self.regressor_dropout = nn.Dropout(config.regressor_dropout)\n",
    "        self.regressor = nn.Linear(config.hidden_size + config.factor_num, config.num_labels)\n",
    "\n",
    "        # 가중치를 로드하고 초기화\n",
    "        self.init_weights()\n",
    "\n",
    "    def forward(self, user_id=None, input_ids=None, attention_mask=None,\n",
    "                labels=None, **kwargs):\n",
    "        \n",
    "        kwargs.pop('num_items_in_batch', None)\n",
    "        # 유저 임베딩 생성\n",
    "        embed_user_output = self.embed_user(user_id)\n",
    "\n",
    "        # distilbert 출력 생성하고, 맨 앞 토큰의 히든 임베딩을 조회\n",
    "        distilbert_output = self.distilbert(input_ids=input_ids, attention_mask=attention_mask,\n",
    "                               **kwargs)\n",
    "        pooled_output = distilbert_output.last_hidden_state[:, 0]\n",
    "\n",
    "        # 유저 임베딩과 히든 임베딩을 붙임\n",
    "        concat = torch.cat((embed_user_output, pooled_output), -1) # (B, hidden_size+factor_num)\n",
    "\n",
    "        # dropout 통과 및 회귀 결과 생성\n",
    "        sequence_output = self.regressor_dropout(concat)\n",
    "        logits = self.regressor(sequence_output).view(-1) # (B, 1) -> (B, )\n",
    "\n",
    "        # 손실계산\n",
    "        loss = None\n",
    "        if labels is not None:\n",
    "            loss_fct = nn.MSELoss()\n",
    "            loss = loss_fct(logits, labels)\n",
    "\n",
    "        return SequenceClassifierOutput(loss=loss, logits=logits)"
   ]
  },
  {
   "cell_type": "markdown",
   "id": "v3fYLntju_r5",
   "metadata": {
    "id": "v3fYLntju_r5"
   },
   "source": [
    "## 설정 초기화"
   ]
  },
  {
   "cell_type": "code",
   "execution_count": 27,
   "id": "c78d8af0-1bb3-45cd-9e55-0a069e52137c",
   "metadata": {
    "colab": {
     "base_uri": "https://localhost:8080/"
    },
    "executionInfo": {
     "elapsed": 4,
     "status": "ok",
     "timestamp": 1716211749234,
     "user": {
      "displayName": "오장민 (AI융합학부)",
      "userId": "14191339932351591583"
     },
     "user_tz": -540
    },
    "id": "c78d8af0-1bb3-45cd-9e55-0a069e52137c",
    "outputId": "05534936-5405-4e61-96bf-30b0ef4fb13c"
   },
   "outputs": [],
   "source": [
    "from transformers import AutoConfig\n",
    "\n",
    "distil_config = AutoConfig.from_pretrained(pretrained_model_tag,\n",
    "                                           num_labels=1\n",
    "                                          )\n",
    "distil_config.user_num=len(user_map)\n",
    "distil_config.factor_num=32\n",
    "distil_config.regressor_dropout=0.2"
   ]
  },
  {
   "cell_type": "markdown",
   "id": "ff9K2rXxvFjD",
   "metadata": {
    "id": "ff9K2rXxvFjD"
   },
   "source": [
    "## 모델 로딩"
   ]
  },
  {
   "cell_type": "code",
   "execution_count": 28,
   "id": "80cb334b-4e0d-4396-ae5f-26e6ba000043",
   "metadata": {
    "colab": {
     "base_uri": "https://localhost:8080/",
     "height": 104,
     "referenced_widgets": [
      "7b645453d6234990bbb99858ce2b77eb",
      "74dcf346914044cbbfa7f9c7cf3bd24e",
      "af596ef302894ce0b3cc1f7a9fce5961",
      "72a640c050aa4d1d8cd88d3917b30e52",
      "830bf64472d144129c90b879be16922b",
      "cf0caf22508f44b89e1c661fa6b9e30f",
      "53b1d879272b4046b9aa2c51b9e9bf4c",
      "b83cbe763ca847b69ec33543c24c392f",
      "52b662e23f31473c844b58ca461f40ad",
      "55bf521fca8e4d90b0b51b84c871cd95",
      "40950133f563400389a107e000ed6932"
     ]
    },
    "executionInfo": {
     "elapsed": 2135,
     "status": "ok",
     "timestamp": 1716211751366,
     "user": {
      "displayName": "오장민 (AI융합학부)",
      "userId": "14191339932351591583"
     },
     "user_tz": -540
    },
    "id": "80cb334b-4e0d-4396-ae5f-26e6ba000043",
    "outputId": "fb0ffc96-7637-4332-e086-50841ba996b9"
   },
   "outputs": [
    {
     "name": "stderr",
     "output_type": "stream",
     "text": [
      "Some weights of DistilBertForRegression were not initialized from the model checkpoint at distilbert-base-uncased and are newly initialized: ['embed_user.weight', 'regressor.bias', 'regressor.weight']\n",
      "You should probably TRAIN this model on a down-stream task to be able to use it for predictions and inference.\n"
     ]
    }
   ],
   "source": [
    "distil_model = DistilBertForRegression.from_pretrained(pretrained_model_tag, config=distil_config)"
   ]
  },
  {
   "cell_type": "markdown",
   "id": "TsslQM_NvIqW",
   "metadata": {
    "id": "TsslQM_NvIqW"
   },
   "source": [
    "### 모델 아키텍쳐 관찰"
   ]
  },
  {
   "cell_type": "code",
   "execution_count": 29,
   "id": "97510a63-7da8-484d-b69f-9b456a88f1cc",
   "metadata": {
    "colab": {
     "base_uri": "https://localhost:8080/"
    },
    "executionInfo": {
     "elapsed": 2,
     "status": "ok",
     "timestamp": 1716211751366,
     "user": {
      "displayName": "오장민 (AI융합학부)",
      "userId": "14191339932351591583"
     },
     "user_tz": -540
    },
    "id": "97510a63-7da8-484d-b69f-9b456a88f1cc",
    "outputId": "7efbdfa9-2612-4c1f-bebc-74ead459694f"
   },
   "outputs": [
    {
     "data": {
      "text/plain": [
       "DistilBertForRegression(\n",
       "  (embed_user): Embedding(943, 32)\n",
       "  (distilbert): DistilBertModel(\n",
       "    (embeddings): Embeddings(\n",
       "      (word_embeddings): Embedding(30522, 768, padding_idx=0)\n",
       "      (position_embeddings): Embedding(512, 768)\n",
       "      (LayerNorm): LayerNorm((768,), eps=1e-12, elementwise_affine=True)\n",
       "      (dropout): Dropout(p=0.1, inplace=False)\n",
       "    )\n",
       "    (transformer): Transformer(\n",
       "      (layer): ModuleList(\n",
       "        (0-5): 6 x TransformerBlock(\n",
       "          (attention): MultiHeadSelfAttention(\n",
       "            (dropout): Dropout(p=0.1, inplace=False)\n",
       "            (q_lin): Linear(in_features=768, out_features=768, bias=True)\n",
       "            (k_lin): Linear(in_features=768, out_features=768, bias=True)\n",
       "            (v_lin): Linear(in_features=768, out_features=768, bias=True)\n",
       "            (out_lin): Linear(in_features=768, out_features=768, bias=True)\n",
       "          )\n",
       "          (sa_layer_norm): LayerNorm((768,), eps=1e-12, elementwise_affine=True)\n",
       "          (ffn): FFN(\n",
       "            (dropout): Dropout(p=0.1, inplace=False)\n",
       "            (lin1): Linear(in_features=768, out_features=3072, bias=True)\n",
       "            (lin2): Linear(in_features=3072, out_features=768, bias=True)\n",
       "            (activation): GELUActivation()\n",
       "          )\n",
       "          (output_layer_norm): LayerNorm((768,), eps=1e-12, elementwise_affine=True)\n",
       "        )\n",
       "      )\n",
       "    )\n",
       "  )\n",
       "  (regressor_dropout): Dropout(p=0.2, inplace=False)\n",
       "  (regressor): Linear(in_features=800, out_features=1, bias=True)\n",
       ")"
      ]
     },
     "execution_count": 29,
     "metadata": {},
     "output_type": "execute_result"
    }
   ],
   "source": [
    "distil_model"
   ]
  },
  {
   "cell_type": "code",
   "execution_count": 30,
   "id": "21e3e555-face-42b4-a6ff-c42c59da9a21",
   "metadata": {
    "id": "21e3e555-face-42b4-a6ff-c42c59da9a21"
   },
   "outputs": [],
   "source": [
    "# distil_model(**batch)"
   ]
  },
  {
   "cell_type": "markdown",
   "id": "wQj4vRyTvT24",
   "metadata": {
    "id": "wQj4vRyTvT24"
   },
   "source": [
    "## 훈련 변수 설정"
   ]
  },
  {
   "cell_type": "code",
   "execution_count": 31,
   "id": "930ac9ed-67b2-4d38-a4e6-5c2776a8aad0",
   "metadata": {
    "executionInfo": {
     "elapsed": 292,
     "status": "ok",
     "timestamp": 1716211751657,
     "user": {
      "displayName": "오장민 (AI융합학부)",
      "userId": "14191339932351591583"
     },
     "user_tz": -540
    },
    "id": "930ac9ed-67b2-4d38-a4e6-5c2776a8aad0"
   },
   "outputs": [],
   "source": [
    "from transformers import TrainingArguments\n",
    "\n",
    "num_epochs = 3\n",
    "# 코랩에서 GPU 메모리 부족 에러가 나는 경우 batch_size를 16,32 등으로 줄여보자\n",
    "batch_size = 64\n",
    "logging_steps = len(train_ds) // batch_size\n",
    "model_name = f\"distilbert-fine-tuned\"\n",
    "training_args = TrainingArguments(\n",
    "    output_dir=model_name, log_level=\"error\", num_train_epochs=num_epochs,\n",
    "    per_device_train_batch_size=batch_size,\n",
    "    per_device_eval_batch_size=batch_size, eval_strategy=\"epoch\",\n",
    "    save_steps=1e6, weight_decay=0.01, disable_tqdm=False,\n",
    "    logging_steps=logging_steps, push_to_hub=False)"
   ]
  },
  {
   "cell_type": "markdown",
   "id": "81stOzeSvYrp",
   "metadata": {
    "id": "81stOzeSvYrp"
   },
   "source": [
    "## 메트릭 정의 (MAE)"
   ]
  },
  {
   "cell_type": "code",
   "execution_count": 32,
   "id": "7f14f423-1de0-4aa3-aeea-23af3016499b",
   "metadata": {
    "executionInfo": {
     "elapsed": 1,
     "status": "ok",
     "timestamp": 1716211751657,
     "user": {
      "displayName": "오장민 (AI융합학부)",
      "userId": "14191339932351591583"
     },
     "user_tz": -540
    },
    "id": "7f14f423-1de0-4aa3-aeea-23af3016499b"
   },
   "outputs": [],
   "source": [
    "from sklearn.metrics import mean_absolute_error\n",
    "\n",
    "def compute_metrics(eval_pred):\n",
    "    predictions, labels = eval_pred\n",
    "    predictions = predictions.squeeze()  # if necessary\n",
    "    return {'mae': mean_absolute_error(labels, predictions)}"
   ]
  },
  {
   "cell_type": "markdown",
   "id": "SuePVWb-vdkZ",
   "metadata": {
    "id": "SuePVWb-vdkZ"
   },
   "source": [
    "## 트레이너 생성"
   ]
  },
  {
   "cell_type": "code",
   "execution_count": 33,
   "id": "2fb278a2-1d31-4ac4-be10-fd8d918048b2",
   "metadata": {
    "executionInfo": {
     "elapsed": 818,
     "status": "ok",
     "timestamp": 1716211752474,
     "user": {
      "displayName": "오장민 (AI융합학부)",
      "userId": "14191339932351591583"
     },
     "user_tz": -540
    },
    "id": "2fb278a2-1d31-4ac4-be10-fd8d918048b2"
   },
   "outputs": [
    {
     "name": "stderr",
     "output_type": "stream",
     "text": [
      "/var/folders/4n/97qjc42s3934wcg3h06zcych0000gn/T/ipykernel_41188/3681518013.py:3: FutureWarning: `tokenizer` is deprecated and will be removed in version 5.0.0 for `Trainer.__init__`. Use `processing_class` instead.\n",
      "  trainer = Trainer(model=distil_model, args=training_args,\n"
     ]
    }
   ],
   "source": [
    "from transformers import Trainer\n",
    "\n",
    "trainer = Trainer(model=distil_model, args=training_args,\n",
    "                  data_collator=data_collator, compute_metrics=compute_metrics,\n",
    "                  train_dataset=train_ds,\n",
    "                  eval_dataset=validation_ds,\n",
    "                  tokenizer=tokenizer)"
   ]
  },
  {
   "cell_type": "code",
   "execution_count": 34,
   "id": "739029cc-3cae-4c5f-8187-62ce1df0cfdb",
   "metadata": {
    "executionInfo": {
     "elapsed": 1,
     "status": "ok",
     "timestamp": 1716211752474,
     "user": {
      "displayName": "오장민 (AI융합학부)",
      "userId": "14191339932351591583"
     },
     "user_tz": -540
    },
    "id": "739029cc-3cae-4c5f-8187-62ce1df0cfdb"
   },
   "outputs": [],
   "source": [
    "distil_model.config.use_cache = False"
   ]
  },
  {
   "cell_type": "markdown",
   "id": "RpY7D5RPvick",
   "metadata": {
    "id": "RpY7D5RPvick"
   },
   "source": [
    "# 훈련 실시"
   ]
  },
  {
   "cell_type": "markdown",
   "id": "D-WqduX23BBC",
   "metadata": {
    "id": "D-WqduX23BBC"
   },
   "source": [
    "수행시간\n",
    "- Colab T4: 1시간30분\n",
    "- RTX 4090: 8분 30초\n",
    "- Titan RTX: 27분 10초\n",
    "- Macpro M1_max: 1시간23분"
   ]
  },
  {
   "cell_type": "code",
   "execution_count": 35,
   "id": "adfaedbb-cf29-4e7d-ace8-cc3d4be4bf23",
   "metadata": {
    "colab": {
     "base_uri": "https://localhost:8080/",
     "height": 169
    },
    "executionInfo": {
     "elapsed": 5325608,
     "status": "ok",
     "timestamp": 1716217079153,
     "user": {
      "displayName": "오장민 (AI융합학부)",
      "userId": "14191339932351591583"
     },
     "user_tz": -540
    },
    "id": "adfaedbb-cf29-4e7d-ace8-cc3d4be4bf23",
    "outputId": "740ea3e5-309e-4521-e930-0a64a1de0f8a"
   },
   "outputs": [
    {
     "data": {
      "text/html": [
       "\n",
       "    <div>\n",
       "      \n",
       "      <progress value='3750' max='3750' style='width:300px; height:20px; vertical-align: middle;'></progress>\n",
       "      [3750/3750 1:23:25, Epoch 3/3]\n",
       "    </div>\n",
       "    <table border=\"1\" class=\"dataframe\">\n",
       "  <thead>\n",
       " <tr style=\"text-align: left;\">\n",
       "      <th>Epoch</th>\n",
       "      <th>Training Loss</th>\n",
       "      <th>Validation Loss</th>\n",
       "      <th>Mae</th>\n",
       "    </tr>\n",
       "  </thead>\n",
       "  <tbody>\n",
       "    <tr>\n",
       "      <td>1</td>\n",
       "      <td>1.141600</td>\n",
       "      <td>1.087039</td>\n",
       "      <td>0.824280</td>\n",
       "    </tr>\n",
       "    <tr>\n",
       "      <td>2</td>\n",
       "      <td>1.040900</td>\n",
       "      <td>1.092121</td>\n",
       "      <td>0.822595</td>\n",
       "    </tr>\n",
       "    <tr>\n",
       "      <td>3</td>\n",
       "      <td>1.010300</td>\n",
       "      <td>1.049528</td>\n",
       "      <td>0.814847</td>\n",
       "    </tr>\n",
       "  </tbody>\n",
       "</table><p>"
      ],
      "text/plain": [
       "<IPython.core.display.HTML object>"
      ]
     },
     "metadata": {},
     "output_type": "display_data"
    }
   ],
   "source": [
    "train_result = trainer.train()"
   ]
  },
  {
   "cell_type": "markdown",
   "id": "1gRCjYZLumEZ",
   "metadata": {
    "id": "1gRCjYZLumEZ"
   },
   "source": [
    "## 훈련 결과 저장"
   ]
  },
  {
   "cell_type": "code",
   "execution_count": 36,
   "id": "32a583a9-c128-43e0-b358-ff5f6420eeec",
   "metadata": {
    "executionInfo": {
     "elapsed": 2009,
     "status": "ok",
     "timestamp": 1716217081142,
     "user": {
      "displayName": "오장민 (AI융합학부)",
      "userId": "14191339932351591583"
     },
     "user_tz": -540
    },
    "id": "32a583a9-c128-43e0-b358-ff5f6420eeec"
   },
   "outputs": [],
   "source": [
    "trainer.save_model()"
   ]
  },
  {
   "cell_type": "markdown",
   "id": "TwiR7BNYxtIB",
   "metadata": {
    "id": "TwiR7BNYxtIB"
   },
   "source": [
    "## 예측"
   ]
  },
  {
   "cell_type": "code",
   "execution_count": 37,
   "id": "jdxqy22QxsT9",
   "metadata": {
    "colab": {
     "base_uri": "https://localhost:8080/",
     "height": 17
    },
    "executionInfo": {
     "elapsed": 144369,
     "status": "ok",
     "timestamp": 1716217225506,
     "user": {
      "displayName": "오장민 (AI융합학부)",
      "userId": "14191339932351591583"
     },
     "user_tz": -540
    },
    "id": "jdxqy22QxsT9",
    "outputId": "29135ff9-e64e-43af-8bfb-a05ad2675a8d"
   },
   "outputs": [
    {
     "data": {
      "text/html": [],
      "text/plain": [
       "<IPython.core.display.HTML object>"
      ]
     },
     "metadata": {},
     "output_type": "display_data"
    }
   ],
   "source": [
    "predictions = trainer.predict(validation_ds)\n"
   ]
  },
  {
   "cell_type": "code",
   "execution_count": 38,
   "id": "J5UDjXZuxyjB",
   "metadata": {
    "colab": {
     "base_uri": "https://localhost:8080/"
    },
    "executionInfo": {
     "elapsed": 594,
     "status": "ok",
     "timestamp": 1716217226091,
     "user": {
      "displayName": "오장민 (AI융합학부)",
      "userId": "14191339932351591583"
     },
     "user_tz": -540
    },
    "id": "J5UDjXZuxyjB",
    "outputId": "910adb5c-e309-4162-cdd5-8cf9b6fe0f52"
   },
   "outputs": [
    {
     "data": {
      "text/plain": [
       "[(1.9188912, 1.0),\n",
       " (1.9347687, 1.0),\n",
       " (1.987005, 1.0),\n",
       " (1.9890965, 1.0),\n",
       " (1.9941037, 1.0),\n",
       " (2.004974, 1.0),\n",
       " (2.0071006, 1.0),\n",
       " (2.0083272, 1.0),\n",
       " (2.0106902, 2.0),\n",
       " (2.0115013, 1.0),\n",
       " (2.012013, 1.0),\n",
       " (2.0151231, 1.0),\n",
       " (2.0211954, 1.0),\n",
       " (2.0243669, 3.0),\n",
       " (2.0268574, 1.0),\n",
       " (2.0327454, 1.0),\n",
       " (2.0329943, 2.0),\n",
       " (2.0572102, 1.0),\n",
       " (2.0613518, 3.0),\n",
       " (2.0643582, 4.0),\n",
       " (2.064654, 1.0),\n",
       " (2.0664291, 3.0),\n",
       " (2.0673385, 1.0),\n",
       " (2.0702796, 1.0),\n",
       " (2.0733643, 3.0),\n",
       " (2.0734317, 1.0),\n",
       " (2.0785325, 1.0),\n",
       " (2.0823674, 1.0),\n",
       " (2.0909634, 3.0),\n",
       " (2.0969539, 3.0),\n",
       " (2.098423, 1.0),\n",
       " (2.0985918, 1.0),\n",
       " (2.099485, 2.0),\n",
       " (2.0996778, 1.0),\n",
       " (2.1062465, 1.0),\n",
       " (2.106304, 2.0),\n",
       " (2.1069317, 1.0),\n",
       " (2.1094403, 1.0),\n",
       " (2.1103594, 3.0),\n",
       " (2.1120958, 3.0),\n",
       " (2.1164465, 4.0),\n",
       " (2.1176982, 2.0),\n",
       " (2.1179123, 2.0),\n",
       " (2.1189203, 4.0),\n",
       " (2.1211483, 4.0),\n",
       " (2.121932, 1.0),\n",
       " (2.1224303, 3.0),\n",
       " (2.1239653, 1.0),\n",
       " (2.1255815, 3.0),\n",
       " (2.128141, 4.0),\n",
       " (2.1284375, 3.0),\n",
       " (2.129563, 1.0),\n",
       " (2.1303864, 1.0),\n",
       " (2.1305203, 4.0),\n",
       " (2.1316023, 1.0),\n",
       " (2.136634, 1.0),\n",
       " (2.1377807, 1.0),\n",
       " (2.1397543, 1.0),\n",
       " (2.140336, 1.0),\n",
       " (2.1403944, 1.0),\n",
       " (2.1423569, 1.0),\n",
       " (2.1426122, 3.0),\n",
       " (2.1427743, 2.0),\n",
       " (2.1438866, 1.0),\n",
       " (2.1491692, 2.0),\n",
       " (2.1537323, 1.0),\n",
       " (2.155952, 1.0),\n",
       " (2.1570911, 2.0),\n",
       " (2.1572366, 1.0),\n",
       " (2.157497, 1.0),\n",
       " (2.158541, 3.0),\n",
       " (2.1617253, 1.0),\n",
       " (2.162169, 1.0),\n",
       " (2.1625693, 2.0),\n",
       " (2.1631393, 5.0),\n",
       " (2.164085, 4.0),\n",
       " (2.1641006, 1.0),\n",
       " (2.1656291, 1.0),\n",
       " (2.1662629, 2.0),\n",
       " (2.1676736, 1.0),\n",
       " (2.1688273, 1.0),\n",
       " (2.1700754, 2.0),\n",
       " (2.1703072, 2.0),\n",
       " (2.170782, 1.0),\n",
       " (2.1711047, 1.0),\n",
       " (2.1717808, 2.0),\n",
       " (2.173533, 4.0),\n",
       " (2.173926, 3.0),\n",
       " (2.1744375, 3.0),\n",
       " (2.1767378, 1.0),\n",
       " (2.1801438, 1.0),\n",
       " (2.181044, 3.0),\n",
       " (2.1818085, 2.0),\n",
       " (2.1832457, 3.0),\n",
       " (2.183278, 1.0),\n",
       " (2.1844952, 2.0),\n",
       " (2.1848373, 1.0),\n",
       " (2.1854825, 3.0),\n",
       " (2.1860414, 2.0),\n",
       " (2.1866398, 3.0)]"
      ]
     },
     "execution_count": 38,
     "metadata": {},
     "output_type": "execute_result"
    }
   ],
   "source": [
    "sorted(zip(predictions.predictions, validation_ds['label'].numpy()), key=lambda x: x[0])[:100]\n"
   ]
  },
  {
   "cell_type": "code",
   "execution_count": 39,
   "id": "goFUPJHSxxmJ",
   "metadata": {
    "colab": {
     "base_uri": "https://localhost:8080/"
    },
    "executionInfo": {
     "elapsed": 8,
     "status": "ok",
     "timestamp": 1716217226091,
     "user": {
      "displayName": "오장민 (AI융합학부)",
      "userId": "14191339932351591583"
     },
     "user_tz": -540
    },
    "id": "goFUPJHSxxmJ",
    "outputId": "5294b367-7ff2-411a-c0dc-e7536b59b4e1"
   },
   "outputs": [
    {
     "data": {
      "text/plain": [
       "[(4.5639343, 4.0),\n",
       " (4.5646324, 5.0),\n",
       " (4.5648265, 5.0),\n",
       " (4.565353, 5.0),\n",
       " (4.5655136, 5.0),\n",
       " (4.5655694, 4.0),\n",
       " (4.5681753, 5.0),\n",
       " (4.5684333, 5.0),\n",
       " (4.569118, 5.0),\n",
       " (4.569959, 5.0),\n",
       " (4.5704103, 4.0),\n",
       " (4.5704885, 5.0),\n",
       " (4.571491, 1.0),\n",
       " (4.571973, 4.0),\n",
       " (4.5721765, 5.0),\n",
       " (4.5731106, 4.0),\n",
       " (4.574251, 5.0),\n",
       " (4.574787, 4.0),\n",
       " (4.5751376, 4.0),\n",
       " (4.5755534, 5.0),\n",
       " (4.5758653, 5.0),\n",
       " (4.5761213, 5.0),\n",
       " (4.5766215, 5.0),\n",
       " (4.577599, 5.0),\n",
       " (4.5783644, 4.0),\n",
       " (4.5786834, 5.0),\n",
       " (4.5800796, 5.0),\n",
       " (4.5819006, 3.0),\n",
       " (4.5819335, 4.0),\n",
       " (4.5822997, 1.0),\n",
       " (4.5830164, 5.0),\n",
       " (4.583258, 4.0),\n",
       " (4.584028, 5.0),\n",
       " (4.585916, 5.0),\n",
       " (4.586161, 4.0),\n",
       " (4.5863304, 4.0),\n",
       " (4.587627, 4.0),\n",
       " (4.5881886, 3.0),\n",
       " (4.5883865, 4.0),\n",
       " (4.58868, 5.0),\n",
       " (4.5888815, 5.0),\n",
       " (4.5900717, 5.0),\n",
       " (4.590628, 5.0),\n",
       " (4.591888, 3.0),\n",
       " (4.592698, 5.0),\n",
       " (4.594973, 3.0),\n",
       " (4.597542, 4.0),\n",
       " (4.598497, 5.0),\n",
       " (4.601621, 5.0),\n",
       " (4.6031046, 5.0),\n",
       " (4.605293, 5.0),\n",
       " (4.6053843, 3.0),\n",
       " (4.6059957, 5.0),\n",
       " (4.6064844, 5.0),\n",
       " (4.6069446, 4.0),\n",
       " (4.60786, 5.0),\n",
       " (4.6099057, 5.0),\n",
       " (4.6106334, 5.0),\n",
       " (4.6107574, 5.0),\n",
       " (4.6128407, 3.0),\n",
       " (4.619349, 5.0),\n",
       " (4.619849, 5.0),\n",
       " (4.6233077, 5.0),\n",
       " (4.639869, 5.0),\n",
       " (4.6471477, 2.0),\n",
       " (4.652379, 2.0),\n",
       " (4.664936, 4.0),\n",
       " (4.666476, 5.0),\n",
       " (4.666606, 5.0),\n",
       " (4.6734576, 4.0),\n",
       " (4.67491, 4.0),\n",
       " (4.676121, 5.0),\n",
       " (4.679602, 5.0),\n",
       " (4.680179, 4.0),\n",
       " (4.680885, 4.0),\n",
       " (4.681005, 4.0),\n",
       " (4.6818156, 5.0),\n",
       " (4.682182, 5.0),\n",
       " (4.683704, 5.0),\n",
       " (4.6847034, 5.0),\n",
       " (4.6874127, 5.0),\n",
       " (4.687583, 5.0),\n",
       " (4.6876793, 5.0),\n",
       " (4.688935, 5.0),\n",
       " (4.6916866, 5.0),\n",
       " (4.6928144, 5.0),\n",
       " (4.694239, 5.0),\n",
       " (4.6963615, 5.0),\n",
       " (4.697611, 4.0),\n",
       " (4.700497, 4.0),\n",
       " (4.700618, 3.0),\n",
       " (4.700749, 1.0),\n",
       " (4.7008433, 5.0),\n",
       " (4.706164, 4.0),\n",
       " (4.7113585, 5.0),\n",
       " (4.7165895, 5.0),\n",
       " (4.7225537, 4.0),\n",
       " (4.7280784, 4.0),\n",
       " (4.732037, 5.0),\n",
       " (4.733179, 5.0)]"
      ]
     },
     "execution_count": 39,
     "metadata": {},
     "output_type": "execute_result"
    }
   ],
   "source": [
    "sorted(zip(predictions.predictions, validation_ds['label'].numpy()), key=lambda x: x[0])[-100:]"
   ]
  },
  {
   "cell_type": "code",
   "execution_count": 40,
   "id": "1264887c",
   "metadata": {},
   "outputs": [
    {
     "name": "stdout",
     "output_type": "stream",
     "text": [
      "MAE: 0.8148\n"
     ]
    }
   ],
   "source": [
    "preds = predictions.predictions.flatten()  # 예측값 (1D로 변형)\n",
    "labels = validation_ds['label'].numpy()\n",
    "mae = mean_absolute_error(labels, preds)\n",
    "print(f\"MAE: {mae:.4f}\")"
   ]
  },
  {
   "cell_type": "code",
   "execution_count": null,
   "id": "21340ec0",
   "metadata": {},
   "outputs": [],
   "source": []
  }
 ],
 "metadata": {
  "accelerator": "GPU",
  "colab": {
   "gpuType": "T4",
   "provenance": [],
   "toc_visible": true
  },
  "kernelspec": {
   "display_name": "noise_control",
   "language": "python",
   "name": "python3"
  },
  "language_info": {
   "codemirror_mode": {
    "name": "ipython",
    "version": 3
   },
   "file_extension": ".py",
   "mimetype": "text/x-python",
   "name": "python",
   "nbconvert_exporter": "python",
   "pygments_lexer": "ipython3",
   "version": "3.9.7"
  },
  "widgets": {
   "application/vnd.jupyter.widget-state+json": {
    "003efd12dd7c43788773f87022608cd2": {
     "model_module": "@jupyter-widgets/base",
     "model_module_version": "1.2.0",
     "model_name": "LayoutModel",
     "state": {
      "_model_module": "@jupyter-widgets/base",
      "_model_module_version": "1.2.0",
      "_model_name": "LayoutModel",
      "_view_count": null,
      "_view_module": "@jupyter-widgets/base",
      "_view_module_version": "1.2.0",
      "_view_name": "LayoutView",
      "align_content": null,
      "align_items": null,
      "align_self": null,
      "border": null,
      "bottom": null,
      "display": null,
      "flex": null,
      "flex_flow": null,
      "grid_area": null,
      "grid_auto_columns": null,
      "grid_auto_flow": null,
      "grid_auto_rows": null,
      "grid_column": null,
      "grid_gap": null,
      "grid_row": null,
      "grid_template_areas": null,
      "grid_template_columns": null,
      "grid_template_rows": null,
      "height": null,
      "justify_content": null,
      "justify_items": null,
      "left": null,
      "margin": null,
      "max_height": null,
      "max_width": null,
      "min_height": null,
      "min_width": null,
      "object_fit": null,
      "object_position": null,
      "order": null,
      "overflow": null,
      "overflow_x": null,
      "overflow_y": null,
      "padding": null,
      "right": null,
      "top": null,
      "visibility": null,
      "width": null
     }
    },
    "0c1cd7b8b6b24eb98723714e53cec710": {
     "model_module": "@jupyter-widgets/base",
     "model_module_version": "1.2.0",
     "model_name": "LayoutModel",
     "state": {
      "_model_module": "@jupyter-widgets/base",
      "_model_module_version": "1.2.0",
      "_model_name": "LayoutModel",
      "_view_count": null,
      "_view_module": "@jupyter-widgets/base",
      "_view_module_version": "1.2.0",
      "_view_name": "LayoutView",
      "align_content": null,
      "align_items": null,
      "align_self": null,
      "border": null,
      "bottom": null,
      "display": null,
      "flex": null,
      "flex_flow": null,
      "grid_area": null,
      "grid_auto_columns": null,
      "grid_auto_flow": null,
      "grid_auto_rows": null,
      "grid_column": null,
      "grid_gap": null,
      "grid_row": null,
      "grid_template_areas": null,
      "grid_template_columns": null,
      "grid_template_rows": null,
      "height": null,
      "justify_content": null,
      "justify_items": null,
      "left": null,
      "margin": null,
      "max_height": null,
      "max_width": null,
      "min_height": null,
      "min_width": null,
      "object_fit": null,
      "object_position": null,
      "order": null,
      "overflow": null,
      "overflow_x": null,
      "overflow_y": null,
      "padding": null,
      "right": null,
      "top": null,
      "visibility": null,
      "width": null
     }
    },
    "0c45791ddfb04346b741564338e4e4f0": {
     "model_module": "@jupyter-widgets/base",
     "model_module_version": "1.2.0",
     "model_name": "LayoutModel",
     "state": {
      "_model_module": "@jupyter-widgets/base",
      "_model_module_version": "1.2.0",
      "_model_name": "LayoutModel",
      "_view_count": null,
      "_view_module": "@jupyter-widgets/base",
      "_view_module_version": "1.2.0",
      "_view_name": "LayoutView",
      "align_content": null,
      "align_items": null,
      "align_self": null,
      "border": null,
      "bottom": null,
      "display": null,
      "flex": null,
      "flex_flow": null,
      "grid_area": null,
      "grid_auto_columns": null,
      "grid_auto_flow": null,
      "grid_auto_rows": null,
      "grid_column": null,
      "grid_gap": null,
      "grid_row": null,
      "grid_template_areas": null,
      "grid_template_columns": null,
      "grid_template_rows": null,
      "height": null,
      "justify_content": null,
      "justify_items": null,
      "left": null,
      "margin": null,
      "max_height": null,
      "max_width": null,
      "min_height": null,
      "min_width": null,
      "object_fit": null,
      "object_position": null,
      "order": null,
      "overflow": null,
      "overflow_x": null,
      "overflow_y": null,
      "padding": null,
      "right": null,
      "top": null,
      "visibility": null,
      "width": null
     }
    },
    "0d1d6d646016448db42d89a361615d3f": {
     "model_module": "@jupyter-widgets/controls",
     "model_module_version": "1.5.0",
     "model_name": "FloatProgressModel",
     "state": {
      "_dom_classes": [],
      "_model_module": "@jupyter-widgets/controls",
      "_model_module_version": "1.5.0",
      "_model_name": "FloatProgressModel",
      "_view_count": null,
      "_view_module": "@jupyter-widgets/controls",
      "_view_module_version": "1.5.0",
      "_view_name": "ProgressView",
      "bar_style": "success",
      "description": "",
      "description_tooltip": null,
      "layout": "IPY_MODEL_25f74ea033a94a82a7fc70af9f3319e5",
      "max": 80000,
      "min": 0,
      "orientation": "horizontal",
      "style": "IPY_MODEL_e45aebb7df474ef3bf48b9116c099ae7",
      "value": 80000
     }
    },
    "111cf8dfc6574087bcb4e93978a4e028": {
     "model_module": "@jupyter-widgets/controls",
     "model_module_version": "1.5.0",
     "model_name": "FloatProgressModel",
     "state": {
      "_dom_classes": [],
      "_model_module": "@jupyter-widgets/controls",
      "_model_module_version": "1.5.0",
      "_model_name": "FloatProgressModel",
      "_view_count": null,
      "_view_module": "@jupyter-widgets/controls",
      "_view_module_version": "1.5.0",
      "_view_name": "ProgressView",
      "bar_style": "success",
      "description": "",
      "description_tooltip": null,
      "layout": "IPY_MODEL_ed0562cec30b4f18872f2baf433278b9",
      "max": 48,
      "min": 0,
      "orientation": "horizontal",
      "style": "IPY_MODEL_5c8ba26b52404e909d34581895b6ea74",
      "value": 48
     }
    },
    "15558466e3484cccbddcd7cada8e740e": {
     "model_module": "@jupyter-widgets/base",
     "model_module_version": "1.2.0",
     "model_name": "LayoutModel",
     "state": {
      "_model_module": "@jupyter-widgets/base",
      "_model_module_version": "1.2.0",
      "_model_name": "LayoutModel",
      "_view_count": null,
      "_view_module": "@jupyter-widgets/base",
      "_view_module_version": "1.2.0",
      "_view_name": "LayoutView",
      "align_content": null,
      "align_items": null,
      "align_self": null,
      "border": null,
      "bottom": null,
      "display": null,
      "flex": null,
      "flex_flow": null,
      "grid_area": null,
      "grid_auto_columns": null,
      "grid_auto_flow": null,
      "grid_auto_rows": null,
      "grid_column": null,
      "grid_gap": null,
      "grid_row": null,
      "grid_template_areas": null,
      "grid_template_columns": null,
      "grid_template_rows": null,
      "height": null,
      "justify_content": null,
      "justify_items": null,
      "left": null,
      "margin": null,
      "max_height": null,
      "max_width": null,
      "min_height": null,
      "min_width": null,
      "object_fit": null,
      "object_position": null,
      "order": null,
      "overflow": null,
      "overflow_x": null,
      "overflow_y": null,
      "padding": null,
      "right": null,
      "top": null,
      "visibility": null,
      "width": null
     }
    },
    "1c5737d007ab4e738877ab1e63f8cec6": {
     "model_module": "@jupyter-widgets/controls",
     "model_module_version": "1.5.0",
     "model_name": "HTMLModel",
     "state": {
      "_dom_classes": [],
      "_model_module": "@jupyter-widgets/controls",
      "_model_module_version": "1.5.0",
      "_model_name": "HTMLModel",
      "_view_count": null,
      "_view_module": "@jupyter-widgets/controls",
      "_view_module_version": "1.5.0",
      "_view_name": "HTMLView",
      "description": "",
      "description_tooltip": null,
      "layout": "IPY_MODEL_dc0424a4b160434b8515305f6a2ad4dd",
      "placeholder": "​",
      "style": "IPY_MODEL_f9f9e3325e4949179c321d3458e66fdf",
      "value": " 20000/20000 [00:31&lt;00:00, 701.15 examples/s]"
     }
    },
    "1dc047a85ef34f9196a18e863deebe2c": {
     "model_module": "@jupyter-widgets/base",
     "model_module_version": "1.2.0",
     "model_name": "LayoutModel",
     "state": {
      "_model_module": "@jupyter-widgets/base",
      "_model_module_version": "1.2.0",
      "_model_name": "LayoutModel",
      "_view_count": null,
      "_view_module": "@jupyter-widgets/base",
      "_view_module_version": "1.2.0",
      "_view_name": "LayoutView",
      "align_content": null,
      "align_items": null,
      "align_self": null,
      "border": null,
      "bottom": null,
      "display": null,
      "flex": null,
      "flex_flow": null,
      "grid_area": null,
      "grid_auto_columns": null,
      "grid_auto_flow": null,
      "grid_auto_rows": null,
      "grid_column": null,
      "grid_gap": null,
      "grid_row": null,
      "grid_template_areas": null,
      "grid_template_columns": null,
      "grid_template_rows": null,
      "height": null,
      "justify_content": null,
      "justify_items": null,
      "left": null,
      "margin": null,
      "max_height": null,
      "max_width": null,
      "min_height": null,
      "min_width": null,
      "object_fit": null,
      "object_position": null,
      "order": null,
      "overflow": null,
      "overflow_x": null,
      "overflow_y": null,
      "padding": null,
      "right": null,
      "top": null,
      "visibility": null,
      "width": null
     }
    },
    "1dc84e7f1e6c4963b867b828ecb52279": {
     "model_module": "@jupyter-widgets/controls",
     "model_module_version": "1.5.0",
     "model_name": "HBoxModel",
     "state": {
      "_dom_classes": [],
      "_model_module": "@jupyter-widgets/controls",
      "_model_module_version": "1.5.0",
      "_model_name": "HBoxModel",
      "_view_count": null,
      "_view_module": "@jupyter-widgets/controls",
      "_view_module_version": "1.5.0",
      "_view_name": "HBoxView",
      "box_style": "",
      "children": [
       "IPY_MODEL_3a5e01f6a6ce4304bd8ff3d9d1177036",
       "IPY_MODEL_6bece8f993534173bb24cfaba6dee60e",
       "IPY_MODEL_9e30001e4de24f9eac8e8fdb2d0ce8da"
      ],
      "layout": "IPY_MODEL_59380d51e9a24f3cac3977cf8cd05b6a"
     }
    },
    "1e88da398e4746cbb393a1bb5262c4ee": {
     "model_module": "@jupyter-widgets/controls",
     "model_module_version": "1.5.0",
     "model_name": "ProgressStyleModel",
     "state": {
      "_model_module": "@jupyter-widgets/controls",
      "_model_module_version": "1.5.0",
      "_model_name": "ProgressStyleModel",
      "_view_count": null,
      "_view_module": "@jupyter-widgets/base",
      "_view_module_version": "1.2.0",
      "_view_name": "StyleView",
      "bar_color": null,
      "description_width": ""
     }
    },
    "2500b9d0026e4cb9bfdeed778996b907": {
     "model_module": "@jupyter-widgets/controls",
     "model_module_version": "1.5.0",
     "model_name": "HTMLModel",
     "state": {
      "_dom_classes": [],
      "_model_module": "@jupyter-widgets/controls",
      "_model_module_version": "1.5.0",
      "_model_name": "HTMLModel",
      "_view_count": null,
      "_view_module": "@jupyter-widgets/controls",
      "_view_module_version": "1.5.0",
      "_view_name": "HTMLView",
      "description": "",
      "description_tooltip": null,
      "layout": "IPY_MODEL_0c45791ddfb04346b741564338e4e4f0",
      "placeholder": "​",
      "style": "IPY_MODEL_3d1f9b6fb3524923b56c2e788c6ee7a9",
      "value": "Casting the dataset: 100%"
     }
    },
    "25f74ea033a94a82a7fc70af9f3319e5": {
     "model_module": "@jupyter-widgets/base",
     "model_module_version": "1.2.0",
     "model_name": "LayoutModel",
     "state": {
      "_model_module": "@jupyter-widgets/base",
      "_model_module_version": "1.2.0",
      "_model_name": "LayoutModel",
      "_view_count": null,
      "_view_module": "@jupyter-widgets/base",
      "_view_module_version": "1.2.0",
      "_view_name": "LayoutView",
      "align_content": null,
      "align_items": null,
      "align_self": null,
      "border": null,
      "bottom": null,
      "display": null,
      "flex": null,
      "flex_flow": null,
      "grid_area": null,
      "grid_auto_columns": null,
      "grid_auto_flow": null,
      "grid_auto_rows": null,
      "grid_column": null,
      "grid_gap": null,
      "grid_row": null,
      "grid_template_areas": null,
      "grid_template_columns": null,
      "grid_template_rows": null,
      "height": null,
      "justify_content": null,
      "justify_items": null,
      "left": null,
      "margin": null,
      "max_height": null,
      "max_width": null,
      "min_height": null,
      "min_width": null,
      "object_fit": null,
      "object_position": null,
      "order": null,
      "overflow": null,
      "overflow_x": null,
      "overflow_y": null,
      "padding": null,
      "right": null,
      "top": null,
      "visibility": null,
      "width": null
     }
    },
    "2748ba59eb184b3395ae7f7c070faa9a": {
     "model_module": "@jupyter-widgets/controls",
     "model_module_version": "1.5.0",
     "model_name": "ProgressStyleModel",
     "state": {
      "_model_module": "@jupyter-widgets/controls",
      "_model_module_version": "1.5.0",
      "_model_name": "ProgressStyleModel",
      "_view_count": null,
      "_view_module": "@jupyter-widgets/base",
      "_view_module_version": "1.2.0",
      "_view_name": "StyleView",
      "bar_color": null,
      "description_width": ""
     }
    },
    "2815ccfc4b324dc39077a4c4aff24736": {
     "model_module": "@jupyter-widgets/base",
     "model_module_version": "1.2.0",
     "model_name": "LayoutModel",
     "state": {
      "_model_module": "@jupyter-widgets/base",
      "_model_module_version": "1.2.0",
      "_model_name": "LayoutModel",
      "_view_count": null,
      "_view_module": "@jupyter-widgets/base",
      "_view_module_version": "1.2.0",
      "_view_name": "LayoutView",
      "align_content": null,
      "align_items": null,
      "align_self": null,
      "border": null,
      "bottom": null,
      "display": null,
      "flex": null,
      "flex_flow": null,
      "grid_area": null,
      "grid_auto_columns": null,
      "grid_auto_flow": null,
      "grid_auto_rows": null,
      "grid_column": null,
      "grid_gap": null,
      "grid_row": null,
      "grid_template_areas": null,
      "grid_template_columns": null,
      "grid_template_rows": null,
      "height": null,
      "justify_content": null,
      "justify_items": null,
      "left": null,
      "margin": null,
      "max_height": null,
      "max_width": null,
      "min_height": null,
      "min_width": null,
      "object_fit": null,
      "object_position": null,
      "order": null,
      "overflow": null,
      "overflow_x": null,
      "overflow_y": null,
      "padding": null,
      "right": null,
      "top": null,
      "visibility": null,
      "width": null
     }
    },
    "2dffc694e1594593a0858317437af2fe": {
     "model_module": "@jupyter-widgets/base",
     "model_module_version": "1.2.0",
     "model_name": "LayoutModel",
     "state": {
      "_model_module": "@jupyter-widgets/base",
      "_model_module_version": "1.2.0",
      "_model_name": "LayoutModel",
      "_view_count": null,
      "_view_module": "@jupyter-widgets/base",
      "_view_module_version": "1.2.0",
      "_view_name": "LayoutView",
      "align_content": null,
      "align_items": null,
      "align_self": null,
      "border": null,
      "bottom": null,
      "display": null,
      "flex": null,
      "flex_flow": null,
      "grid_area": null,
      "grid_auto_columns": null,
      "grid_auto_flow": null,
      "grid_auto_rows": null,
      "grid_column": null,
      "grid_gap": null,
      "grid_row": null,
      "grid_template_areas": null,
      "grid_template_columns": null,
      "grid_template_rows": null,
      "height": null,
      "justify_content": null,
      "justify_items": null,
      "left": null,
      "margin": null,
      "max_height": null,
      "max_width": null,
      "min_height": null,
      "min_width": null,
      "object_fit": null,
      "object_position": null,
      "order": null,
      "overflow": null,
      "overflow_x": null,
      "overflow_y": null,
      "padding": null,
      "right": null,
      "top": null,
      "visibility": null,
      "width": null
     }
    },
    "2e6d902eb05e47ec830755d9c4a5f3db": {
     "model_module": "@jupyter-widgets/base",
     "model_module_version": "1.2.0",
     "model_name": "LayoutModel",
     "state": {
      "_model_module": "@jupyter-widgets/base",
      "_model_module_version": "1.2.0",
      "_model_name": "LayoutModel",
      "_view_count": null,
      "_view_module": "@jupyter-widgets/base",
      "_view_module_version": "1.2.0",
      "_view_name": "LayoutView",
      "align_content": null,
      "align_items": null,
      "align_self": null,
      "border": null,
      "bottom": null,
      "display": null,
      "flex": null,
      "flex_flow": null,
      "grid_area": null,
      "grid_auto_columns": null,
      "grid_auto_flow": null,
      "grid_auto_rows": null,
      "grid_column": null,
      "grid_gap": null,
      "grid_row": null,
      "grid_template_areas": null,
      "grid_template_columns": null,
      "grid_template_rows": null,
      "height": null,
      "justify_content": null,
      "justify_items": null,
      "left": null,
      "margin": null,
      "max_height": null,
      "max_width": null,
      "min_height": null,
      "min_width": null,
      "object_fit": null,
      "object_position": null,
      "order": null,
      "overflow": null,
      "overflow_x": null,
      "overflow_y": null,
      "padding": null,
      "right": null,
      "top": null,
      "visibility": null,
      "width": null
     }
    },
    "3077e5e11d6340b6be3877e6b160c92a": {
     "model_module": "@jupyter-widgets/base",
     "model_module_version": "1.2.0",
     "model_name": "LayoutModel",
     "state": {
      "_model_module": "@jupyter-widgets/base",
      "_model_module_version": "1.2.0",
      "_model_name": "LayoutModel",
      "_view_count": null,
      "_view_module": "@jupyter-widgets/base",
      "_view_module_version": "1.2.0",
      "_view_name": "LayoutView",
      "align_content": null,
      "align_items": null,
      "align_self": null,
      "border": null,
      "bottom": null,
      "display": null,
      "flex": null,
      "flex_flow": null,
      "grid_area": null,
      "grid_auto_columns": null,
      "grid_auto_flow": null,
      "grid_auto_rows": null,
      "grid_column": null,
      "grid_gap": null,
      "grid_row": null,
      "grid_template_areas": null,
      "grid_template_columns": null,
      "grid_template_rows": null,
      "height": null,
      "justify_content": null,
      "justify_items": null,
      "left": null,
      "margin": null,
      "max_height": null,
      "max_width": null,
      "min_height": null,
      "min_width": null,
      "object_fit": null,
      "object_position": null,
      "order": null,
      "overflow": null,
      "overflow_x": null,
      "overflow_y": null,
      "padding": null,
      "right": null,
      "top": null,
      "visibility": null,
      "width": null
     }
    },
    "333b98e64b9f4030b570d918178ccc04": {
     "model_module": "@jupyter-widgets/controls",
     "model_module_version": "1.5.0",
     "model_name": "HTMLModel",
     "state": {
      "_dom_classes": [],
      "_model_module": "@jupyter-widgets/controls",
      "_model_module_version": "1.5.0",
      "_model_name": "HTMLModel",
      "_view_count": null,
      "_view_module": "@jupyter-widgets/controls",
      "_view_module_version": "1.5.0",
      "_view_name": "HTMLView",
      "description": "",
      "description_tooltip": null,
      "layout": "IPY_MODEL_f5fbb82a064146d58bddc46bd26c527c",
      "placeholder": "​",
      "style": "IPY_MODEL_a07c50afe5a143ec9155fe08fa24833c",
      "value": "tokenizer.json: 100%"
     }
    },
    "345e2cbbf11c4c9e8f8049cb6daf6dcc": {
     "model_module": "@jupyter-widgets/controls",
     "model_module_version": "1.5.0",
     "model_name": "HTMLModel",
     "state": {
      "_dom_classes": [],
      "_model_module": "@jupyter-widgets/controls",
      "_model_module_version": "1.5.0",
      "_model_name": "HTMLModel",
      "_view_count": null,
      "_view_module": "@jupyter-widgets/controls",
      "_view_module_version": "1.5.0",
      "_view_name": "HTMLView",
      "description": "",
      "description_tooltip": null,
      "layout": "IPY_MODEL_0c1cd7b8b6b24eb98723714e53cec710",
      "placeholder": "​",
      "style": "IPY_MODEL_3adc987f3bbf4f2c90fc5085b4dbd0b1",
      "value": " 466k/466k [00:00&lt;00:00, 9.16MB/s]"
     }
    },
    "3601e08573c54700b80928d07b2acbf4": {
     "model_module": "@jupyter-widgets/controls",
     "model_module_version": "1.5.0",
     "model_name": "DescriptionStyleModel",
     "state": {
      "_model_module": "@jupyter-widgets/controls",
      "_model_module_version": "1.5.0",
      "_model_name": "DescriptionStyleModel",
      "_view_count": null,
      "_view_module": "@jupyter-widgets/base",
      "_view_module_version": "1.2.0",
      "_view_name": "StyleView",
      "description_width": ""
     }
    },
    "380a52470dad433fbb3f3d02c413fc09": {
     "model_module": "@jupyter-widgets/controls",
     "model_module_version": "1.5.0",
     "model_name": "DescriptionStyleModel",
     "state": {
      "_model_module": "@jupyter-widgets/controls",
      "_model_module_version": "1.5.0",
      "_model_name": "DescriptionStyleModel",
      "_view_count": null,
      "_view_module": "@jupyter-widgets/base",
      "_view_module_version": "1.2.0",
      "_view_name": "StyleView",
      "description_width": ""
     }
    },
    "384c2757ad8841b380ee82194ef77553": {
     "model_module": "@jupyter-widgets/base",
     "model_module_version": "1.2.0",
     "model_name": "LayoutModel",
     "state": {
      "_model_module": "@jupyter-widgets/base",
      "_model_module_version": "1.2.0",
      "_model_name": "LayoutModel",
      "_view_count": null,
      "_view_module": "@jupyter-widgets/base",
      "_view_module_version": "1.2.0",
      "_view_name": "LayoutView",
      "align_content": null,
      "align_items": null,
      "align_self": null,
      "border": null,
      "bottom": null,
      "display": null,
      "flex": null,
      "flex_flow": null,
      "grid_area": null,
      "grid_auto_columns": null,
      "grid_auto_flow": null,
      "grid_auto_rows": null,
      "grid_column": null,
      "grid_gap": null,
      "grid_row": null,
      "grid_template_areas": null,
      "grid_template_columns": null,
      "grid_template_rows": null,
      "height": null,
      "justify_content": null,
      "justify_items": null,
      "left": null,
      "margin": null,
      "max_height": null,
      "max_width": null,
      "min_height": null,
      "min_width": null,
      "object_fit": null,
      "object_position": null,
      "order": null,
      "overflow": null,
      "overflow_x": null,
      "overflow_y": null,
      "padding": null,
      "right": null,
      "top": null,
      "visibility": null,
      "width": null
     }
    },
    "3a5e01f6a6ce4304bd8ff3d9d1177036": {
     "model_module": "@jupyter-widgets/controls",
     "model_module_version": "1.5.0",
     "model_name": "HTMLModel",
     "state": {
      "_dom_classes": [],
      "_model_module": "@jupyter-widgets/controls",
      "_model_module_version": "1.5.0",
      "_model_name": "HTMLModel",
      "_view_count": null,
      "_view_module": "@jupyter-widgets/controls",
      "_view_module_version": "1.5.0",
      "_view_name": "HTMLView",
      "description": "",
      "description_tooltip": null,
      "layout": "IPY_MODEL_f9ddda41f1fb4a27b498dfa68fe8b153",
      "placeholder": "​",
      "style": "IPY_MODEL_380a52470dad433fbb3f3d02c413fc09",
      "value": "config.json: 100%"
     }
    },
    "3adc987f3bbf4f2c90fc5085b4dbd0b1": {
     "model_module": "@jupyter-widgets/controls",
     "model_module_version": "1.5.0",
     "model_name": "DescriptionStyleModel",
     "state": {
      "_model_module": "@jupyter-widgets/controls",
      "_model_module_version": "1.5.0",
      "_model_name": "DescriptionStyleModel",
      "_view_count": null,
      "_view_module": "@jupyter-widgets/base",
      "_view_module_version": "1.2.0",
      "_view_name": "StyleView",
      "description_width": ""
     }
    },
    "3d17c6245fa3496cbdf929268194ad20": {
     "model_module": "@jupyter-widgets/controls",
     "model_module_version": "1.5.0",
     "model_name": "HBoxModel",
     "state": {
      "_dom_classes": [],
      "_model_module": "@jupyter-widgets/controls",
      "_model_module_version": "1.5.0",
      "_model_name": "HBoxModel",
      "_view_count": null,
      "_view_module": "@jupyter-widgets/controls",
      "_view_module_version": "1.5.0",
      "_view_name": "HBoxView",
      "box_style": "",
      "children": [
       "IPY_MODEL_bcc6c01fe01b481eabf99b791a84b471",
       "IPY_MODEL_f5e51b28692841a49cf2c9ceb22c5fbc",
       "IPY_MODEL_1c5737d007ab4e738877ab1e63f8cec6"
      ],
      "layout": "IPY_MODEL_d0d7201477a34616822338bad9480361"
     }
    },
    "3d1f9b6fb3524923b56c2e788c6ee7a9": {
     "model_module": "@jupyter-widgets/controls",
     "model_module_version": "1.5.0",
     "model_name": "DescriptionStyleModel",
     "state": {
      "_model_module": "@jupyter-widgets/controls",
      "_model_module_version": "1.5.0",
      "_model_name": "DescriptionStyleModel",
      "_view_count": null,
      "_view_module": "@jupyter-widgets/base",
      "_view_module_version": "1.2.0",
      "_view_name": "StyleView",
      "description_width": ""
     }
    },
    "40950133f563400389a107e000ed6932": {
     "model_module": "@jupyter-widgets/controls",
     "model_module_version": "1.5.0",
     "model_name": "DescriptionStyleModel",
     "state": {
      "_model_module": "@jupyter-widgets/controls",
      "_model_module_version": "1.5.0",
      "_model_name": "DescriptionStyleModel",
      "_view_count": null,
      "_view_module": "@jupyter-widgets/base",
      "_view_module_version": "1.2.0",
      "_view_name": "StyleView",
      "description_width": ""
     }
    },
    "4867b4f5c7d74f85a259a6f72e59f7a8": {
     "model_module": "@jupyter-widgets/controls",
     "model_module_version": "1.5.0",
     "model_name": "HTMLModel",
     "state": {
      "_dom_classes": [],
      "_model_module": "@jupyter-widgets/controls",
      "_model_module_version": "1.5.0",
      "_model_name": "HTMLModel",
      "_view_count": null,
      "_view_module": "@jupyter-widgets/controls",
      "_view_module_version": "1.5.0",
      "_view_name": "HTMLView",
      "description": "",
      "description_tooltip": null,
      "layout": "IPY_MODEL_dcfccfe8d7e541efba45ab2df7b50d45",
      "placeholder": "​",
      "style": "IPY_MODEL_6d1feceb8c49419fb7c53d8c54eb09d3",
      "value": "Casting the dataset: 100%"
     }
    },
    "49391d5afbf94668b8cad796dfeb0ea0": {
     "model_module": "@jupyter-widgets/base",
     "model_module_version": "1.2.0",
     "model_name": "LayoutModel",
     "state": {
      "_model_module": "@jupyter-widgets/base",
      "_model_module_version": "1.2.0",
      "_model_name": "LayoutModel",
      "_view_count": null,
      "_view_module": "@jupyter-widgets/base",
      "_view_module_version": "1.2.0",
      "_view_name": "LayoutView",
      "align_content": null,
      "align_items": null,
      "align_self": null,
      "border": null,
      "bottom": null,
      "display": null,
      "flex": null,
      "flex_flow": null,
      "grid_area": null,
      "grid_auto_columns": null,
      "grid_auto_flow": null,
      "grid_auto_rows": null,
      "grid_column": null,
      "grid_gap": null,
      "grid_row": null,
      "grid_template_areas": null,
      "grid_template_columns": null,
      "grid_template_rows": null,
      "height": null,
      "justify_content": null,
      "justify_items": null,
      "left": null,
      "margin": null,
      "max_height": null,
      "max_width": null,
      "min_height": null,
      "min_width": null,
      "object_fit": null,
      "object_position": null,
      "order": null,
      "overflow": null,
      "overflow_x": null,
      "overflow_y": null,
      "padding": null,
      "right": null,
      "top": null,
      "visibility": null,
      "width": null
     }
    },
    "4ba003b5c426402ebc407c1bf46f182e": {
     "model_module": "@jupyter-widgets/controls",
     "model_module_version": "1.5.0",
     "model_name": "DescriptionStyleModel",
     "state": {
      "_model_module": "@jupyter-widgets/controls",
      "_model_module_version": "1.5.0",
      "_model_name": "DescriptionStyleModel",
      "_view_count": null,
      "_view_module": "@jupyter-widgets/base",
      "_view_module_version": "1.2.0",
      "_view_name": "StyleView",
      "description_width": ""
     }
    },
    "4f7c8281877b460da4512778d1d4f290": {
     "model_module": "@jupyter-widgets/controls",
     "model_module_version": "1.5.0",
     "model_name": "HBoxModel",
     "state": {
      "_dom_classes": [],
      "_model_module": "@jupyter-widgets/controls",
      "_model_module_version": "1.5.0",
      "_model_name": "HBoxModel",
      "_view_count": null,
      "_view_module": "@jupyter-widgets/controls",
      "_view_module_version": "1.5.0",
      "_view_name": "HBoxView",
      "box_style": "",
      "children": [
       "IPY_MODEL_6776c84b35a74feb863f1587c858b0d7",
       "IPY_MODEL_c0e0161cc2b34d009b22eac075088e63",
       "IPY_MODEL_e40725b8b54347f1bcf1338ef502d959"
      ],
      "layout": "IPY_MODEL_85d934bf155e41ecb4e03ab1dc2eaa9d"
     }
    },
    "52aef509c21440fa93db49c8896c00a0": {
     "model_module": "@jupyter-widgets/controls",
     "model_module_version": "1.5.0",
     "model_name": "HBoxModel",
     "state": {
      "_dom_classes": [],
      "_model_module": "@jupyter-widgets/controls",
      "_model_module_version": "1.5.0",
      "_model_name": "HBoxModel",
      "_view_count": null,
      "_view_module": "@jupyter-widgets/controls",
      "_view_module_version": "1.5.0",
      "_view_name": "HBoxView",
      "box_style": "",
      "children": [
       "IPY_MODEL_2500b9d0026e4cb9bfdeed778996b907",
       "IPY_MODEL_be2799510bcf42f580424b1869a0c1dc",
       "IPY_MODEL_7a10aaa732f840d5bbb9f67fbe4c3966"
      ],
      "layout": "IPY_MODEL_2e6d902eb05e47ec830755d9c4a5f3db"
     }
    },
    "52b662e23f31473c844b58ca461f40ad": {
     "model_module": "@jupyter-widgets/controls",
     "model_module_version": "1.5.0",
     "model_name": "ProgressStyleModel",
     "state": {
      "_model_module": "@jupyter-widgets/controls",
      "_model_module_version": "1.5.0",
      "_model_name": "ProgressStyleModel",
      "_view_count": null,
      "_view_module": "@jupyter-widgets/base",
      "_view_module_version": "1.2.0",
      "_view_name": "StyleView",
      "bar_color": null,
      "description_width": ""
     }
    },
    "53b1d879272b4046b9aa2c51b9e9bf4c": {
     "model_module": "@jupyter-widgets/controls",
     "model_module_version": "1.5.0",
     "model_name": "DescriptionStyleModel",
     "state": {
      "_model_module": "@jupyter-widgets/controls",
      "_model_module_version": "1.5.0",
      "_model_name": "DescriptionStyleModel",
      "_view_count": null,
      "_view_module": "@jupyter-widgets/base",
      "_view_module_version": "1.2.0",
      "_view_name": "StyleView",
      "description_width": ""
     }
    },
    "55bf521fca8e4d90b0b51b84c871cd95": {
     "model_module": "@jupyter-widgets/base",
     "model_module_version": "1.2.0",
     "model_name": "LayoutModel",
     "state": {
      "_model_module": "@jupyter-widgets/base",
      "_model_module_version": "1.2.0",
      "_model_name": "LayoutModel",
      "_view_count": null,
      "_view_module": "@jupyter-widgets/base",
      "_view_module_version": "1.2.0",
      "_view_name": "LayoutView",
      "align_content": null,
      "align_items": null,
      "align_self": null,
      "border": null,
      "bottom": null,
      "display": null,
      "flex": null,
      "flex_flow": null,
      "grid_area": null,
      "grid_auto_columns": null,
      "grid_auto_flow": null,
      "grid_auto_rows": null,
      "grid_column": null,
      "grid_gap": null,
      "grid_row": null,
      "grid_template_areas": null,
      "grid_template_columns": null,
      "grid_template_rows": null,
      "height": null,
      "justify_content": null,
      "justify_items": null,
      "left": null,
      "margin": null,
      "max_height": null,
      "max_width": null,
      "min_height": null,
      "min_width": null,
      "object_fit": null,
      "object_position": null,
      "order": null,
      "overflow": null,
      "overflow_x": null,
      "overflow_y": null,
      "padding": null,
      "right": null,
      "top": null,
      "visibility": null,
      "width": null
     }
    },
    "56917473b76c4a0a8ce3eb2c8cd34d77": {
     "model_module": "@jupyter-widgets/base",
     "model_module_version": "1.2.0",
     "model_name": "LayoutModel",
     "state": {
      "_model_module": "@jupyter-widgets/base",
      "_model_module_version": "1.2.0",
      "_model_name": "LayoutModel",
      "_view_count": null,
      "_view_module": "@jupyter-widgets/base",
      "_view_module_version": "1.2.0",
      "_view_name": "LayoutView",
      "align_content": null,
      "align_items": null,
      "align_self": null,
      "border": null,
      "bottom": null,
      "display": null,
      "flex": null,
      "flex_flow": null,
      "grid_area": null,
      "grid_auto_columns": null,
      "grid_auto_flow": null,
      "grid_auto_rows": null,
      "grid_column": null,
      "grid_gap": null,
      "grid_row": null,
      "grid_template_areas": null,
      "grid_template_columns": null,
      "grid_template_rows": null,
      "height": null,
      "justify_content": null,
      "justify_items": null,
      "left": null,
      "margin": null,
      "max_height": null,
      "max_width": null,
      "min_height": null,
      "min_width": null,
      "object_fit": null,
      "object_position": null,
      "order": null,
      "overflow": null,
      "overflow_x": null,
      "overflow_y": null,
      "padding": null,
      "right": null,
      "top": null,
      "visibility": null,
      "width": null
     }
    },
    "59380d51e9a24f3cac3977cf8cd05b6a": {
     "model_module": "@jupyter-widgets/base",
     "model_module_version": "1.2.0",
     "model_name": "LayoutModel",
     "state": {
      "_model_module": "@jupyter-widgets/base",
      "_model_module_version": "1.2.0",
      "_model_name": "LayoutModel",
      "_view_count": null,
      "_view_module": "@jupyter-widgets/base",
      "_view_module_version": "1.2.0",
      "_view_name": "LayoutView",
      "align_content": null,
      "align_items": null,
      "align_self": null,
      "border": null,
      "bottom": null,
      "display": null,
      "flex": null,
      "flex_flow": null,
      "grid_area": null,
      "grid_auto_columns": null,
      "grid_auto_flow": null,
      "grid_auto_rows": null,
      "grid_column": null,
      "grid_gap": null,
      "grid_row": null,
      "grid_template_areas": null,
      "grid_template_columns": null,
      "grid_template_rows": null,
      "height": null,
      "justify_content": null,
      "justify_items": null,
      "left": null,
      "margin": null,
      "max_height": null,
      "max_width": null,
      "min_height": null,
      "min_width": null,
      "object_fit": null,
      "object_position": null,
      "order": null,
      "overflow": null,
      "overflow_x": null,
      "overflow_y": null,
      "padding": null,
      "right": null,
      "top": null,
      "visibility": null,
      "width": null
     }
    },
    "5b94a01a56874a64ae0e0b559fe6e73c": {
     "model_module": "@jupyter-widgets/controls",
     "model_module_version": "1.5.0",
     "model_name": "ProgressStyleModel",
     "state": {
      "_model_module": "@jupyter-widgets/controls",
      "_model_module_version": "1.5.0",
      "_model_name": "ProgressStyleModel",
      "_view_count": null,
      "_view_module": "@jupyter-widgets/base",
      "_view_module_version": "1.2.0",
      "_view_name": "StyleView",
      "bar_color": null,
      "description_width": ""
     }
    },
    "5c8ba26b52404e909d34581895b6ea74": {
     "model_module": "@jupyter-widgets/controls",
     "model_module_version": "1.5.0",
     "model_name": "ProgressStyleModel",
     "state": {
      "_model_module": "@jupyter-widgets/controls",
      "_model_module_version": "1.5.0",
      "_model_name": "ProgressStyleModel",
      "_view_count": null,
      "_view_module": "@jupyter-widgets/base",
      "_view_module_version": "1.2.0",
      "_view_name": "StyleView",
      "bar_color": null,
      "description_width": ""
     }
    },
    "6776c84b35a74feb863f1587c858b0d7": {
     "model_module": "@jupyter-widgets/controls",
     "model_module_version": "1.5.0",
     "model_name": "HTMLModel",
     "state": {
      "_dom_classes": [],
      "_model_module": "@jupyter-widgets/controls",
      "_model_module_version": "1.5.0",
      "_model_name": "HTMLModel",
      "_view_count": null,
      "_view_module": "@jupyter-widgets/controls",
      "_view_module_version": "1.5.0",
      "_view_name": "HTMLView",
      "description": "",
      "description_tooltip": null,
      "layout": "IPY_MODEL_384c2757ad8841b380ee82194ef77553",
      "placeholder": "​",
      "style": "IPY_MODEL_69199241a493431c9c1be551fa77bc69",
      "value": "vocab.txt: 100%"
     }
    },
    "6885b81c6bac494fbeb9c59909541f78": {
     "model_module": "@jupyter-widgets/controls",
     "model_module_version": "1.5.0",
     "model_name": "DescriptionStyleModel",
     "state": {
      "_model_module": "@jupyter-widgets/controls",
      "_model_module_version": "1.5.0",
      "_model_name": "DescriptionStyleModel",
      "_view_count": null,
      "_view_module": "@jupyter-widgets/base",
      "_view_module_version": "1.2.0",
      "_view_name": "StyleView",
      "description_width": ""
     }
    },
    "69199241a493431c9c1be551fa77bc69": {
     "model_module": "@jupyter-widgets/controls",
     "model_module_version": "1.5.0",
     "model_name": "DescriptionStyleModel",
     "state": {
      "_model_module": "@jupyter-widgets/controls",
      "_model_module_version": "1.5.0",
      "_model_name": "DescriptionStyleModel",
      "_view_count": null,
      "_view_module": "@jupyter-widgets/base",
      "_view_module_version": "1.2.0",
      "_view_name": "StyleView",
      "description_width": ""
     }
    },
    "6bece8f993534173bb24cfaba6dee60e": {
     "model_module": "@jupyter-widgets/controls",
     "model_module_version": "1.5.0",
     "model_name": "FloatProgressModel",
     "state": {
      "_dom_classes": [],
      "_model_module": "@jupyter-widgets/controls",
      "_model_module_version": "1.5.0",
      "_model_name": "FloatProgressModel",
      "_view_count": null,
      "_view_module": "@jupyter-widgets/controls",
      "_view_module_version": "1.5.0",
      "_view_name": "ProgressView",
      "bar_style": "success",
      "description": "",
      "description_tooltip": null,
      "layout": "IPY_MODEL_fb546f873d9b45bca78feb2af39a69db",
      "max": 483,
      "min": 0,
      "orientation": "horizontal",
      "style": "IPY_MODEL_2748ba59eb184b3395ae7f7c070faa9a",
      "value": 483
     }
    },
    "6d1feceb8c49419fb7c53d8c54eb09d3": {
     "model_module": "@jupyter-widgets/controls",
     "model_module_version": "1.5.0",
     "model_name": "DescriptionStyleModel",
     "state": {
      "_model_module": "@jupyter-widgets/controls",
      "_model_module_version": "1.5.0",
      "_model_name": "DescriptionStyleModel",
      "_view_count": null,
      "_view_module": "@jupyter-widgets/base",
      "_view_module_version": "1.2.0",
      "_view_name": "StyleView",
      "description_width": ""
     }
    },
    "70a9d788d64549e5bbf588c323b0ad6b": {
     "model_module": "@jupyter-widgets/controls",
     "model_module_version": "1.5.0",
     "model_name": "HTMLModel",
     "state": {
      "_dom_classes": [],
      "_model_module": "@jupyter-widgets/controls",
      "_model_module_version": "1.5.0",
      "_model_name": "HTMLModel",
      "_view_count": null,
      "_view_module": "@jupyter-widgets/controls",
      "_view_module_version": "1.5.0",
      "_view_name": "HTMLView",
      "description": "",
      "description_tooltip": null,
      "layout": "IPY_MODEL_aa2c7b49b1e54d979c10ecf92c351d78",
      "placeholder": "​",
      "style": "IPY_MODEL_8599fb4939cd4b3f9b7f6d6b1f0bb408",
      "value": " 20000/20000 [00:00&lt;00:00, 160078.29 examples/s]"
     }
    },
    "72a640c050aa4d1d8cd88d3917b30e52": {
     "model_module": "@jupyter-widgets/controls",
     "model_module_version": "1.5.0",
     "model_name": "HTMLModel",
     "state": {
      "_dom_classes": [],
      "_model_module": "@jupyter-widgets/controls",
      "_model_module_version": "1.5.0",
      "_model_name": "HTMLModel",
      "_view_count": null,
      "_view_module": "@jupyter-widgets/controls",
      "_view_module_version": "1.5.0",
      "_view_name": "HTMLView",
      "description": "",
      "description_tooltip": null,
      "layout": "IPY_MODEL_55bf521fca8e4d90b0b51b84c871cd95",
      "placeholder": "​",
      "style": "IPY_MODEL_40950133f563400389a107e000ed6932",
      "value": " 268M/268M [00:01&lt;00:00, 162MB/s]"
     }
    },
    "74dcf346914044cbbfa7f9c7cf3bd24e": {
     "model_module": "@jupyter-widgets/controls",
     "model_module_version": "1.5.0",
     "model_name": "HTMLModel",
     "state": {
      "_dom_classes": [],
      "_model_module": "@jupyter-widgets/controls",
      "_model_module_version": "1.5.0",
      "_model_name": "HTMLModel",
      "_view_count": null,
      "_view_module": "@jupyter-widgets/controls",
      "_view_module_version": "1.5.0",
      "_view_name": "HTMLView",
      "description": "",
      "description_tooltip": null,
      "layout": "IPY_MODEL_cf0caf22508f44b89e1c661fa6b9e30f",
      "placeholder": "​",
      "style": "IPY_MODEL_53b1d879272b4046b9aa2c51b9e9bf4c",
      "value": "model.safetensors: 100%"
     }
    },
    "763a612739764fcb927eeb5cf2173291": {
     "model_module": "@jupyter-widgets/base",
     "model_module_version": "1.2.0",
     "model_name": "LayoutModel",
     "state": {
      "_model_module": "@jupyter-widgets/base",
      "_model_module_version": "1.2.0",
      "_model_name": "LayoutModel",
      "_view_count": null,
      "_view_module": "@jupyter-widgets/base",
      "_view_module_version": "1.2.0",
      "_view_name": "LayoutView",
      "align_content": null,
      "align_items": null,
      "align_self": null,
      "border": null,
      "bottom": null,
      "display": null,
      "flex": null,
      "flex_flow": null,
      "grid_area": null,
      "grid_auto_columns": null,
      "grid_auto_flow": null,
      "grid_auto_rows": null,
      "grid_column": null,
      "grid_gap": null,
      "grid_row": null,
      "grid_template_areas": null,
      "grid_template_columns": null,
      "grid_template_rows": null,
      "height": null,
      "justify_content": null,
      "justify_items": null,
      "left": null,
      "margin": null,
      "max_height": null,
      "max_width": null,
      "min_height": null,
      "min_width": null,
      "object_fit": null,
      "object_position": null,
      "order": null,
      "overflow": null,
      "overflow_x": null,
      "overflow_y": null,
      "padding": null,
      "right": null,
      "top": null,
      "visibility": null,
      "width": null
     }
    },
    "7a10aaa732f840d5bbb9f67fbe4c3966": {
     "model_module": "@jupyter-widgets/controls",
     "model_module_version": "1.5.0",
     "model_name": "HTMLModel",
     "state": {
      "_dom_classes": [],
      "_model_module": "@jupyter-widgets/controls",
      "_model_module_version": "1.5.0",
      "_model_name": "HTMLModel",
      "_view_count": null,
      "_view_module": "@jupyter-widgets/controls",
      "_view_module_version": "1.5.0",
      "_view_name": "HTMLView",
      "description": "",
      "description_tooltip": null,
      "layout": "IPY_MODEL_e64761e61d184b32812a82e71ef69e64",
      "placeholder": "​",
      "style": "IPY_MODEL_e57ccc5b05014c9a92740e8f4dd42e76",
      "value": " 80000/80000 [00:00&lt;00:00, 101658.12 examples/s]"
     }
    },
    "7b645453d6234990bbb99858ce2b77eb": {
     "model_module": "@jupyter-widgets/controls",
     "model_module_version": "1.5.0",
     "model_name": "HBoxModel",
     "state": {
      "_dom_classes": [],
      "_model_module": "@jupyter-widgets/controls",
      "_model_module_version": "1.5.0",
      "_model_name": "HBoxModel",
      "_view_count": null,
      "_view_module": "@jupyter-widgets/controls",
      "_view_module_version": "1.5.0",
      "_view_name": "HBoxView",
      "box_style": "",
      "children": [
       "IPY_MODEL_74dcf346914044cbbfa7f9c7cf3bd24e",
       "IPY_MODEL_af596ef302894ce0b3cc1f7a9fce5961",
       "IPY_MODEL_72a640c050aa4d1d8cd88d3917b30e52"
      ],
      "layout": "IPY_MODEL_830bf64472d144129c90b879be16922b"
     }
    },
    "7fa59e279b994dae8350195e38c84f8e": {
     "model_module": "@jupyter-widgets/base",
     "model_module_version": "1.2.0",
     "model_name": "LayoutModel",
     "state": {
      "_model_module": "@jupyter-widgets/base",
      "_model_module_version": "1.2.0",
      "_model_name": "LayoutModel",
      "_view_count": null,
      "_view_module": "@jupyter-widgets/base",
      "_view_module_version": "1.2.0",
      "_view_name": "LayoutView",
      "align_content": null,
      "align_items": null,
      "align_self": null,
      "border": null,
      "bottom": null,
      "display": null,
      "flex": null,
      "flex_flow": null,
      "grid_area": null,
      "grid_auto_columns": null,
      "grid_auto_flow": null,
      "grid_auto_rows": null,
      "grid_column": null,
      "grid_gap": null,
      "grid_row": null,
      "grid_template_areas": null,
      "grid_template_columns": null,
      "grid_template_rows": null,
      "height": null,
      "justify_content": null,
      "justify_items": null,
      "left": null,
      "margin": null,
      "max_height": null,
      "max_width": null,
      "min_height": null,
      "min_width": null,
      "object_fit": null,
      "object_position": null,
      "order": null,
      "overflow": null,
      "overflow_x": null,
      "overflow_y": null,
      "padding": null,
      "right": null,
      "top": null,
      "visibility": null,
      "width": null
     }
    },
    "80e4ee75da0b47729f12ca1a21d78c06": {
     "model_module": "@jupyter-widgets/controls",
     "model_module_version": "1.5.0",
     "model_name": "ProgressStyleModel",
     "state": {
      "_model_module": "@jupyter-widgets/controls",
      "_model_module_version": "1.5.0",
      "_model_name": "ProgressStyleModel",
      "_view_count": null,
      "_view_module": "@jupyter-widgets/base",
      "_view_module_version": "1.2.0",
      "_view_name": "StyleView",
      "bar_color": null,
      "description_width": ""
     }
    },
    "830bf64472d144129c90b879be16922b": {
     "model_module": "@jupyter-widgets/base",
     "model_module_version": "1.2.0",
     "model_name": "LayoutModel",
     "state": {
      "_model_module": "@jupyter-widgets/base",
      "_model_module_version": "1.2.0",
      "_model_name": "LayoutModel",
      "_view_count": null,
      "_view_module": "@jupyter-widgets/base",
      "_view_module_version": "1.2.0",
      "_view_name": "LayoutView",
      "align_content": null,
      "align_items": null,
      "align_self": null,
      "border": null,
      "bottom": null,
      "display": null,
      "flex": null,
      "flex_flow": null,
      "grid_area": null,
      "grid_auto_columns": null,
      "grid_auto_flow": null,
      "grid_auto_rows": null,
      "grid_column": null,
      "grid_gap": null,
      "grid_row": null,
      "grid_template_areas": null,
      "grid_template_columns": null,
      "grid_template_rows": null,
      "height": null,
      "justify_content": null,
      "justify_items": null,
      "left": null,
      "margin": null,
      "max_height": null,
      "max_width": null,
      "min_height": null,
      "min_width": null,
      "object_fit": null,
      "object_position": null,
      "order": null,
      "overflow": null,
      "overflow_x": null,
      "overflow_y": null,
      "padding": null,
      "right": null,
      "top": null,
      "visibility": null,
      "width": null
     }
    },
    "8344795d5fbd4894a57ce981b073d5c7": {
     "model_module": "@jupyter-widgets/base",
     "model_module_version": "1.2.0",
     "model_name": "LayoutModel",
     "state": {
      "_model_module": "@jupyter-widgets/base",
      "_model_module_version": "1.2.0",
      "_model_name": "LayoutModel",
      "_view_count": null,
      "_view_module": "@jupyter-widgets/base",
      "_view_module_version": "1.2.0",
      "_view_name": "LayoutView",
      "align_content": null,
      "align_items": null,
      "align_self": null,
      "border": null,
      "bottom": null,
      "display": null,
      "flex": null,
      "flex_flow": null,
      "grid_area": null,
      "grid_auto_columns": null,
      "grid_auto_flow": null,
      "grid_auto_rows": null,
      "grid_column": null,
      "grid_gap": null,
      "grid_row": null,
      "grid_template_areas": null,
      "grid_template_columns": null,
      "grid_template_rows": null,
      "height": null,
      "justify_content": null,
      "justify_items": null,
      "left": null,
      "margin": null,
      "max_height": null,
      "max_width": null,
      "min_height": null,
      "min_width": null,
      "object_fit": null,
      "object_position": null,
      "order": null,
      "overflow": null,
      "overflow_x": null,
      "overflow_y": null,
      "padding": null,
      "right": null,
      "top": null,
      "visibility": null,
      "width": null
     }
    },
    "8599fb4939cd4b3f9b7f6d6b1f0bb408": {
     "model_module": "@jupyter-widgets/controls",
     "model_module_version": "1.5.0",
     "model_name": "DescriptionStyleModel",
     "state": {
      "_model_module": "@jupyter-widgets/controls",
      "_model_module_version": "1.5.0",
      "_model_name": "DescriptionStyleModel",
      "_view_count": null,
      "_view_module": "@jupyter-widgets/base",
      "_view_module_version": "1.2.0",
      "_view_name": "StyleView",
      "description_width": ""
     }
    },
    "85d934bf155e41ecb4e03ab1dc2eaa9d": {
     "model_module": "@jupyter-widgets/base",
     "model_module_version": "1.2.0",
     "model_name": "LayoutModel",
     "state": {
      "_model_module": "@jupyter-widgets/base",
      "_model_module_version": "1.2.0",
      "_model_name": "LayoutModel",
      "_view_count": null,
      "_view_module": "@jupyter-widgets/base",
      "_view_module_version": "1.2.0",
      "_view_name": "LayoutView",
      "align_content": null,
      "align_items": null,
      "align_self": null,
      "border": null,
      "bottom": null,
      "display": null,
      "flex": null,
      "flex_flow": null,
      "grid_area": null,
      "grid_auto_columns": null,
      "grid_auto_flow": null,
      "grid_auto_rows": null,
      "grid_column": null,
      "grid_gap": null,
      "grid_row": null,
      "grid_template_areas": null,
      "grid_template_columns": null,
      "grid_template_rows": null,
      "height": null,
      "justify_content": null,
      "justify_items": null,
      "left": null,
      "margin": null,
      "max_height": null,
      "max_width": null,
      "min_height": null,
      "min_width": null,
      "object_fit": null,
      "object_position": null,
      "order": null,
      "overflow": null,
      "overflow_x": null,
      "overflow_y": null,
      "padding": null,
      "right": null,
      "top": null,
      "visibility": null,
      "width": null
     }
    },
    "92ae2bccb9e74e1a85b1d60ea0b3eaf5": {
     "model_module": "@jupyter-widgets/base",
     "model_module_version": "1.2.0",
     "model_name": "LayoutModel",
     "state": {
      "_model_module": "@jupyter-widgets/base",
      "_model_module_version": "1.2.0",
      "_model_name": "LayoutModel",
      "_view_count": null,
      "_view_module": "@jupyter-widgets/base",
      "_view_module_version": "1.2.0",
      "_view_name": "LayoutView",
      "align_content": null,
      "align_items": null,
      "align_self": null,
      "border": null,
      "bottom": null,
      "display": null,
      "flex": null,
      "flex_flow": null,
      "grid_area": null,
      "grid_auto_columns": null,
      "grid_auto_flow": null,
      "grid_auto_rows": null,
      "grid_column": null,
      "grid_gap": null,
      "grid_row": null,
      "grid_template_areas": null,
      "grid_template_columns": null,
      "grid_template_rows": null,
      "height": null,
      "justify_content": null,
      "justify_items": null,
      "left": null,
      "margin": null,
      "max_height": null,
      "max_width": null,
      "min_height": null,
      "min_width": null,
      "object_fit": null,
      "object_position": null,
      "order": null,
      "overflow": null,
      "overflow_x": null,
      "overflow_y": null,
      "padding": null,
      "right": null,
      "top": null,
      "visibility": null,
      "width": null
     }
    },
    "9309067feaef4e548b82a72bc2c3352b": {
     "model_module": "@jupyter-widgets/controls",
     "model_module_version": "1.5.0",
     "model_name": "ProgressStyleModel",
     "state": {
      "_model_module": "@jupyter-widgets/controls",
      "_model_module_version": "1.5.0",
      "_model_name": "ProgressStyleModel",
      "_view_count": null,
      "_view_module": "@jupyter-widgets/base",
      "_view_module_version": "1.2.0",
      "_view_name": "StyleView",
      "bar_color": null,
      "description_width": ""
     }
    },
    "96723a4887f64fc5b964d741e72c8ae9": {
     "model_module": "@jupyter-widgets/base",
     "model_module_version": "1.2.0",
     "model_name": "LayoutModel",
     "state": {
      "_model_module": "@jupyter-widgets/base",
      "_model_module_version": "1.2.0",
      "_model_name": "LayoutModel",
      "_view_count": null,
      "_view_module": "@jupyter-widgets/base",
      "_view_module_version": "1.2.0",
      "_view_name": "LayoutView",
      "align_content": null,
      "align_items": null,
      "align_self": null,
      "border": null,
      "bottom": null,
      "display": null,
      "flex": null,
      "flex_flow": null,
      "grid_area": null,
      "grid_auto_columns": null,
      "grid_auto_flow": null,
      "grid_auto_rows": null,
      "grid_column": null,
      "grid_gap": null,
      "grid_row": null,
      "grid_template_areas": null,
      "grid_template_columns": null,
      "grid_template_rows": null,
      "height": null,
      "justify_content": null,
      "justify_items": null,
      "left": null,
      "margin": null,
      "max_height": null,
      "max_width": null,
      "min_height": null,
      "min_width": null,
      "object_fit": null,
      "object_position": null,
      "order": null,
      "overflow": null,
      "overflow_x": null,
      "overflow_y": null,
      "padding": null,
      "right": null,
      "top": null,
      "visibility": null,
      "width": null
     }
    },
    "9761869eddca48fa9848562d548a8607": {
     "model_module": "@jupyter-widgets/controls",
     "model_module_version": "1.5.0",
     "model_name": "DescriptionStyleModel",
     "state": {
      "_model_module": "@jupyter-widgets/controls",
      "_model_module_version": "1.5.0",
      "_model_name": "DescriptionStyleModel",
      "_view_count": null,
      "_view_module": "@jupyter-widgets/base",
      "_view_module_version": "1.2.0",
      "_view_name": "StyleView",
      "description_width": ""
     }
    },
    "9a410e8d729947dcbda22ab3a1fba286": {
     "model_module": "@jupyter-widgets/controls",
     "model_module_version": "1.5.0",
     "model_name": "DescriptionStyleModel",
     "state": {
      "_model_module": "@jupyter-widgets/controls",
      "_model_module_version": "1.5.0",
      "_model_name": "DescriptionStyleModel",
      "_view_count": null,
      "_view_module": "@jupyter-widgets/base",
      "_view_module_version": "1.2.0",
      "_view_name": "StyleView",
      "description_width": ""
     }
    },
    "9b26ca809dfe407298d2a83b934eb59f": {
     "model_module": "@jupyter-widgets/controls",
     "model_module_version": "1.5.0",
     "model_name": "HBoxModel",
     "state": {
      "_dom_classes": [],
      "_model_module": "@jupyter-widgets/controls",
      "_model_module_version": "1.5.0",
      "_model_name": "HBoxModel",
      "_view_count": null,
      "_view_module": "@jupyter-widgets/controls",
      "_view_module_version": "1.5.0",
      "_view_name": "HBoxView",
      "box_style": "",
      "children": [
       "IPY_MODEL_da9ebdeaec2148e99e442fa8c7d65500",
       "IPY_MODEL_0d1d6d646016448db42d89a361615d3f",
       "IPY_MODEL_b2581625e0bf4716be3a8d482b45f022"
      ],
      "layout": "IPY_MODEL_f88c23c699a14b8ab5d0c4c127e2dd23"
     }
    },
    "9e30001e4de24f9eac8e8fdb2d0ce8da": {
     "model_module": "@jupyter-widgets/controls",
     "model_module_version": "1.5.0",
     "model_name": "HTMLModel",
     "state": {
      "_dom_classes": [],
      "_model_module": "@jupyter-widgets/controls",
      "_model_module_version": "1.5.0",
      "_model_name": "HTMLModel",
      "_view_count": null,
      "_view_module": "@jupyter-widgets/controls",
      "_view_module_version": "1.5.0",
      "_view_name": "HTMLView",
      "description": "",
      "description_tooltip": null,
      "layout": "IPY_MODEL_15558466e3484cccbddcd7cada8e740e",
      "placeholder": "​",
      "style": "IPY_MODEL_3601e08573c54700b80928d07b2acbf4",
      "value": " 483/483 [00:00&lt;00:00, 28.7kB/s]"
     }
    },
    "a07c50afe5a143ec9155fe08fa24833c": {
     "model_module": "@jupyter-widgets/controls",
     "model_module_version": "1.5.0",
     "model_name": "DescriptionStyleModel",
     "state": {
      "_model_module": "@jupyter-widgets/controls",
      "_model_module_version": "1.5.0",
      "_model_name": "DescriptionStyleModel",
      "_view_count": null,
      "_view_module": "@jupyter-widgets/base",
      "_view_module_version": "1.2.0",
      "_view_name": "StyleView",
      "description_width": ""
     }
    },
    "a7951be00cab4b9a80e224a5f7eeb4d7": {
     "model_module": "@jupyter-widgets/controls",
     "model_module_version": "1.5.0",
     "model_name": "DescriptionStyleModel",
     "state": {
      "_model_module": "@jupyter-widgets/controls",
      "_model_module_version": "1.5.0",
      "_model_name": "DescriptionStyleModel",
      "_view_count": null,
      "_view_module": "@jupyter-widgets/base",
      "_view_module_version": "1.2.0",
      "_view_name": "StyleView",
      "description_width": ""
     }
    },
    "a9f55e9ec7e34294a3d7fb7ae08871d9": {
     "model_module": "@jupyter-widgets/controls",
     "model_module_version": "1.5.0",
     "model_name": "HBoxModel",
     "state": {
      "_dom_classes": [],
      "_model_module": "@jupyter-widgets/controls",
      "_model_module_version": "1.5.0",
      "_model_name": "HBoxModel",
      "_view_count": null,
      "_view_module": "@jupyter-widgets/controls",
      "_view_module_version": "1.5.0",
      "_view_name": "HBoxView",
      "box_style": "",
      "children": [
       "IPY_MODEL_4867b4f5c7d74f85a259a6f72e59f7a8",
       "IPY_MODEL_cf9e01b01dbe47bf8be57dd95ffbe00e",
       "IPY_MODEL_70a9d788d64549e5bbf588c323b0ad6b"
      ],
      "layout": "IPY_MODEL_dfe712ffdd3941338471b0d1066f5114"
     }
    },
    "aa2c7b49b1e54d979c10ecf92c351d78": {
     "model_module": "@jupyter-widgets/base",
     "model_module_version": "1.2.0",
     "model_name": "LayoutModel",
     "state": {
      "_model_module": "@jupyter-widgets/base",
      "_model_module_version": "1.2.0",
      "_model_name": "LayoutModel",
      "_view_count": null,
      "_view_module": "@jupyter-widgets/base",
      "_view_module_version": "1.2.0",
      "_view_name": "LayoutView",
      "align_content": null,
      "align_items": null,
      "align_self": null,
      "border": null,
      "bottom": null,
      "display": null,
      "flex": null,
      "flex_flow": null,
      "grid_area": null,
      "grid_auto_columns": null,
      "grid_auto_flow": null,
      "grid_auto_rows": null,
      "grid_column": null,
      "grid_gap": null,
      "grid_row": null,
      "grid_template_areas": null,
      "grid_template_columns": null,
      "grid_template_rows": null,
      "height": null,
      "justify_content": null,
      "justify_items": null,
      "left": null,
      "margin": null,
      "max_height": null,
      "max_width": null,
      "min_height": null,
      "min_width": null,
      "object_fit": null,
      "object_position": null,
      "order": null,
      "overflow": null,
      "overflow_x": null,
      "overflow_y": null,
      "padding": null,
      "right": null,
      "top": null,
      "visibility": null,
      "width": null
     }
    },
    "af596ef302894ce0b3cc1f7a9fce5961": {
     "model_module": "@jupyter-widgets/controls",
     "model_module_version": "1.5.0",
     "model_name": "FloatProgressModel",
     "state": {
      "_dom_classes": [],
      "_model_module": "@jupyter-widgets/controls",
      "_model_module_version": "1.5.0",
      "_model_name": "FloatProgressModel",
      "_view_count": null,
      "_view_module": "@jupyter-widgets/controls",
      "_view_module_version": "1.5.0",
      "_view_name": "ProgressView",
      "bar_style": "success",
      "description": "",
      "description_tooltip": null,
      "layout": "IPY_MODEL_b83cbe763ca847b69ec33543c24c392f",
      "max": 267954768,
      "min": 0,
      "orientation": "horizontal",
      "style": "IPY_MODEL_52b662e23f31473c844b58ca461f40ad",
      "value": 267954768
     }
    },
    "b2581625e0bf4716be3a8d482b45f022": {
     "model_module": "@jupyter-widgets/controls",
     "model_module_version": "1.5.0",
     "model_name": "HTMLModel",
     "state": {
      "_dom_classes": [],
      "_model_module": "@jupyter-widgets/controls",
      "_model_module_version": "1.5.0",
      "_model_name": "HTMLModel",
      "_view_count": null,
      "_view_module": "@jupyter-widgets/controls",
      "_view_module_version": "1.5.0",
      "_view_name": "HTMLView",
      "description": "",
      "description_tooltip": null,
      "layout": "IPY_MODEL_1dc047a85ef34f9196a18e863deebe2c",
      "placeholder": "​",
      "style": "IPY_MODEL_e3fe289ebc9e43189a30cc2b3d893c58",
      "value": " 80000/80000 [02:05&lt;00:00, 676.58 examples/s]"
     }
    },
    "b83cbe763ca847b69ec33543c24c392f": {
     "model_module": "@jupyter-widgets/base",
     "model_module_version": "1.2.0",
     "model_name": "LayoutModel",
     "state": {
      "_model_module": "@jupyter-widgets/base",
      "_model_module_version": "1.2.0",
      "_model_name": "LayoutModel",
      "_view_count": null,
      "_view_module": "@jupyter-widgets/base",
      "_view_module_version": "1.2.0",
      "_view_name": "LayoutView",
      "align_content": null,
      "align_items": null,
      "align_self": null,
      "border": null,
      "bottom": null,
      "display": null,
      "flex": null,
      "flex_flow": null,
      "grid_area": null,
      "grid_auto_columns": null,
      "grid_auto_flow": null,
      "grid_auto_rows": null,
      "grid_column": null,
      "grid_gap": null,
      "grid_row": null,
      "grid_template_areas": null,
      "grid_template_columns": null,
      "grid_template_rows": null,
      "height": null,
      "justify_content": null,
      "justify_items": null,
      "left": null,
      "margin": null,
      "max_height": null,
      "max_width": null,
      "min_height": null,
      "min_width": null,
      "object_fit": null,
      "object_position": null,
      "order": null,
      "overflow": null,
      "overflow_x": null,
      "overflow_y": null,
      "padding": null,
      "right": null,
      "top": null,
      "visibility": null,
      "width": null
     }
    },
    "bcc6c01fe01b481eabf99b791a84b471": {
     "model_module": "@jupyter-widgets/controls",
     "model_module_version": "1.5.0",
     "model_name": "HTMLModel",
     "state": {
      "_dom_classes": [],
      "_model_module": "@jupyter-widgets/controls",
      "_model_module_version": "1.5.0",
      "_model_name": "HTMLModel",
      "_view_count": null,
      "_view_module": "@jupyter-widgets/controls",
      "_view_module_version": "1.5.0",
      "_view_name": "HTMLView",
      "description": "",
      "description_tooltip": null,
      "layout": "IPY_MODEL_8344795d5fbd4894a57ce981b073d5c7",
      "placeholder": "​",
      "style": "IPY_MODEL_9761869eddca48fa9848562d548a8607",
      "value": "Map: 100%"
     }
    },
    "be2799510bcf42f580424b1869a0c1dc": {
     "model_module": "@jupyter-widgets/controls",
     "model_module_version": "1.5.0",
     "model_name": "FloatProgressModel",
     "state": {
      "_dom_classes": [],
      "_model_module": "@jupyter-widgets/controls",
      "_model_module_version": "1.5.0",
      "_model_name": "FloatProgressModel",
      "_view_count": null,
      "_view_module": "@jupyter-widgets/controls",
      "_view_module_version": "1.5.0",
      "_view_name": "ProgressView",
      "bar_style": "success",
      "description": "",
      "description_tooltip": null,
      "layout": "IPY_MODEL_92ae2bccb9e74e1a85b1d60ea0b3eaf5",
      "max": 80000,
      "min": 0,
      "orientation": "horizontal",
      "style": "IPY_MODEL_9309067feaef4e548b82a72bc2c3352b",
      "value": 80000
     }
    },
    "c0e0161cc2b34d009b22eac075088e63": {
     "model_module": "@jupyter-widgets/controls",
     "model_module_version": "1.5.0",
     "model_name": "FloatProgressModel",
     "state": {
      "_dom_classes": [],
      "_model_module": "@jupyter-widgets/controls",
      "_model_module_version": "1.5.0",
      "_model_name": "FloatProgressModel",
      "_view_count": null,
      "_view_module": "@jupyter-widgets/controls",
      "_view_module_version": "1.5.0",
      "_view_name": "ProgressView",
      "bar_style": "success",
      "description": "",
      "description_tooltip": null,
      "layout": "IPY_MODEL_2815ccfc4b324dc39077a4c4aff24736",
      "max": 231508,
      "min": 0,
      "orientation": "horizontal",
      "style": "IPY_MODEL_5b94a01a56874a64ae0e0b559fe6e73c",
      "value": 231508
     }
    },
    "c12f9589f7ac4ac3a4550540e88811cd": {
     "model_module": "@jupyter-widgets/controls",
     "model_module_version": "1.5.0",
     "model_name": "HBoxModel",
     "state": {
      "_dom_classes": [],
      "_model_module": "@jupyter-widgets/controls",
      "_model_module_version": "1.5.0",
      "_model_name": "HBoxModel",
      "_view_count": null,
      "_view_module": "@jupyter-widgets/controls",
      "_view_module_version": "1.5.0",
      "_view_name": "HBoxView",
      "box_style": "",
      "children": [
       "IPY_MODEL_f1b54b59c27543bcab6be6a3761deea2",
       "IPY_MODEL_111cf8dfc6574087bcb4e93978a4e028",
       "IPY_MODEL_f644bf313d10487aa752274330379dc5"
      ],
      "layout": "IPY_MODEL_96723a4887f64fc5b964d741e72c8ae9"
     }
    },
    "c13abea495c64f21b9da90a237e2c44b": {
     "model_module": "@jupyter-widgets/controls",
     "model_module_version": "1.5.0",
     "model_name": "HBoxModel",
     "state": {
      "_dom_classes": [],
      "_model_module": "@jupyter-widgets/controls",
      "_model_module_version": "1.5.0",
      "_model_name": "HBoxModel",
      "_view_count": null,
      "_view_module": "@jupyter-widgets/controls",
      "_view_module_version": "1.5.0",
      "_view_name": "HBoxView",
      "box_style": "",
      "children": [
       "IPY_MODEL_333b98e64b9f4030b570d918178ccc04",
       "IPY_MODEL_cb2557ca01014e318a87174f116b75a2",
       "IPY_MODEL_345e2cbbf11c4c9e8f8049cb6daf6dcc"
      ],
      "layout": "IPY_MODEL_2dffc694e1594593a0858317437af2fe"
     }
    },
    "cb2557ca01014e318a87174f116b75a2": {
     "model_module": "@jupyter-widgets/controls",
     "model_module_version": "1.5.0",
     "model_name": "FloatProgressModel",
     "state": {
      "_dom_classes": [],
      "_model_module": "@jupyter-widgets/controls",
      "_model_module_version": "1.5.0",
      "_model_name": "FloatProgressModel",
      "_view_count": null,
      "_view_module": "@jupyter-widgets/controls",
      "_view_module_version": "1.5.0",
      "_view_name": "ProgressView",
      "bar_style": "success",
      "description": "",
      "description_tooltip": null,
      "layout": "IPY_MODEL_3077e5e11d6340b6be3877e6b160c92a",
      "max": 466062,
      "min": 0,
      "orientation": "horizontal",
      "style": "IPY_MODEL_1e88da398e4746cbb393a1bb5262c4ee",
      "value": 466062
     }
    },
    "cf0caf22508f44b89e1c661fa6b9e30f": {
     "model_module": "@jupyter-widgets/base",
     "model_module_version": "1.2.0",
     "model_name": "LayoutModel",
     "state": {
      "_model_module": "@jupyter-widgets/base",
      "_model_module_version": "1.2.0",
      "_model_name": "LayoutModel",
      "_view_count": null,
      "_view_module": "@jupyter-widgets/base",
      "_view_module_version": "1.2.0",
      "_view_name": "LayoutView",
      "align_content": null,
      "align_items": null,
      "align_self": null,
      "border": null,
      "bottom": null,
      "display": null,
      "flex": null,
      "flex_flow": null,
      "grid_area": null,
      "grid_auto_columns": null,
      "grid_auto_flow": null,
      "grid_auto_rows": null,
      "grid_column": null,
      "grid_gap": null,
      "grid_row": null,
      "grid_template_areas": null,
      "grid_template_columns": null,
      "grid_template_rows": null,
      "height": null,
      "justify_content": null,
      "justify_items": null,
      "left": null,
      "margin": null,
      "max_height": null,
      "max_width": null,
      "min_height": null,
      "min_width": null,
      "object_fit": null,
      "object_position": null,
      "order": null,
      "overflow": null,
      "overflow_x": null,
      "overflow_y": null,
      "padding": null,
      "right": null,
      "top": null,
      "visibility": null,
      "width": null
     }
    },
    "cf9e01b01dbe47bf8be57dd95ffbe00e": {
     "model_module": "@jupyter-widgets/controls",
     "model_module_version": "1.5.0",
     "model_name": "FloatProgressModel",
     "state": {
      "_dom_classes": [],
      "_model_module": "@jupyter-widgets/controls",
      "_model_module_version": "1.5.0",
      "_model_name": "FloatProgressModel",
      "_view_count": null,
      "_view_module": "@jupyter-widgets/controls",
      "_view_module_version": "1.5.0",
      "_view_name": "ProgressView",
      "bar_style": "success",
      "description": "",
      "description_tooltip": null,
      "layout": "IPY_MODEL_56917473b76c4a0a8ce3eb2c8cd34d77",
      "max": 20000,
      "min": 0,
      "orientation": "horizontal",
      "style": "IPY_MODEL_d2f0bc1fd2bf45ae8d4b8adebdebde53",
      "value": 20000
     }
    },
    "d0d7201477a34616822338bad9480361": {
     "model_module": "@jupyter-widgets/base",
     "model_module_version": "1.2.0",
     "model_name": "LayoutModel",
     "state": {
      "_model_module": "@jupyter-widgets/base",
      "_model_module_version": "1.2.0",
      "_model_name": "LayoutModel",
      "_view_count": null,
      "_view_module": "@jupyter-widgets/base",
      "_view_module_version": "1.2.0",
      "_view_name": "LayoutView",
      "align_content": null,
      "align_items": null,
      "align_self": null,
      "border": null,
      "bottom": null,
      "display": null,
      "flex": null,
      "flex_flow": null,
      "grid_area": null,
      "grid_auto_columns": null,
      "grid_auto_flow": null,
      "grid_auto_rows": null,
      "grid_column": null,
      "grid_gap": null,
      "grid_row": null,
      "grid_template_areas": null,
      "grid_template_columns": null,
      "grid_template_rows": null,
      "height": null,
      "justify_content": null,
      "justify_items": null,
      "left": null,
      "margin": null,
      "max_height": null,
      "max_width": null,
      "min_height": null,
      "min_width": null,
      "object_fit": null,
      "object_position": null,
      "order": null,
      "overflow": null,
      "overflow_x": null,
      "overflow_y": null,
      "padding": null,
      "right": null,
      "top": null,
      "visibility": null,
      "width": null
     }
    },
    "d2f0bc1fd2bf45ae8d4b8adebdebde53": {
     "model_module": "@jupyter-widgets/controls",
     "model_module_version": "1.5.0",
     "model_name": "ProgressStyleModel",
     "state": {
      "_model_module": "@jupyter-widgets/controls",
      "_model_module_version": "1.5.0",
      "_model_name": "ProgressStyleModel",
      "_view_count": null,
      "_view_module": "@jupyter-widgets/base",
      "_view_module_version": "1.2.0",
      "_view_name": "StyleView",
      "bar_color": null,
      "description_width": ""
     }
    },
    "da9ebdeaec2148e99e442fa8c7d65500": {
     "model_module": "@jupyter-widgets/controls",
     "model_module_version": "1.5.0",
     "model_name": "HTMLModel",
     "state": {
      "_dom_classes": [],
      "_model_module": "@jupyter-widgets/controls",
      "_model_module_version": "1.5.0",
      "_model_name": "HTMLModel",
      "_view_count": null,
      "_view_module": "@jupyter-widgets/controls",
      "_view_module_version": "1.5.0",
      "_view_name": "HTMLView",
      "description": "",
      "description_tooltip": null,
      "layout": "IPY_MODEL_49391d5afbf94668b8cad796dfeb0ea0",
      "placeholder": "​",
      "style": "IPY_MODEL_9a410e8d729947dcbda22ab3a1fba286",
      "value": "Map: 100%"
     }
    },
    "dc0424a4b160434b8515305f6a2ad4dd": {
     "model_module": "@jupyter-widgets/base",
     "model_module_version": "1.2.0",
     "model_name": "LayoutModel",
     "state": {
      "_model_module": "@jupyter-widgets/base",
      "_model_module_version": "1.2.0",
      "_model_name": "LayoutModel",
      "_view_count": null,
      "_view_module": "@jupyter-widgets/base",
      "_view_module_version": "1.2.0",
      "_view_name": "LayoutView",
      "align_content": null,
      "align_items": null,
      "align_self": null,
      "border": null,
      "bottom": null,
      "display": null,
      "flex": null,
      "flex_flow": null,
      "grid_area": null,
      "grid_auto_columns": null,
      "grid_auto_flow": null,
      "grid_auto_rows": null,
      "grid_column": null,
      "grid_gap": null,
      "grid_row": null,
      "grid_template_areas": null,
      "grid_template_columns": null,
      "grid_template_rows": null,
      "height": null,
      "justify_content": null,
      "justify_items": null,
      "left": null,
      "margin": null,
      "max_height": null,
      "max_width": null,
      "min_height": null,
      "min_width": null,
      "object_fit": null,
      "object_position": null,
      "order": null,
      "overflow": null,
      "overflow_x": null,
      "overflow_y": null,
      "padding": null,
      "right": null,
      "top": null,
      "visibility": null,
      "width": null
     }
    },
    "dcfccfe8d7e541efba45ab2df7b50d45": {
     "model_module": "@jupyter-widgets/base",
     "model_module_version": "1.2.0",
     "model_name": "LayoutModel",
     "state": {
      "_model_module": "@jupyter-widgets/base",
      "_model_module_version": "1.2.0",
      "_model_name": "LayoutModel",
      "_view_count": null,
      "_view_module": "@jupyter-widgets/base",
      "_view_module_version": "1.2.0",
      "_view_name": "LayoutView",
      "align_content": null,
      "align_items": null,
      "align_self": null,
      "border": null,
      "bottom": null,
      "display": null,
      "flex": null,
      "flex_flow": null,
      "grid_area": null,
      "grid_auto_columns": null,
      "grid_auto_flow": null,
      "grid_auto_rows": null,
      "grid_column": null,
      "grid_gap": null,
      "grid_row": null,
      "grid_template_areas": null,
      "grid_template_columns": null,
      "grid_template_rows": null,
      "height": null,
      "justify_content": null,
      "justify_items": null,
      "left": null,
      "margin": null,
      "max_height": null,
      "max_width": null,
      "min_height": null,
      "min_width": null,
      "object_fit": null,
      "object_position": null,
      "order": null,
      "overflow": null,
      "overflow_x": null,
      "overflow_y": null,
      "padding": null,
      "right": null,
      "top": null,
      "visibility": null,
      "width": null
     }
    },
    "dfe712ffdd3941338471b0d1066f5114": {
     "model_module": "@jupyter-widgets/base",
     "model_module_version": "1.2.0",
     "model_name": "LayoutModel",
     "state": {
      "_model_module": "@jupyter-widgets/base",
      "_model_module_version": "1.2.0",
      "_model_name": "LayoutModel",
      "_view_count": null,
      "_view_module": "@jupyter-widgets/base",
      "_view_module_version": "1.2.0",
      "_view_name": "LayoutView",
      "align_content": null,
      "align_items": null,
      "align_self": null,
      "border": null,
      "bottom": null,
      "display": null,
      "flex": null,
      "flex_flow": null,
      "grid_area": null,
      "grid_auto_columns": null,
      "grid_auto_flow": null,
      "grid_auto_rows": null,
      "grid_column": null,
      "grid_gap": null,
      "grid_row": null,
      "grid_template_areas": null,
      "grid_template_columns": null,
      "grid_template_rows": null,
      "height": null,
      "justify_content": null,
      "justify_items": null,
      "left": null,
      "margin": null,
      "max_height": null,
      "max_width": null,
      "min_height": null,
      "min_width": null,
      "object_fit": null,
      "object_position": null,
      "order": null,
      "overflow": null,
      "overflow_x": null,
      "overflow_y": null,
      "padding": null,
      "right": null,
      "top": null,
      "visibility": null,
      "width": null
     }
    },
    "e21901930e864d7d8e823295cbfd5829": {
     "model_module": "@jupyter-widgets/base",
     "model_module_version": "1.2.0",
     "model_name": "LayoutModel",
     "state": {
      "_model_module": "@jupyter-widgets/base",
      "_model_module_version": "1.2.0",
      "_model_name": "LayoutModel",
      "_view_count": null,
      "_view_module": "@jupyter-widgets/base",
      "_view_module_version": "1.2.0",
      "_view_name": "LayoutView",
      "align_content": null,
      "align_items": null,
      "align_self": null,
      "border": null,
      "bottom": null,
      "display": null,
      "flex": null,
      "flex_flow": null,
      "grid_area": null,
      "grid_auto_columns": null,
      "grid_auto_flow": null,
      "grid_auto_rows": null,
      "grid_column": null,
      "grid_gap": null,
      "grid_row": null,
      "grid_template_areas": null,
      "grid_template_columns": null,
      "grid_template_rows": null,
      "height": null,
      "justify_content": null,
      "justify_items": null,
      "left": null,
      "margin": null,
      "max_height": null,
      "max_width": null,
      "min_height": null,
      "min_width": null,
      "object_fit": null,
      "object_position": null,
      "order": null,
      "overflow": null,
      "overflow_x": null,
      "overflow_y": null,
      "padding": null,
      "right": null,
      "top": null,
      "visibility": null,
      "width": null
     }
    },
    "e3fe289ebc9e43189a30cc2b3d893c58": {
     "model_module": "@jupyter-widgets/controls",
     "model_module_version": "1.5.0",
     "model_name": "DescriptionStyleModel",
     "state": {
      "_model_module": "@jupyter-widgets/controls",
      "_model_module_version": "1.5.0",
      "_model_name": "DescriptionStyleModel",
      "_view_count": null,
      "_view_module": "@jupyter-widgets/base",
      "_view_module_version": "1.2.0",
      "_view_name": "StyleView",
      "description_width": ""
     }
    },
    "e40725b8b54347f1bcf1338ef502d959": {
     "model_module": "@jupyter-widgets/controls",
     "model_module_version": "1.5.0",
     "model_name": "HTMLModel",
     "state": {
      "_dom_classes": [],
      "_model_module": "@jupyter-widgets/controls",
      "_model_module_version": "1.5.0",
      "_model_name": "HTMLModel",
      "_view_count": null,
      "_view_module": "@jupyter-widgets/controls",
      "_view_module_version": "1.5.0",
      "_view_name": "HTMLView",
      "description": "",
      "description_tooltip": null,
      "layout": "IPY_MODEL_003efd12dd7c43788773f87022608cd2",
      "placeholder": "​",
      "style": "IPY_MODEL_a7951be00cab4b9a80e224a5f7eeb4d7",
      "value": " 232k/232k [00:00&lt;00:00, 3.57MB/s]"
     }
    },
    "e45aebb7df474ef3bf48b9116c099ae7": {
     "model_module": "@jupyter-widgets/controls",
     "model_module_version": "1.5.0",
     "model_name": "ProgressStyleModel",
     "state": {
      "_model_module": "@jupyter-widgets/controls",
      "_model_module_version": "1.5.0",
      "_model_name": "ProgressStyleModel",
      "_view_count": null,
      "_view_module": "@jupyter-widgets/base",
      "_view_module_version": "1.2.0",
      "_view_name": "StyleView",
      "bar_color": null,
      "description_width": ""
     }
    },
    "e57ccc5b05014c9a92740e8f4dd42e76": {
     "model_module": "@jupyter-widgets/controls",
     "model_module_version": "1.5.0",
     "model_name": "DescriptionStyleModel",
     "state": {
      "_model_module": "@jupyter-widgets/controls",
      "_model_module_version": "1.5.0",
      "_model_name": "DescriptionStyleModel",
      "_view_count": null,
      "_view_module": "@jupyter-widgets/base",
      "_view_module_version": "1.2.0",
      "_view_name": "StyleView",
      "description_width": ""
     }
    },
    "e64761e61d184b32812a82e71ef69e64": {
     "model_module": "@jupyter-widgets/base",
     "model_module_version": "1.2.0",
     "model_name": "LayoutModel",
     "state": {
      "_model_module": "@jupyter-widgets/base",
      "_model_module_version": "1.2.0",
      "_model_name": "LayoutModel",
      "_view_count": null,
      "_view_module": "@jupyter-widgets/base",
      "_view_module_version": "1.2.0",
      "_view_name": "LayoutView",
      "align_content": null,
      "align_items": null,
      "align_self": null,
      "border": null,
      "bottom": null,
      "display": null,
      "flex": null,
      "flex_flow": null,
      "grid_area": null,
      "grid_auto_columns": null,
      "grid_auto_flow": null,
      "grid_auto_rows": null,
      "grid_column": null,
      "grid_gap": null,
      "grid_row": null,
      "grid_template_areas": null,
      "grid_template_columns": null,
      "grid_template_rows": null,
      "height": null,
      "justify_content": null,
      "justify_items": null,
      "left": null,
      "margin": null,
      "max_height": null,
      "max_width": null,
      "min_height": null,
      "min_width": null,
      "object_fit": null,
      "object_position": null,
      "order": null,
      "overflow": null,
      "overflow_x": null,
      "overflow_y": null,
      "padding": null,
      "right": null,
      "top": null,
      "visibility": null,
      "width": null
     }
    },
    "ed0562cec30b4f18872f2baf433278b9": {
     "model_module": "@jupyter-widgets/base",
     "model_module_version": "1.2.0",
     "model_name": "LayoutModel",
     "state": {
      "_model_module": "@jupyter-widgets/base",
      "_model_module_version": "1.2.0",
      "_model_name": "LayoutModel",
      "_view_count": null,
      "_view_module": "@jupyter-widgets/base",
      "_view_module_version": "1.2.0",
      "_view_name": "LayoutView",
      "align_content": null,
      "align_items": null,
      "align_self": null,
      "border": null,
      "bottom": null,
      "display": null,
      "flex": null,
      "flex_flow": null,
      "grid_area": null,
      "grid_auto_columns": null,
      "grid_auto_flow": null,
      "grid_auto_rows": null,
      "grid_column": null,
      "grid_gap": null,
      "grid_row": null,
      "grid_template_areas": null,
      "grid_template_columns": null,
      "grid_template_rows": null,
      "height": null,
      "justify_content": null,
      "justify_items": null,
      "left": null,
      "margin": null,
      "max_height": null,
      "max_width": null,
      "min_height": null,
      "min_width": null,
      "object_fit": null,
      "object_position": null,
      "order": null,
      "overflow": null,
      "overflow_x": null,
      "overflow_y": null,
      "padding": null,
      "right": null,
      "top": null,
      "visibility": null,
      "width": null
     }
    },
    "f1b54b59c27543bcab6be6a3761deea2": {
     "model_module": "@jupyter-widgets/controls",
     "model_module_version": "1.5.0",
     "model_name": "HTMLModel",
     "state": {
      "_dom_classes": [],
      "_model_module": "@jupyter-widgets/controls",
      "_model_module_version": "1.5.0",
      "_model_name": "HTMLModel",
      "_view_count": null,
      "_view_module": "@jupyter-widgets/controls",
      "_view_module_version": "1.5.0",
      "_view_name": "HTMLView",
      "description": "",
      "description_tooltip": null,
      "layout": "IPY_MODEL_763a612739764fcb927eeb5cf2173291",
      "placeholder": "​",
      "style": "IPY_MODEL_6885b81c6bac494fbeb9c59909541f78",
      "value": "tokenizer_config.json: 100%"
     }
    },
    "f5e51b28692841a49cf2c9ceb22c5fbc": {
     "model_module": "@jupyter-widgets/controls",
     "model_module_version": "1.5.0",
     "model_name": "FloatProgressModel",
     "state": {
      "_dom_classes": [],
      "_model_module": "@jupyter-widgets/controls",
      "_model_module_version": "1.5.0",
      "_model_name": "FloatProgressModel",
      "_view_count": null,
      "_view_module": "@jupyter-widgets/controls",
      "_view_module_version": "1.5.0",
      "_view_name": "ProgressView",
      "bar_style": "success",
      "description": "",
      "description_tooltip": null,
      "layout": "IPY_MODEL_7fa59e279b994dae8350195e38c84f8e",
      "max": 20000,
      "min": 0,
      "orientation": "horizontal",
      "style": "IPY_MODEL_80e4ee75da0b47729f12ca1a21d78c06",
      "value": 20000
     }
    },
    "f5fbb82a064146d58bddc46bd26c527c": {
     "model_module": "@jupyter-widgets/base",
     "model_module_version": "1.2.0",
     "model_name": "LayoutModel",
     "state": {
      "_model_module": "@jupyter-widgets/base",
      "_model_module_version": "1.2.0",
      "_model_name": "LayoutModel",
      "_view_count": null,
      "_view_module": "@jupyter-widgets/base",
      "_view_module_version": "1.2.0",
      "_view_name": "LayoutView",
      "align_content": null,
      "align_items": null,
      "align_self": null,
      "border": null,
      "bottom": null,
      "display": null,
      "flex": null,
      "flex_flow": null,
      "grid_area": null,
      "grid_auto_columns": null,
      "grid_auto_flow": null,
      "grid_auto_rows": null,
      "grid_column": null,
      "grid_gap": null,
      "grid_row": null,
      "grid_template_areas": null,
      "grid_template_columns": null,
      "grid_template_rows": null,
      "height": null,
      "justify_content": null,
      "justify_items": null,
      "left": null,
      "margin": null,
      "max_height": null,
      "max_width": null,
      "min_height": null,
      "min_width": null,
      "object_fit": null,
      "object_position": null,
      "order": null,
      "overflow": null,
      "overflow_x": null,
      "overflow_y": null,
      "padding": null,
      "right": null,
      "top": null,
      "visibility": null,
      "width": null
     }
    },
    "f644bf313d10487aa752274330379dc5": {
     "model_module": "@jupyter-widgets/controls",
     "model_module_version": "1.5.0",
     "model_name": "HTMLModel",
     "state": {
      "_dom_classes": [],
      "_model_module": "@jupyter-widgets/controls",
      "_model_module_version": "1.5.0",
      "_model_name": "HTMLModel",
      "_view_count": null,
      "_view_module": "@jupyter-widgets/controls",
      "_view_module_version": "1.5.0",
      "_view_name": "HTMLView",
      "description": "",
      "description_tooltip": null,
      "layout": "IPY_MODEL_e21901930e864d7d8e823295cbfd5829",
      "placeholder": "​",
      "style": "IPY_MODEL_4ba003b5c426402ebc407c1bf46f182e",
      "value": " 48.0/48.0 [00:00&lt;00:00, 1.76kB/s]"
     }
    },
    "f88c23c699a14b8ab5d0c4c127e2dd23": {
     "model_module": "@jupyter-widgets/base",
     "model_module_version": "1.2.0",
     "model_name": "LayoutModel",
     "state": {
      "_model_module": "@jupyter-widgets/base",
      "_model_module_version": "1.2.0",
      "_model_name": "LayoutModel",
      "_view_count": null,
      "_view_module": "@jupyter-widgets/base",
      "_view_module_version": "1.2.0",
      "_view_name": "LayoutView",
      "align_content": null,
      "align_items": null,
      "align_self": null,
      "border": null,
      "bottom": null,
      "display": null,
      "flex": null,
      "flex_flow": null,
      "grid_area": null,
      "grid_auto_columns": null,
      "grid_auto_flow": null,
      "grid_auto_rows": null,
      "grid_column": null,
      "grid_gap": null,
      "grid_row": null,
      "grid_template_areas": null,
      "grid_template_columns": null,
      "grid_template_rows": null,
      "height": null,
      "justify_content": null,
      "justify_items": null,
      "left": null,
      "margin": null,
      "max_height": null,
      "max_width": null,
      "min_height": null,
      "min_width": null,
      "object_fit": null,
      "object_position": null,
      "order": null,
      "overflow": null,
      "overflow_x": null,
      "overflow_y": null,
      "padding": null,
      "right": null,
      "top": null,
      "visibility": null,
      "width": null
     }
    },
    "f9ddda41f1fb4a27b498dfa68fe8b153": {
     "model_module": "@jupyter-widgets/base",
     "model_module_version": "1.2.0",
     "model_name": "LayoutModel",
     "state": {
      "_model_module": "@jupyter-widgets/base",
      "_model_module_version": "1.2.0",
      "_model_name": "LayoutModel",
      "_view_count": null,
      "_view_module": "@jupyter-widgets/base",
      "_view_module_version": "1.2.0",
      "_view_name": "LayoutView",
      "align_content": null,
      "align_items": null,
      "align_self": null,
      "border": null,
      "bottom": null,
      "display": null,
      "flex": null,
      "flex_flow": null,
      "grid_area": null,
      "grid_auto_columns": null,
      "grid_auto_flow": null,
      "grid_auto_rows": null,
      "grid_column": null,
      "grid_gap": null,
      "grid_row": null,
      "grid_template_areas": null,
      "grid_template_columns": null,
      "grid_template_rows": null,
      "height": null,
      "justify_content": null,
      "justify_items": null,
      "left": null,
      "margin": null,
      "max_height": null,
      "max_width": null,
      "min_height": null,
      "min_width": null,
      "object_fit": null,
      "object_position": null,
      "order": null,
      "overflow": null,
      "overflow_x": null,
      "overflow_y": null,
      "padding": null,
      "right": null,
      "top": null,
      "visibility": null,
      "width": null
     }
    },
    "f9f9e3325e4949179c321d3458e66fdf": {
     "model_module": "@jupyter-widgets/controls",
     "model_module_version": "1.5.0",
     "model_name": "DescriptionStyleModel",
     "state": {
      "_model_module": "@jupyter-widgets/controls",
      "_model_module_version": "1.5.0",
      "_model_name": "DescriptionStyleModel",
      "_view_count": null,
      "_view_module": "@jupyter-widgets/base",
      "_view_module_version": "1.2.0",
      "_view_name": "StyleView",
      "description_width": ""
     }
    },
    "fb546f873d9b45bca78feb2af39a69db": {
     "model_module": "@jupyter-widgets/base",
     "model_module_version": "1.2.0",
     "model_name": "LayoutModel",
     "state": {
      "_model_module": "@jupyter-widgets/base",
      "_model_module_version": "1.2.0",
      "_model_name": "LayoutModel",
      "_view_count": null,
      "_view_module": "@jupyter-widgets/base",
      "_view_module_version": "1.2.0",
      "_view_name": "LayoutView",
      "align_content": null,
      "align_items": null,
      "align_self": null,
      "border": null,
      "bottom": null,
      "display": null,
      "flex": null,
      "flex_flow": null,
      "grid_area": null,
      "grid_auto_columns": null,
      "grid_auto_flow": null,
      "grid_auto_rows": null,
      "grid_column": null,
      "grid_gap": null,
      "grid_row": null,
      "grid_template_areas": null,
      "grid_template_columns": null,
      "grid_template_rows": null,
      "height": null,
      "justify_content": null,
      "justify_items": null,
      "left": null,
      "margin": null,
      "max_height": null,
      "max_width": null,
      "min_height": null,
      "min_width": null,
      "object_fit": null,
      "object_position": null,
      "order": null,
      "overflow": null,
      "overflow_x": null,
      "overflow_y": null,
      "padding": null,
      "right": null,
      "top": null,
      "visibility": null,
      "width": null
     }
    }
   }
  }
 },
 "nbformat": 4,
 "nbformat_minor": 5
}
