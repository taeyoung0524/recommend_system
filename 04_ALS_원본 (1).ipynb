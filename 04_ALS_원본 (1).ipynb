{
 "cells": [
  {
   "cell_type": "markdown",
   "metadata": {
    "id": "pkVq4ZwNHxvr"
   },
   "source": [
    "# A Practice on \"MovieLens 100K Dataset\": #4: Matrix Factorization with Alternating Least Squares (ALS)"
   ]
  },
  {
   "cell_type": "markdown",
   "metadata": {
    "id": "Dq0Kn0HpHxvv"
   },
   "source": [
    "Previously, I showed how to use similarity-based approaches that guess unknown user-movie-rating triplets by looking at either movies with a similar rating profile or users with a similar rating profile. These approaches leave a lot of data on the table though. Matrix factorization is a way to both take into account more data and perform some regularizing dimensionality reduction to help deal with the sparsity problem.\n",
    "\n",
    "The basic idea is to organize the user-movie-rating triplets into a matrix with each row representing a user and each column representing a movie. We want to approximate this large matrix with a matrix multiplication of 2 smaller matrices. In the example below, each row of the \"User Matrix\" has 2 latent features of that user, and each column of the \"Item Matrix\" has 2 latent features of that item. The dot product of any user's latent features and item's latent features will give an estimate of the rating that user would give that movie.\n",
    "\n",
    "![Matrix Factorization Example](https://github.com/benlindsay/movielens-analysis/blob/master/images/matrix-factorization.png?raw=1)\n",
    "\n",
    "Image Source: [https://medium.com/@connectwithghosh](https://medium.com/@connectwithghosh/simple-matrix-factorization-example-on-the-movielens-dataset-using-pyspark-9b7e3f567536)\n",
    "\n",
    "There are many variations on this theme and multiple ways to perform this matrix factorization. The method I demonstrate here is called \"Alternating Least Squares\" method which was designed for the [Netflix Prize](https://www.netflixprize.com/) and described in [this paper](http://www.grappa.univ-lille3.fr/~mary/cours/stats/centrale/reco/paper/MatrixFactorizationALS.pdf). This method works iteratively, with 2 main steps per iteration:\n",
    "\n",
    "1. Assume the User Matrix is fixed and solve for the Item Matrix\n",
    "2. Assume the Item Matrix is fixed and solve for the User Matrix\n",
    "\n",
    "\n"
   ]
  },
  {
   "cell_type": "markdown",
   "metadata": {
    "id": "e652K3hkIDrr"
   },
   "source": [
    "# 0. Mount and load raw data"
   ]
  },
  {
   "cell_type": "code",
   "execution_count": 1,
   "metadata": {
    "colab": {
     "base_uri": "https://localhost:8080/"
    },
    "executionInfo": {
     "elapsed": 20180,
     "status": "ok",
     "timestamp": 1714994750402,
     "user": {
      "displayName": "오장민 (AI융합학부)",
      "userId": "14191339932351591583"
     },
     "user_tz": -540
    },
    "id": "N1kZRL6rH_R3",
    "outputId": "04b432f4-e3f4-4779-bd68-4c689a72d86c"
   },
   "outputs": [
    {
     "name": "stdout",
     "output_type": "stream",
     "text": [
      "Mounted at /gdrive\n"
     ]
    }
   ],
   "source": [
    "from google.colab import drive\n",
    "drive.mount('/gdrive', force_remount=True)"
   ]
  },
  {
   "cell_type": "code",
   "execution_count": 2,
   "metadata": {
    "colab": {
     "base_uri": "https://localhost:8080/"
    },
    "executionInfo": {
     "elapsed": 7,
     "status": "ok",
     "timestamp": 1714994750402,
     "user": {
      "displayName": "오장민 (AI융합학부)",
      "userId": "14191339932351591583"
     },
     "user_tz": -540
    },
    "id": "ipQz9UH8IFOg",
    "outputId": "ad8215d3-d860-4cab-b7e9-1d531c7c8036"
   },
   "outputs": [
    {
     "name": "stdout",
     "output_type": "stream",
     "text": [
      "/gdrive/MyDrive/Lectures/2024/RecSys\n"
     ]
    }
   ],
   "source": [
    "cd /gdrive/MyDrive/Lectures/2024/RecSys"
   ]
  },
  {
   "cell_type": "markdown",
   "metadata": {
    "id": "GEr1c82kH6XK"
   },
   "source": [
    "# 1. Import necessary modules and classes"
   ]
  },
  {
   "cell_type": "code",
   "execution_count": 3,
   "metadata": {
    "colab": {
     "base_uri": "https://localhost:8080/"
    },
    "executionInfo": {
     "elapsed": 2243,
     "status": "ok",
     "timestamp": 1714994752641,
     "user": {
      "displayName": "오장민 (AI융합학부)",
      "userId": "14191339932351591583"
     },
     "user_tz": -540
    },
    "id": "1Qp4v0N7Hxvw",
    "outputId": "c94b395b-f8af-480e-913e-a232407cfdbc"
   },
   "outputs": [
    {
     "name": "stderr",
     "output_type": "stream",
     "text": [
      "<ipython-input-3-e72051cea4ab>:19: MatplotlibDeprecationWarning: The seaborn styles shipped by Matplotlib are deprecated since 3.6, as they no longer correspond to the styles shipped by seaborn. However, they will remain available as 'seaborn-v0_8-<style>'. Alternatively, directly use the seaborn API instead.\n",
      "  plt.style.use('seaborn-darkgrid')\n"
     ]
    }
   ],
   "source": [
    "# <!-- collapse=True -->\n",
    "%matplotlib inline\n",
    "from datetime import datetime\n",
    "from functools import reduce\n",
    "from os.path import exists\n",
    "from sklearn.metrics import mean_absolute_error\n",
    "from sklearn.model_selection import KFold\n",
    "import gc\n",
    "import matplotlib.pyplot as plt\n",
    "import numpy as np\n",
    "import pandas as pd\n",
    "import seaborn as sns\n",
    "import sys\n",
    "\n",
    "# Import User + Movie baseline model\n",
    "from cf_utils import DampedUserMovieBaselineModel\n",
    "\n",
    "# Use custom matplotlib stylesheet\n",
    "plt.style.use('seaborn-darkgrid')"
   ]
  },
  {
   "cell_type": "markdown",
   "metadata": {
    "id": "WAW6pH13Hxvy"
   },
   "source": [
    "# 2. Load the Data\n",
    "\n",
    "Let's load and examine the ratings data. If you're following along (i.e. actually running these notebooks) you'll need to make sure to run the first one to download the data before running this one."
   ]
  },
  {
   "cell_type": "code",
   "execution_count": 4,
   "metadata": {
    "colab": {
     "base_uri": "https://localhost:8080/",
     "height": 447
    },
    "executionInfo": {
     "elapsed": 1360,
     "status": "ok",
     "timestamp": 1714994753998,
     "user": {
      "displayName": "오장민 (AI융합학부)",
      "userId": "14191339932351591583"
     },
     "user_tz": -540
    },
    "id": "4tY4tFtDHxvz",
    "outputId": "91117b8c-0072-44ba-af31-754312d160c5"
   },
   "outputs": [
    {
     "name": "stdout",
     "output_type": "stream",
     "text": [
      "First 5:\n"
     ]
    },
    {
     "data": {
      "application/vnd.google.colaboratory.intrinsic+json": {
       "summary": "{\n  \"name\": \"display(ratings_df\",\n  \"rows\": 5,\n  \"fields\": [\n    {\n      \"column\": \"userId\",\n      \"properties\": {\n        \"dtype\": \"number\",\n        \"std\": 0,\n        \"min\": 259,\n        \"max\": 259,\n        \"num_unique_values\": 1,\n        \"samples\": [\n          259\n        ],\n        \"semantic_type\": \"\",\n        \"description\": \"\"\n      }\n    },\n    {\n      \"column\": \"movieId\",\n      \"properties\": {\n        \"dtype\": \"number\",\n        \"std\": 57,\n        \"min\": 173,\n        \"max\": 298,\n        \"num_unique_values\": 5,\n        \"samples\": [\n          286\n        ],\n        \"semantic_type\": \"\",\n        \"description\": \"\"\n      }\n    },\n    {\n      \"column\": \"rating\",\n      \"properties\": {\n        \"dtype\": \"number\",\n        \"std\": 0,\n        \"min\": 4,\n        \"max\": 4,\n        \"num_unique_values\": 1,\n        \"samples\": [\n          4\n        ],\n        \"semantic_type\": \"\",\n        \"description\": \"\"\n      }\n    },\n    {\n      \"column\": \"timestamp\",\n      \"properties\": {\n        \"dtype\": \"date\",\n        \"min\": \"1997-09-20 03:05:10\",\n        \"max\": \"1997-09-20 03:07:23\",\n        \"num_unique_values\": 5,\n        \"samples\": [\n          \"1997-09-20 03:05:27\"\n        ],\n        \"semantic_type\": \"\",\n        \"description\": \"\"\n      }\n    }\n  ]\n}",
       "type": "dataframe"
      },
      "text/html": [
       "\n",
       "  <div id=\"df-a0e89dc1-3913-49c2-9345-9343f51723bf\" class=\"colab-df-container\">\n",
       "    <div>\n",
       "<style scoped>\n",
       "    .dataframe tbody tr th:only-of-type {\n",
       "        vertical-align: middle;\n",
       "    }\n",
       "\n",
       "    .dataframe tbody tr th {\n",
       "        vertical-align: top;\n",
       "    }\n",
       "\n",
       "    .dataframe thead th {\n",
       "        text-align: right;\n",
       "    }\n",
       "</style>\n",
       "<table border=\"1\" class=\"dataframe\">\n",
       "  <thead>\n",
       "    <tr style=\"text-align: right;\">\n",
       "      <th></th>\n",
       "      <th>userId</th>\n",
       "      <th>movieId</th>\n",
       "      <th>rating</th>\n",
       "      <th>timestamp</th>\n",
       "    </tr>\n",
       "  </thead>\n",
       "  <tbody>\n",
       "    <tr>\n",
       "      <th>214</th>\n",
       "      <td>259</td>\n",
       "      <td>255</td>\n",
       "      <td>4</td>\n",
       "      <td>1997-09-20 03:05:10</td>\n",
       "    </tr>\n",
       "    <tr>\n",
       "      <th>83965</th>\n",
       "      <td>259</td>\n",
       "      <td>286</td>\n",
       "      <td>4</td>\n",
       "      <td>1997-09-20 03:05:27</td>\n",
       "    </tr>\n",
       "    <tr>\n",
       "      <th>43027</th>\n",
       "      <td>259</td>\n",
       "      <td>298</td>\n",
       "      <td>4</td>\n",
       "      <td>1997-09-20 03:05:54</td>\n",
       "    </tr>\n",
       "    <tr>\n",
       "      <th>21396</th>\n",
       "      <td>259</td>\n",
       "      <td>185</td>\n",
       "      <td>4</td>\n",
       "      <td>1997-09-20 03:06:21</td>\n",
       "    </tr>\n",
       "    <tr>\n",
       "      <th>82655</th>\n",
       "      <td>259</td>\n",
       "      <td>173</td>\n",
       "      <td>4</td>\n",
       "      <td>1997-09-20 03:07:23</td>\n",
       "    </tr>\n",
       "  </tbody>\n",
       "</table>\n",
       "</div>\n",
       "    <div class=\"colab-df-buttons\">\n",
       "\n",
       "  <div class=\"colab-df-container\">\n",
       "    <button class=\"colab-df-convert\" onclick=\"convertToInteractive('df-a0e89dc1-3913-49c2-9345-9343f51723bf')\"\n",
       "            title=\"Convert this dataframe to an interactive table.\"\n",
       "            style=\"display:none;\">\n",
       "\n",
       "  <svg xmlns=\"http://www.w3.org/2000/svg\" height=\"24px\" viewBox=\"0 -960 960 960\">\n",
       "    <path d=\"M120-120v-720h720v720H120Zm60-500h600v-160H180v160Zm220 220h160v-160H400v160Zm0 220h160v-160H400v160ZM180-400h160v-160H180v160Zm440 0h160v-160H620v160ZM180-180h160v-160H180v160Zm440 0h160v-160H620v160Z\"/>\n",
       "  </svg>\n",
       "    </button>\n",
       "\n",
       "  <style>\n",
       "    .colab-df-container {\n",
       "      display:flex;\n",
       "      gap: 12px;\n",
       "    }\n",
       "\n",
       "    .colab-df-convert {\n",
       "      background-color: #E8F0FE;\n",
       "      border: none;\n",
       "      border-radius: 50%;\n",
       "      cursor: pointer;\n",
       "      display: none;\n",
       "      fill: #1967D2;\n",
       "      height: 32px;\n",
       "      padding: 0 0 0 0;\n",
       "      width: 32px;\n",
       "    }\n",
       "\n",
       "    .colab-df-convert:hover {\n",
       "      background-color: #E2EBFA;\n",
       "      box-shadow: 0px 1px 2px rgba(60, 64, 67, 0.3), 0px 1px 3px 1px rgba(60, 64, 67, 0.15);\n",
       "      fill: #174EA6;\n",
       "    }\n",
       "\n",
       "    .colab-df-buttons div {\n",
       "      margin-bottom: 4px;\n",
       "    }\n",
       "\n",
       "    [theme=dark] .colab-df-convert {\n",
       "      background-color: #3B4455;\n",
       "      fill: #D2E3FC;\n",
       "    }\n",
       "\n",
       "    [theme=dark] .colab-df-convert:hover {\n",
       "      background-color: #434B5C;\n",
       "      box-shadow: 0px 1px 3px 1px rgba(0, 0, 0, 0.15);\n",
       "      filter: drop-shadow(0px 1px 2px rgba(0, 0, 0, 0.3));\n",
       "      fill: #FFFFFF;\n",
       "    }\n",
       "  </style>\n",
       "\n",
       "    <script>\n",
       "      const buttonEl =\n",
       "        document.querySelector('#df-a0e89dc1-3913-49c2-9345-9343f51723bf button.colab-df-convert');\n",
       "      buttonEl.style.display =\n",
       "        google.colab.kernel.accessAllowed ? 'block' : 'none';\n",
       "\n",
       "      async function convertToInteractive(key) {\n",
       "        const element = document.querySelector('#df-a0e89dc1-3913-49c2-9345-9343f51723bf');\n",
       "        const dataTable =\n",
       "          await google.colab.kernel.invokeFunction('convertToInteractive',\n",
       "                                                    [key], {});\n",
       "        if (!dataTable) return;\n",
       "\n",
       "        const docLinkHtml = 'Like what you see? Visit the ' +\n",
       "          '<a target=\"_blank\" href=https://colab.research.google.com/notebooks/data_table.ipynb>data table notebook</a>'\n",
       "          + ' to learn more about interactive tables.';\n",
       "        element.innerHTML = '';\n",
       "        dataTable['output_type'] = 'display_data';\n",
       "        await google.colab.output.renderOutput(dataTable, element);\n",
       "        const docLink = document.createElement('div');\n",
       "        docLink.innerHTML = docLinkHtml;\n",
       "        element.appendChild(docLink);\n",
       "      }\n",
       "    </script>\n",
       "  </div>\n",
       "\n",
       "\n",
       "<div id=\"df-09ce4858-437c-42af-b687-bc86d24a47b1\">\n",
       "  <button class=\"colab-df-quickchart\" onclick=\"quickchart('df-09ce4858-437c-42af-b687-bc86d24a47b1')\"\n",
       "            title=\"Suggest charts\"\n",
       "            style=\"display:none;\">\n",
       "\n",
       "<svg xmlns=\"http://www.w3.org/2000/svg\" height=\"24px\"viewBox=\"0 0 24 24\"\n",
       "     width=\"24px\">\n",
       "    <g>\n",
       "        <path d=\"M19 3H5c-1.1 0-2 .9-2 2v14c0 1.1.9 2 2 2h14c1.1 0 2-.9 2-2V5c0-1.1-.9-2-2-2zM9 17H7v-7h2v7zm4 0h-2V7h2v10zm4 0h-2v-4h2v4z\"/>\n",
       "    </g>\n",
       "</svg>\n",
       "  </button>\n",
       "\n",
       "<style>\n",
       "  .colab-df-quickchart {\n",
       "      --bg-color: #E8F0FE;\n",
       "      --fill-color: #1967D2;\n",
       "      --hover-bg-color: #E2EBFA;\n",
       "      --hover-fill-color: #174EA6;\n",
       "      --disabled-fill-color: #AAA;\n",
       "      --disabled-bg-color: #DDD;\n",
       "  }\n",
       "\n",
       "  [theme=dark] .colab-df-quickchart {\n",
       "      --bg-color: #3B4455;\n",
       "      --fill-color: #D2E3FC;\n",
       "      --hover-bg-color: #434B5C;\n",
       "      --hover-fill-color: #FFFFFF;\n",
       "      --disabled-bg-color: #3B4455;\n",
       "      --disabled-fill-color: #666;\n",
       "  }\n",
       "\n",
       "  .colab-df-quickchart {\n",
       "    background-color: var(--bg-color);\n",
       "    border: none;\n",
       "    border-radius: 50%;\n",
       "    cursor: pointer;\n",
       "    display: none;\n",
       "    fill: var(--fill-color);\n",
       "    height: 32px;\n",
       "    padding: 0;\n",
       "    width: 32px;\n",
       "  }\n",
       "\n",
       "  .colab-df-quickchart:hover {\n",
       "    background-color: var(--hover-bg-color);\n",
       "    box-shadow: 0 1px 2px rgba(60, 64, 67, 0.3), 0 1px 3px 1px rgba(60, 64, 67, 0.15);\n",
       "    fill: var(--button-hover-fill-color);\n",
       "  }\n",
       "\n",
       "  .colab-df-quickchart-complete:disabled,\n",
       "  .colab-df-quickchart-complete:disabled:hover {\n",
       "    background-color: var(--disabled-bg-color);\n",
       "    fill: var(--disabled-fill-color);\n",
       "    box-shadow: none;\n",
       "  }\n",
       "\n",
       "  .colab-df-spinner {\n",
       "    border: 2px solid var(--fill-color);\n",
       "    border-color: transparent;\n",
       "    border-bottom-color: var(--fill-color);\n",
       "    animation:\n",
       "      spin 1s steps(1) infinite;\n",
       "  }\n",
       "\n",
       "  @keyframes spin {\n",
       "    0% {\n",
       "      border-color: transparent;\n",
       "      border-bottom-color: var(--fill-color);\n",
       "      border-left-color: var(--fill-color);\n",
       "    }\n",
       "    20% {\n",
       "      border-color: transparent;\n",
       "      border-left-color: var(--fill-color);\n",
       "      border-top-color: var(--fill-color);\n",
       "    }\n",
       "    30% {\n",
       "      border-color: transparent;\n",
       "      border-left-color: var(--fill-color);\n",
       "      border-top-color: var(--fill-color);\n",
       "      border-right-color: var(--fill-color);\n",
       "    }\n",
       "    40% {\n",
       "      border-color: transparent;\n",
       "      border-right-color: var(--fill-color);\n",
       "      border-top-color: var(--fill-color);\n",
       "    }\n",
       "    60% {\n",
       "      border-color: transparent;\n",
       "      border-right-color: var(--fill-color);\n",
       "    }\n",
       "    80% {\n",
       "      border-color: transparent;\n",
       "      border-right-color: var(--fill-color);\n",
       "      border-bottom-color: var(--fill-color);\n",
       "    }\n",
       "    90% {\n",
       "      border-color: transparent;\n",
       "      border-bottom-color: var(--fill-color);\n",
       "    }\n",
       "  }\n",
       "</style>\n",
       "\n",
       "  <script>\n",
       "    async function quickchart(key) {\n",
       "      const quickchartButtonEl =\n",
       "        document.querySelector('#' + key + ' button');\n",
       "      quickchartButtonEl.disabled = true;  // To prevent multiple clicks.\n",
       "      quickchartButtonEl.classList.add('colab-df-spinner');\n",
       "      try {\n",
       "        const charts = await google.colab.kernel.invokeFunction(\n",
       "            'suggestCharts', [key], {});\n",
       "      } catch (error) {\n",
       "        console.error('Error during call to suggestCharts:', error);\n",
       "      }\n",
       "      quickchartButtonEl.classList.remove('colab-df-spinner');\n",
       "      quickchartButtonEl.classList.add('colab-df-quickchart-complete');\n",
       "    }\n",
       "    (() => {\n",
       "      let quickchartButtonEl =\n",
       "        document.querySelector('#df-09ce4858-437c-42af-b687-bc86d24a47b1 button');\n",
       "      quickchartButtonEl.style.display =\n",
       "        google.colab.kernel.accessAllowed ? 'block' : 'none';\n",
       "    })();\n",
       "  </script>\n",
       "</div>\n",
       "    </div>\n",
       "  </div>\n"
      ],
      "text/plain": [
       "       userId  movieId  rating           timestamp\n",
       "214       259      255       4 1997-09-20 03:05:10\n",
       "83965     259      286       4 1997-09-20 03:05:27\n",
       "43027     259      298       4 1997-09-20 03:05:54\n",
       "21396     259      185       4 1997-09-20 03:06:21\n",
       "82655     259      173       4 1997-09-20 03:07:23"
      ]
     },
     "metadata": {},
     "output_type": "display_data"
    },
    {
     "name": "stdout",
     "output_type": "stream",
     "text": [
      "\n",
      "Last 5:\n"
     ]
    },
    {
     "data": {
      "application/vnd.google.colaboratory.intrinsic+json": {
       "summary": "{\n  \"name\": \"display(ratings_df\",\n  \"rows\": 5,\n  \"fields\": [\n    {\n      \"column\": \"userId\",\n      \"properties\": {\n        \"dtype\": \"number\",\n        \"std\": 0,\n        \"min\": 729,\n        \"max\": 729,\n        \"num_unique_values\": 1,\n        \"samples\": [\n          729\n        ],\n        \"semantic_type\": \"\",\n        \"description\": \"\"\n      }\n    },\n    {\n      \"column\": \"movieId\",\n      \"properties\": {\n        \"dtype\": \"number\",\n        \"std\": 228,\n        \"min\": 272,\n        \"max\": 748,\n        \"num_unique_values\": 5,\n        \"samples\": [\n          313\n        ],\n        \"semantic_type\": \"\",\n        \"description\": \"\"\n      }\n    },\n    {\n      \"column\": \"rating\",\n      \"properties\": {\n        \"dtype\": \"number\",\n        \"std\": 0,\n        \"min\": 3,\n        \"max\": 4,\n        \"num_unique_values\": 2,\n        \"samples\": [\n          3\n        ],\n        \"semantic_type\": \"\",\n        \"description\": \"\"\n      }\n    },\n    {\n      \"column\": \"timestamp\",\n      \"properties\": {\n        \"dtype\": \"date\",\n        \"min\": \"1998-04-22 23:10:38\",\n        \"max\": \"1998-04-22 23:10:38\",\n        \"num_unique_values\": 1,\n        \"samples\": [\n          \"1998-04-22 23:10:38\"\n        ],\n        \"semantic_type\": \"\",\n        \"description\": \"\"\n      }\n    }\n  ]\n}",
       "type": "dataframe"
      },
      "text/html": [
       "\n",
       "  <div id=\"df-1e3c5715-e0ef-469a-afb6-f4ea0e1b05e7\" class=\"colab-df-container\">\n",
       "    <div>\n",
       "<style scoped>\n",
       "    .dataframe tbody tr th:only-of-type {\n",
       "        vertical-align: middle;\n",
       "    }\n",
       "\n",
       "    .dataframe tbody tr th {\n",
       "        vertical-align: top;\n",
       "    }\n",
       "\n",
       "    .dataframe thead th {\n",
       "        text-align: right;\n",
       "    }\n",
       "</style>\n",
       "<table border=\"1\" class=\"dataframe\">\n",
       "  <thead>\n",
       "    <tr style=\"text-align: right;\">\n",
       "      <th></th>\n",
       "      <th>userId</th>\n",
       "      <th>movieId</th>\n",
       "      <th>rating</th>\n",
       "      <th>timestamp</th>\n",
       "    </tr>\n",
       "  </thead>\n",
       "  <tbody>\n",
       "    <tr>\n",
       "      <th>46773</th>\n",
       "      <td>729</td>\n",
       "      <td>689</td>\n",
       "      <td>4</td>\n",
       "      <td>1998-04-22 23:10:38</td>\n",
       "    </tr>\n",
       "    <tr>\n",
       "      <th>73008</th>\n",
       "      <td>729</td>\n",
       "      <td>313</td>\n",
       "      <td>3</td>\n",
       "      <td>1998-04-22 23:10:38</td>\n",
       "    </tr>\n",
       "    <tr>\n",
       "      <th>46574</th>\n",
       "      <td>729</td>\n",
       "      <td>328</td>\n",
       "      <td>3</td>\n",
       "      <td>1998-04-22 23:10:38</td>\n",
       "    </tr>\n",
       "    <tr>\n",
       "      <th>64312</th>\n",
       "      <td>729</td>\n",
       "      <td>748</td>\n",
       "      <td>4</td>\n",
       "      <td>1998-04-22 23:10:38</td>\n",
       "    </tr>\n",
       "    <tr>\n",
       "      <th>79208</th>\n",
       "      <td>729</td>\n",
       "      <td>272</td>\n",
       "      <td>4</td>\n",
       "      <td>1998-04-22 23:10:38</td>\n",
       "    </tr>\n",
       "  </tbody>\n",
       "</table>\n",
       "</div>\n",
       "    <div class=\"colab-df-buttons\">\n",
       "\n",
       "  <div class=\"colab-df-container\">\n",
       "    <button class=\"colab-df-convert\" onclick=\"convertToInteractive('df-1e3c5715-e0ef-469a-afb6-f4ea0e1b05e7')\"\n",
       "            title=\"Convert this dataframe to an interactive table.\"\n",
       "            style=\"display:none;\">\n",
       "\n",
       "  <svg xmlns=\"http://www.w3.org/2000/svg\" height=\"24px\" viewBox=\"0 -960 960 960\">\n",
       "    <path d=\"M120-120v-720h720v720H120Zm60-500h600v-160H180v160Zm220 220h160v-160H400v160Zm0 220h160v-160H400v160ZM180-400h160v-160H180v160Zm440 0h160v-160H620v160ZM180-180h160v-160H180v160Zm440 0h160v-160H620v160Z\"/>\n",
       "  </svg>\n",
       "    </button>\n",
       "\n",
       "  <style>\n",
       "    .colab-df-container {\n",
       "      display:flex;\n",
       "      gap: 12px;\n",
       "    }\n",
       "\n",
       "    .colab-df-convert {\n",
       "      background-color: #E8F0FE;\n",
       "      border: none;\n",
       "      border-radius: 50%;\n",
       "      cursor: pointer;\n",
       "      display: none;\n",
       "      fill: #1967D2;\n",
       "      height: 32px;\n",
       "      padding: 0 0 0 0;\n",
       "      width: 32px;\n",
       "    }\n",
       "\n",
       "    .colab-df-convert:hover {\n",
       "      background-color: #E2EBFA;\n",
       "      box-shadow: 0px 1px 2px rgba(60, 64, 67, 0.3), 0px 1px 3px 1px rgba(60, 64, 67, 0.15);\n",
       "      fill: #174EA6;\n",
       "    }\n",
       "\n",
       "    .colab-df-buttons div {\n",
       "      margin-bottom: 4px;\n",
       "    }\n",
       "\n",
       "    [theme=dark] .colab-df-convert {\n",
       "      background-color: #3B4455;\n",
       "      fill: #D2E3FC;\n",
       "    }\n",
       "\n",
       "    [theme=dark] .colab-df-convert:hover {\n",
       "      background-color: #434B5C;\n",
       "      box-shadow: 0px 1px 3px 1px rgba(0, 0, 0, 0.15);\n",
       "      filter: drop-shadow(0px 1px 2px rgba(0, 0, 0, 0.3));\n",
       "      fill: #FFFFFF;\n",
       "    }\n",
       "  </style>\n",
       "\n",
       "    <script>\n",
       "      const buttonEl =\n",
       "        document.querySelector('#df-1e3c5715-e0ef-469a-afb6-f4ea0e1b05e7 button.colab-df-convert');\n",
       "      buttonEl.style.display =\n",
       "        google.colab.kernel.accessAllowed ? 'block' : 'none';\n",
       "\n",
       "      async function convertToInteractive(key) {\n",
       "        const element = document.querySelector('#df-1e3c5715-e0ef-469a-afb6-f4ea0e1b05e7');\n",
       "        const dataTable =\n",
       "          await google.colab.kernel.invokeFunction('convertToInteractive',\n",
       "                                                    [key], {});\n",
       "        if (!dataTable) return;\n",
       "\n",
       "        const docLinkHtml = 'Like what you see? Visit the ' +\n",
       "          '<a target=\"_blank\" href=https://colab.research.google.com/notebooks/data_table.ipynb>data table notebook</a>'\n",
       "          + ' to learn more about interactive tables.';\n",
       "        element.innerHTML = '';\n",
       "        dataTable['output_type'] = 'display_data';\n",
       "        await google.colab.output.renderOutput(dataTable, element);\n",
       "        const docLink = document.createElement('div');\n",
       "        docLink.innerHTML = docLinkHtml;\n",
       "        element.appendChild(docLink);\n",
       "      }\n",
       "    </script>\n",
       "  </div>\n",
       "\n",
       "\n",
       "<div id=\"df-98423c0d-6b57-48a9-957c-02478eb33d24\">\n",
       "  <button class=\"colab-df-quickchart\" onclick=\"quickchart('df-98423c0d-6b57-48a9-957c-02478eb33d24')\"\n",
       "            title=\"Suggest charts\"\n",
       "            style=\"display:none;\">\n",
       "\n",
       "<svg xmlns=\"http://www.w3.org/2000/svg\" height=\"24px\"viewBox=\"0 0 24 24\"\n",
       "     width=\"24px\">\n",
       "    <g>\n",
       "        <path d=\"M19 3H5c-1.1 0-2 .9-2 2v14c0 1.1.9 2 2 2h14c1.1 0 2-.9 2-2V5c0-1.1-.9-2-2-2zM9 17H7v-7h2v7zm4 0h-2V7h2v10zm4 0h-2v-4h2v4z\"/>\n",
       "    </g>\n",
       "</svg>\n",
       "  </button>\n",
       "\n",
       "<style>\n",
       "  .colab-df-quickchart {\n",
       "      --bg-color: #E8F0FE;\n",
       "      --fill-color: #1967D2;\n",
       "      --hover-bg-color: #E2EBFA;\n",
       "      --hover-fill-color: #174EA6;\n",
       "      --disabled-fill-color: #AAA;\n",
       "      --disabled-bg-color: #DDD;\n",
       "  }\n",
       "\n",
       "  [theme=dark] .colab-df-quickchart {\n",
       "      --bg-color: #3B4455;\n",
       "      --fill-color: #D2E3FC;\n",
       "      --hover-bg-color: #434B5C;\n",
       "      --hover-fill-color: #FFFFFF;\n",
       "      --disabled-bg-color: #3B4455;\n",
       "      --disabled-fill-color: #666;\n",
       "  }\n",
       "\n",
       "  .colab-df-quickchart {\n",
       "    background-color: var(--bg-color);\n",
       "    border: none;\n",
       "    border-radius: 50%;\n",
       "    cursor: pointer;\n",
       "    display: none;\n",
       "    fill: var(--fill-color);\n",
       "    height: 32px;\n",
       "    padding: 0;\n",
       "    width: 32px;\n",
       "  }\n",
       "\n",
       "  .colab-df-quickchart:hover {\n",
       "    background-color: var(--hover-bg-color);\n",
       "    box-shadow: 0 1px 2px rgba(60, 64, 67, 0.3), 0 1px 3px 1px rgba(60, 64, 67, 0.15);\n",
       "    fill: var(--button-hover-fill-color);\n",
       "  }\n",
       "\n",
       "  .colab-df-quickchart-complete:disabled,\n",
       "  .colab-df-quickchart-complete:disabled:hover {\n",
       "    background-color: var(--disabled-bg-color);\n",
       "    fill: var(--disabled-fill-color);\n",
       "    box-shadow: none;\n",
       "  }\n",
       "\n",
       "  .colab-df-spinner {\n",
       "    border: 2px solid var(--fill-color);\n",
       "    border-color: transparent;\n",
       "    border-bottom-color: var(--fill-color);\n",
       "    animation:\n",
       "      spin 1s steps(1) infinite;\n",
       "  }\n",
       "\n",
       "  @keyframes spin {\n",
       "    0% {\n",
       "      border-color: transparent;\n",
       "      border-bottom-color: var(--fill-color);\n",
       "      border-left-color: var(--fill-color);\n",
       "    }\n",
       "    20% {\n",
       "      border-color: transparent;\n",
       "      border-left-color: var(--fill-color);\n",
       "      border-top-color: var(--fill-color);\n",
       "    }\n",
       "    30% {\n",
       "      border-color: transparent;\n",
       "      border-left-color: var(--fill-color);\n",
       "      border-top-color: var(--fill-color);\n",
       "      border-right-color: var(--fill-color);\n",
       "    }\n",
       "    40% {\n",
       "      border-color: transparent;\n",
       "      border-right-color: var(--fill-color);\n",
       "      border-top-color: var(--fill-color);\n",
       "    }\n",
       "    60% {\n",
       "      border-color: transparent;\n",
       "      border-right-color: var(--fill-color);\n",
       "    }\n",
       "    80% {\n",
       "      border-color: transparent;\n",
       "      border-right-color: var(--fill-color);\n",
       "      border-bottom-color: var(--fill-color);\n",
       "    }\n",
       "    90% {\n",
       "      border-color: transparent;\n",
       "      border-bottom-color: var(--fill-color);\n",
       "    }\n",
       "  }\n",
       "</style>\n",
       "\n",
       "  <script>\n",
       "    async function quickchart(key) {\n",
       "      const quickchartButtonEl =\n",
       "        document.querySelector('#' + key + ' button');\n",
       "      quickchartButtonEl.disabled = true;  // To prevent multiple clicks.\n",
       "      quickchartButtonEl.classList.add('colab-df-spinner');\n",
       "      try {\n",
       "        const charts = await google.colab.kernel.invokeFunction(\n",
       "            'suggestCharts', [key], {});\n",
       "      } catch (error) {\n",
       "        console.error('Error during call to suggestCharts:', error);\n",
       "      }\n",
       "      quickchartButtonEl.classList.remove('colab-df-spinner');\n",
       "      quickchartButtonEl.classList.add('colab-df-quickchart-complete');\n",
       "    }\n",
       "    (() => {\n",
       "      let quickchartButtonEl =\n",
       "        document.querySelector('#df-98423c0d-6b57-48a9-957c-02478eb33d24 button');\n",
       "      quickchartButtonEl.style.display =\n",
       "        google.colab.kernel.accessAllowed ? 'block' : 'none';\n",
       "    })();\n",
       "  </script>\n",
       "</div>\n",
       "    </div>\n",
       "  </div>\n"
      ],
      "text/plain": [
       "       userId  movieId  rating           timestamp\n",
       "46773     729      689       4 1998-04-22 23:10:38\n",
       "73008     729      313       3 1998-04-22 23:10:38\n",
       "46574     729      328       3 1998-04-22 23:10:38\n",
       "64312     729      748       4 1998-04-22 23:10:38\n",
       "79208     729      272       4 1998-04-22 23:10:38"
      ]
     },
     "metadata": {},
     "output_type": "display_data"
    }
   ],
   "source": [
    "# <!-- collapse=True -->\n",
    "ratings_df = pd.read_csv('raw/ml-100k/u.data', sep='\\t', header=None,\n",
    "                         names=['userId', 'movieId', 'rating', 'timestamp'])\n",
    "ratings_df['timestamp'] = ratings_df['timestamp'].apply(datetime.fromtimestamp)\n",
    "ratings_df = ratings_df.sort_values('timestamp')\n",
    "print('First 5:')\n",
    "display(ratings_df.head())\n",
    "print()\n",
    "print('Last 5:')\n",
    "display(ratings_df.tail())"
   ]
  },
  {
   "cell_type": "markdown",
   "metadata": {
    "id": "POSdEH4DHxv0"
   },
   "source": [
    "# 3. Write helper function and ALSRecommender class"
   ]
  },
  {
   "cell_type": "code",
   "execution_count": 5,
   "metadata": {
    "executionInfo": {
     "elapsed": 355,
     "status": "ok",
     "timestamp": 1714994763964,
     "user": {
      "displayName": "오장민 (AI융합학부)",
      "userId": "14191339932351591583"
     },
     "user_tz": -540
    },
    "id": "5bSgO1ioHxv1"
   },
   "outputs": [],
   "source": [
    "# <!-- collapse=True -->\n",
    "def get_rating_matrix(X):\n",
    "    \"\"\"Function to generate a ratings matrx and mappings for\n",
    "    the user and item ids to the row and column indices\n",
    "\n",
    "    Parameters\n",
    "    ----------\n",
    "    X : pandas.DataFrame, shape=(n_ratings,>=3)\n",
    "        First 3 columns must be in order of user, item, rating.\n",
    "\n",
    "    Returns\n",
    "    -------\n",
    "    rating_matrix : 2d numpy array, shape=(n_users, n_items)\n",
    "    user_map : pandas Series, shape=(n_users,)\n",
    "        Mapping from the original user id to an integer in the range [0,n_users)\n",
    "    item_map : pandas Series, shape=(n_items,)\n",
    "        Mapping from the original item id to an integer in the range [0,n_items)\n",
    "    \"\"\"\n",
    "    user_col, item_col, rating_col = X.columns[:3]\n",
    "    rating = X[rating_col]\n",
    "    user_map = pd.Series(\n",
    "        index=np.unique(X[user_col]),\n",
    "        data=np.arange(X[user_col].nunique()),\n",
    "        name='user_map',\n",
    "    )\n",
    "    item_map = pd.Series(\n",
    "        index=np.unique(X[item_col]),\n",
    "        data=np.arange(X[item_col].nunique()),\n",
    "        name='columns_map',\n",
    "    )\n",
    "    user_inds = X[user_col].map(user_map)\n",
    "    item_inds = X[item_col].map(item_map)\n",
    "    rating_matrix = (\n",
    "        pd.pivot_table(\n",
    "            data=X,\n",
    "            values=rating_col,\n",
    "            index=user_inds,\n",
    "            columns=item_inds,\n",
    "        )\n",
    "        .fillna(0)\n",
    "        .values\n",
    "    )\n",
    "    return rating_matrix, user_map, item_map"
   ]
  },
  {
   "cell_type": "code",
   "execution_count": 6,
   "metadata": {
    "executionInfo": {
     "elapsed": 570,
     "status": "ok",
     "timestamp": 1714994768448,
     "user": {
      "displayName": "오장민 (AI융합학부)",
      "userId": "14191339932351591583"
     },
     "user_tz": -540
    },
    "id": "TQkZQiPvJXkz"
   },
   "outputs": [],
   "source": [
    "a,b,c = get_rating_matrix(ratings_df)"
   ]
  },
  {
   "cell_type": "code",
   "execution_count": 7,
   "metadata": {
    "colab": {
     "base_uri": "https://localhost:8080/"
    },
    "executionInfo": {
     "elapsed": 457,
     "status": "ok",
     "timestamp": 1714994770796,
     "user": {
      "displayName": "오장민 (AI융합학부)",
      "userId": "14191339932351591583"
     },
     "user_tz": -540
    },
    "id": "mRCDAhuUJozV",
    "outputId": "96849137-0e71-463c-d75a-a78f5acc40b0"
   },
   "outputs": [
    {
     "data": {
      "text/plain": [
       "(943, 1682)"
      ]
     },
     "execution_count": 7,
     "metadata": {},
     "output_type": "execute_result"
    }
   ],
   "source": [
    "a.shape"
   ]
  },
  {
   "cell_type": "code",
   "execution_count": 8,
   "metadata": {
    "colab": {
     "base_uri": "https://localhost:8080/"
    },
    "executionInfo": {
     "elapsed": 528,
     "status": "ok",
     "timestamp": 1714994791182,
     "user": {
      "displayName": "오장민 (AI융합학부)",
      "userId": "14191339932351591583"
     },
     "user_tz": -540
    },
    "id": "G-e1POJhJc6D",
    "outputId": "f4c348b5-af6a-456a-af30-81530864e010"
   },
   "outputs": [
    {
     "name": "stdout",
     "output_type": "stream",
     "text": [
      "0 [5. 3. 4. ... 0. 0. 0.] (1682,)\n",
      "(array([  0,   1,   2,   3,   4,   5,   6,   7,   8,   9,  10,  11,  12,\n",
      "        13,  14,  15,  16,  17,  18,  19,  20,  21,  22,  23,  24,  25,\n",
      "        26,  27,  28,  29,  30,  31,  32,  33,  34,  35,  36,  37,  38,\n",
      "        39,  40,  41,  42,  43,  44,  45,  46,  47,  48,  49,  50,  51,\n",
      "        52,  53,  54,  55,  56,  57,  58,  59,  60,  61,  62,  63,  64,\n",
      "        65,  66,  67,  68,  69,  70,  71,  72,  73,  74,  75,  76,  77,\n",
      "        78,  79,  80,  81,  82,  83,  84,  85,  86,  87,  88,  89,  90,\n",
      "        91,  92,  93,  94,  95,  96,  97,  98,  99, 100, 101, 102, 103,\n",
      "       104, 105, 106, 107, 108, 109, 110, 111, 112, 113, 114, 115, 116,\n",
      "       117, 118, 119, 120, 121, 122, 123, 124, 125, 126, 127, 128, 129,\n",
      "       130, 131, 132, 133, 134, 135, 136, 137, 138, 139, 140, 141, 142,\n",
      "       143, 144, 145, 146, 147, 148, 149, 150, 151, 152, 153, 154, 155,\n",
      "       156, 157, 158, 159, 160, 161, 162, 163, 164, 165, 166, 167, 168,\n",
      "       169, 170, 171, 172, 173, 174, 175, 176, 177, 178, 179, 180, 181,\n",
      "       182, 183, 184, 185, 186, 187, 188, 189, 190, 191, 192, 193, 194,\n",
      "       195, 196, 197, 198, 199, 200, 201, 202, 203, 204, 205, 206, 207,\n",
      "       208, 209, 210, 211, 212, 213, 214, 215, 216, 217, 218, 219, 220,\n",
      "       221, 222, 223, 224, 225, 226, 227, 228, 229, 230, 231, 232, 233,\n",
      "       234, 235, 236, 237, 238, 239, 240, 241, 242, 243, 244, 245, 246,\n",
      "       247, 248, 249, 250, 251, 252, 253, 254, 255, 256, 257, 258, 259,\n",
      "       260, 261, 262, 263, 264, 265, 266, 267, 268, 269, 270, 271]),)\n"
     ]
    }
   ],
   "source": [
    "for i, Ri in enumerate(a):\n",
    "  print(i, Ri, Ri.shape)\n",
    "  print( np.nonzero(Ri) )\n",
    "  break"
   ]
  },
  {
   "cell_type": "code",
   "execution_count": 9,
   "metadata": {
    "executionInfo": {
     "elapsed": 318,
     "status": "ok",
     "timestamp": 1714995108648,
     "user": {
      "displayName": "오장민 (AI융합학부)",
      "userId": "14191339932351591583"
     },
     "user_tz": -540
    },
    "id": "qVHy8KtEFDeD"
   },
   "outputs": [],
   "source": [
    "V = np.ones((5,2))"
   ]
  },
  {
   "cell_type": "code",
   "execution_count": 10,
   "metadata": {
    "executionInfo": {
     "elapsed": 2,
     "status": "ok",
     "timestamp": 1714995108976,
     "user": {
      "displayName": "오장민 (AI융합학부)",
      "userId": "14191339932351591583"
     },
     "user_tz": -540
    },
    "id": "UzrhejNpFIOI"
   },
   "outputs": [],
   "source": [
    "V_Ri = V[[1,2,3,4],:]\n",
    "Ri_nonzero=np.array([1,2,3,4])"
   ]
  },
  {
   "cell_type": "code",
   "execution_count": 11,
   "metadata": {
    "colab": {
     "base_uri": "https://localhost:8080/"
    },
    "executionInfo": {
     "elapsed": 3,
     "status": "ok",
     "timestamp": 1714995109340,
     "user": {
      "displayName": "오장민 (AI융합학부)",
      "userId": "14191339932351591583"
     },
     "user_tz": -540
    },
    "id": "dgTkCmlGHcZz",
    "outputId": "e57f4789-fe45-47e2-94f3-481c676be9fc"
   },
   "outputs": [
    {
     "data": {
      "text/plain": [
       "((4, 2), (4,))"
      ]
     },
     "execution_count": 11,
     "metadata": {},
     "output_type": "execute_result"
    }
   ],
   "source": [
    "V_Ri.shape, Ri_nonzero.shape"
   ]
  },
  {
   "cell_type": "code",
   "execution_count": 12,
   "metadata": {
    "colab": {
     "base_uri": "https://localhost:8080/"
    },
    "executionInfo": {
     "elapsed": 341,
     "status": "ok",
     "timestamp": 1714995147949,
     "user": {
      "displayName": "오장민 (AI융합학부)",
      "userId": "14191339932351591583"
     },
     "user_tz": -540
    },
    "id": "0K9SCz8aFJpr",
    "outputId": "f9b6e902-ffe5-4088-d4e8-e4c147370447"
   },
   "outputs": [
    {
     "data": {
      "text/plain": [
       "(array([10., 10.]), array([10., 10.]))"
      ]
     },
     "execution_count": 12,
     "metadata": {},
     "output_type": "execute_result"
    }
   ],
   "source": [
    "Ri_nonzero @ V_Ri, np.dot(Ri_nonzero, V_Ri)"
   ]
  },
  {
   "cell_type": "code",
   "execution_count": 14,
   "metadata": {
    "executionInfo": {
     "elapsed": 384,
     "status": "ok",
     "timestamp": 1714996679899,
     "user": {
      "displayName": "오장민 (AI융합학부)",
      "userId": "14191339932351591583"
     },
     "user_tz": -540
    },
    "id": "4gEKTrRl-FvX"
   },
   "outputs": [],
   "source": [
    "# <!-- collapse=True -->\n",
    "class ALSRecommender():\n",
    "    \"\"\"Recommender based on Alternating Least Squares algorithm.\n",
    "\n",
    "    Parameters\n",
    "    ----------\n",
    "    k : int, default=5\n",
    "        Number of latent features\n",
    "    lmbda : float, default=0.1\n",
    "        Regularization parameter\n",
    "    max_epochs : int, default=15\n",
    "        Max number of iterations to run\n",
    "    baseline_algo : object\n",
    "        Object with fit(X) and\n",
    "    \"\"\"\n",
    "    def __init__(self, k=5, lmbda=0.1, max_epochs=15, baseline_algo=None, error_metric='mae',\n",
    "                 verbose=True):\n",
    "        # Force integer in case it comes in as float\n",
    "        self.k = int(np.round(k))\n",
    "        self.lmbda = lmbda\n",
    "        self.max_epochs = max_epochs\n",
    "        self.baseline_algo = baseline_algo\n",
    "        self.error_metric = error_metric\n",
    "        self.verbose = verbose\n",
    "\n",
    "        self.U = None\n",
    "        self.V = None\n",
    "        self.initialized = False\n",
    "\n",
    "    def _calc_train_error(self, U, V, R, R_selector=None, error_metric='mae'):\n",
    "        if R_selector is None:\n",
    "            R_selector = (R > 0)\n",
    "        R_hat = U @ V.T\n",
    "        if error_metric == 'mae':\n",
    "            error = np.sum(R_selector * np.abs(R_hat - R)) / np.sum(R_selector)\n",
    "        else:\n",
    "            raise ValueError(\"{} is an unsupported error metric\".format(error_metric))\n",
    "        return error\n",
    "\n",
    "    def _fit_init(self, X):\n",
    "        if not isinstance(X, pd.DataFrame):\n",
    "            raise ValueError(\"X must be a DataFrame\")\n",
    "        X = X.copy()\n",
    "        user_col, item_col, rating_col = X.columns[:3]\n",
    "        if self.baseline_algo is None:\n",
    "            self.train_mean = X[rating_col].mean()\n",
    "        else:\n",
    "            self.baseline_algo.fit(X)\n",
    "        self.R, self.user_map, self.item_map = get_rating_matrix(X)\n",
    "        n_users, n_items = self.R.shape\n",
    "        # self.U = 3 * np.random.rand(self.k, size=(n_users, self.k))\n",
    "        # self.V = 3 * np.random.rand(self.k, size=(n_items, self.k))\n",
    "        self.U = 3*np.random.rand(n_users, self.k)\n",
    "        self.V = 3*np.random.rand(n_items, self.k)\n",
    "        self.V[:, 0] = self.R[self.R != 0].mean(axis=0) # Avg. rating for each movie\n",
    "        self.E = np.eye(self.k) # (k x k)-dimensional idendity matrix\n",
    "        self.epoch = 0\n",
    "        self.train_errors = []\n",
    "        self.initialized = True\n",
    "\n",
    "    def fit(self, X, n_epochs=None):\n",
    "        \"\"\"Fit model to training data X. If at least one iteration has already been run,\n",
    "        then the model will continue from its most recent state.\n",
    "\n",
    "        Parameters\n",
    "        ----------\n",
    "        X : pandas DataFrame, shape=(n_ratings, >=3)\n",
    "            First 3 columns must correspond to user, item, and rating in that order\n",
    "        n_epochs : int, optional\n",
    "            Number of iterations to run. If not provided, will run for self.max_epochs\n",
    "\n",
    "        Returns\n",
    "        -------\n",
    "        self\n",
    "            This allows chaining like `ALSRecommender().fit(X_train).predict(X_test)`\n",
    "        \"\"\"\n",
    "        # Allow continuation from previous state if n_epochs is given. Otherwise start from scratch.\n",
    "        if n_epochs is None:\n",
    "            self.initialized = False\n",
    "        if not self.initialized:\n",
    "            self._fit_init(X)\n",
    "\n",
    "        epoch_0 = self.epoch\n",
    "        if n_epochs is None:\n",
    "            n_epochs = self.max_epochs - epoch_0\n",
    "\n",
    "        n_users, n_items = self.R.shape\n",
    "\n",
    "        # Run n_epochs iterations\n",
    "        for i_epoch in range(n_epochs):\n",
    "            if self.epoch >= self.max_epochs:\n",
    "                print(\"max_epochs = {}\".format(self.max_epochs))\n",
    "                break\n",
    "            # Fix V and estimate U\n",
    "            for i, Ri in enumerate(self.R):\n",
    "                nui = np.count_nonzero(Ri) # Number of items user i has rated\n",
    "                if (nui == 0): nui = 1 # Be aware of zero counts!\n",
    "                # Get array of nonzero indices in row Ii\n",
    "                Ri_nonzero_selector = np.nonzero(Ri)[0]\n",
    "                # Select subset of V associated with movies reviewed by user i\n",
    "                V_Ri = self.V[Ri_nonzero_selector, :] # shape=(n', k)\n",
    "                # Select subset of row R_i associated with movies reviewed by user i\n",
    "                Ri_nonzero = self.R[i, Ri_nonzero_selector] # shape=(n', )\n",
    "                Ai = V_Ri.T @ V_Ri + self.lmbda * nui * self.E # shape=(k, k)\n",
    "                # print('nui', nui, end='')\n",
    "                Vi = Ri_nonzero @ V_Ri # shape=(k, )\n",
    "                # print('UU', Ai.shape, Vi.shape)\n",
    "                self.U[i, :] = np.linalg.solve(Ai, Vi)\n",
    "            # Fix U and estimate V\n",
    "            for j, Rj in enumerate(self.R.T):\n",
    "                nmj = np.count_nonzero(Rj) # Number of users that rated item j\n",
    "                if (nmj == 0): nmj = 1 # Be aware of zero counts!\n",
    "                # Get array of nonzero indices in row Ij\n",
    "                Rj_nonzero_selector = np.nonzero(Rj)[0]\n",
    "                # Select subset of P associated with users who reviewed movie j\n",
    "                U_Rj = self.U[Rj_nonzero_selector, :] # shape=(m', k)\n",
    "                # Select subset of column R_j associated with users who reviewed movie j\n",
    "                Rj_nonzero = self.R[Rj_nonzero_selector, j] # shape=(m', )\n",
    "                Aj = U_Rj.T @ U_Rj + self.lmbda * nmj * self.E\n",
    "                # print('nmj', nmj, Rj_nonzero.shape, end='')\n",
    "                Uj = Rj_nonzero @ U_Rj\n",
    "                # print('VV', Aj.shape, Uj.shape)\n",
    "                self.V[j, :] = np.linalg.solve(Aj, Uj)\n",
    "            error = self._calc_train_error(self.U, self.V, self.R)\n",
    "            self.train_errors.append(error)\n",
    "            if self.verbose:\n",
    "                print(\"[Epoch {}/{}] train error: {}\".format(self.epoch, self.max_epochs, error))\n",
    "            self.epoch += 1\n",
    "        return self\n",
    "\n",
    "    def predict(self, X):\n",
    "        \"\"\"Generate predictions for user/item pairs\n",
    "\n",
    "        Parameters\n",
    "        ----------\n",
    "        X : pandas dataframe, shape = (n_pairs, 2)\n",
    "            User, item dataframe\n",
    "\n",
    "        Returns\n",
    "        -------\n",
    "        rating_pred : 1d numpy array, shape = (n_pairs,)\n",
    "            Array of rating predictions for each user/item pair\n",
    "        \"\"\"\n",
    "        if not isinstance(X, pd.DataFrame):\n",
    "            raise ValueError(\"X must be a DataFrame\")\n",
    "        X = X.copy()\n",
    "        user_col, item_col = X.columns[:2]\n",
    "        if self.baseline_algo is None:\n",
    "            X['rating_baseline'] = self.train_mean\n",
    "        else:\n",
    "            X['rating_baseline'] = self.baseline_algo.predict(X)\n",
    "        X['rating'] = 0\n",
    "        known_user_and_item_mask = (\n",
    "            X[user_col].isin(self.user_map.index) & X[item_col].isin(self.item_map.index)\n",
    "        )\n",
    "        X_known, X_unknown = X[known_user_and_item_mask], X[~known_user_and_item_mask]\n",
    "        user_inds = X_known[user_col].map(self.user_map)\n",
    "        item_inds = X_known[item_col].map(self.item_map)\n",
    "        rating_pred = np.array([\n",
    "            np.sum(self.U[u_ind, :] * self.V[i_ind, :])\n",
    "            for u_ind, i_ind in zip(user_inds, item_inds)\n",
    "        ])\n",
    "        X.loc[known_user_and_item_mask, 'rating'] = rating_pred\n",
    "        X.loc[~known_user_and_item_mask, 'rating'] = self.baseline_algo.predict(X_unknown)\n",
    "        min_rating = np.min(self.R[np.nonzero(self.R)])\n",
    "        max_rating = np.max(self.R)\n",
    "        X.loc[X['rating'] < min_rating, 'rating'] = min_rating\n",
    "        X.loc[X['rating'] > max_rating, 'rating'] = max_rating\n",
    "        return X['rating'].values"
   ]
  },
  {
   "cell_type": "markdown",
   "metadata": {
    "id": "24_CmFzzHxv4"
   },
   "source": [
    "# 4. Determine how many epochs are necessary"
   ]
  },
  {
   "cell_type": "code",
   "execution_count": 15,
   "metadata": {
    "colab": {
     "base_uri": "https://localhost:8080/"
    },
    "executionInfo": {
     "elapsed": 139715,
     "status": "ok",
     "timestamp": 1714996821942,
     "user": {
      "displayName": "오장민 (AI융합학부)",
      "userId": "14191339932351591583"
     },
     "user_tz": -540
    },
    "id": "wXSYfGVFHxv5",
    "outputId": "2939b0b1-98ae-4182-fa08-8cc7d481039f"
   },
   "outputs": [
    {
     "name": "stdout",
     "output_type": "stream",
     "text": [
      "i_fold=0\n",
      "[Epoch 0/50] test MAE: 1.0398034833386356\n",
      "[Epoch 1/50] test MAE: 0.8550790106821341\n",
      "[Epoch 2/50] test MAE: 0.8102764667879097\n",
      "[Epoch 3/50] test MAE: 0.7867580909891233\n",
      "[Epoch 4/50] test MAE: 0.7720571860563153\n",
      "[Epoch 5/50] test MAE: 0.7622216178554773\n",
      "[Epoch 6/50] test MAE: 0.7552625086523239\n",
      "[Epoch 7/50] test MAE: 0.7501381867557136\n",
      "[Epoch 8/50] test MAE: 0.746185990807431\n",
      "[Epoch 9/50] test MAE: 0.7430870505366794\n",
      "[Epoch 10/50] test MAE: 0.7406369711361361\n",
      "[Epoch 11/50] test MAE: 0.7387166104638473\n",
      "[Epoch 12/50] test MAE: 0.7371530015775627\n",
      "[Epoch 13/50] test MAE: 0.7358709993577358\n",
      "[Epoch 14/50] test MAE: 0.7348268350381125\n",
      "[Epoch 15/50] test MAE: 0.7339626603339808\n",
      "[Epoch 16/50] test MAE: 0.7332366134098828\n",
      "[Epoch 17/50] test MAE: 0.7326149003148774\n",
      "[Epoch 18/50] test MAE: 0.7320747857962253\n",
      "[Epoch 19/50] test MAE: 0.7316185863661568\n",
      "[Epoch 20/50] test MAE: 0.7312144629223345\n",
      "[Epoch 21/50] test MAE: 0.7308614772203624\n",
      "[Epoch 22/50] test MAE: 0.7305464905943478\n",
      "[Epoch 23/50] test MAE: 0.7302650690446609\n",
      "[Epoch 24/50] test MAE: 0.7300147448401717\n",
      "[Epoch 25/50] test MAE: 0.729778592795616\n",
      "[Epoch 26/50] test MAE: 0.729555759976194\n",
      "[Epoch 27/50] test MAE: 0.7293512998337915\n",
      "[Epoch 28/50] test MAE: 0.7291633095001521\n",
      "[Epoch 29/50] test MAE: 0.7289868212622272\n",
      "[Epoch 30/50] test MAE: 0.7288165393073813\n",
      "[Epoch 31/50] test MAE: 0.7286570624530021\n",
      "[Epoch 32/50] test MAE: 0.7285136057175896\n",
      "[Epoch 33/50] test MAE: 0.7283795936369216\n",
      "[Epoch 34/50] test MAE: 0.7282603648364774\n",
      "[Epoch 35/50] test MAE: 0.7281560343460644\n",
      "[Epoch 36/50] test MAE: 0.7280612425778338\n",
      "[Epoch 37/50] test MAE: 0.7279718857757376\n",
      "[Epoch 38/50] test MAE: 0.7278860561847632\n",
      "[Epoch 39/50] test MAE: 0.7278071005896687\n",
      "[Epoch 40/50] test MAE: 0.7277336566969761\n",
      "[Epoch 41/50] test MAE: 0.7276682248400677\n",
      "[Epoch 42/50] test MAE: 0.7276124316521233\n",
      "[Epoch 43/50] test MAE: 0.7275642459027737\n",
      "[Epoch 44/50] test MAE: 0.7275201035560166\n",
      "[Epoch 45/50] test MAE: 0.7274793526221546\n",
      "[Epoch 46/50] test MAE: 0.7274429940650541\n",
      "[Epoch 47/50] test MAE: 0.7274091484717006\n",
      "[Epoch 48/50] test MAE: 0.7273778876359209\n",
      "[Epoch 49/50] test MAE: 0.727349466946928\n",
      "i_fold=1\n",
      "[Epoch 0/50] test MAE: 1.0528473389357391\n",
      "[Epoch 1/50] test MAE: 0.8621347989703334\n",
      "[Epoch 2/50] test MAE: 0.8174500001314636\n",
      "[Epoch 3/50] test MAE: 0.7941936910782482\n",
      "[Epoch 4/50] test MAE: 0.779627339056624\n",
      "[Epoch 5/50] test MAE: 0.769754029693933\n",
      "[Epoch 6/50] test MAE: 0.7626319675498204\n",
      "[Epoch 7/50] test MAE: 0.7573753744720984\n",
      "[Epoch 8/50] test MAE: 0.7534357603818873\n",
      "[Epoch 9/50] test MAE: 0.7504293768232417\n",
      "[Epoch 10/50] test MAE: 0.7480777615291744\n",
      "[Epoch 11/50] test MAE: 0.7462406726083746\n",
      "[Epoch 12/50] test MAE: 0.7447687609156164\n",
      "[Epoch 13/50] test MAE: 0.7435626862242538\n",
      "[Epoch 14/50] test MAE: 0.7425598320348252\n",
      "[Epoch 15/50] test MAE: 0.7417251086563178\n",
      "[Epoch 16/50] test MAE: 0.7410291813515669\n",
      "[Epoch 17/50] test MAE: 0.740437906622275\n",
      "[Epoch 18/50] test MAE: 0.7399442020550773\n",
      "[Epoch 19/50] test MAE: 0.7395187146217826\n",
      "[Epoch 20/50] test MAE: 0.7391490832191344\n",
      "[Epoch 21/50] test MAE: 0.738837752401025\n",
      "[Epoch 22/50] test MAE: 0.7385797399620279\n",
      "[Epoch 23/50] test MAE: 0.7383510978865161\n",
      "[Epoch 24/50] test MAE: 0.7381501624802476\n",
      "[Epoch 25/50] test MAE: 0.7379785794501752\n",
      "[Epoch 26/50] test MAE: 0.7378303850132731\n",
      "[Epoch 27/50] test MAE: 0.7377038535829351\n",
      "[Epoch 28/50] test MAE: 0.7375976133116301\n",
      "[Epoch 29/50] test MAE: 0.7375061026123676\n",
      "[Epoch 30/50] test MAE: 0.7374260717614037\n",
      "[Epoch 31/50] test MAE: 0.7373567692140852\n",
      "[Epoch 32/50] test MAE: 0.7372965167933151\n",
      "[Epoch 33/50] test MAE: 0.7372433737595931\n",
      "[Epoch 34/50] test MAE: 0.7371980873421577\n",
      "[Epoch 35/50] test MAE: 0.7371578028001566\n",
      "[Epoch 36/50] test MAE: 0.7371226608318115\n",
      "[Epoch 37/50] test MAE: 0.7370931614257845\n",
      "[Epoch 38/50] test MAE: 0.7370690480269801\n",
      "[Epoch 39/50] test MAE: 0.73704935734771\n",
      "[Epoch 40/50] test MAE: 0.7370325156239167\n",
      "[Epoch 41/50] test MAE: 0.7370182654105996\n",
      "[Epoch 42/50] test MAE: 0.7370056755039223\n",
      "[Epoch 43/50] test MAE: 0.736995544211092\n",
      "[Epoch 44/50] test MAE: 0.7369876830851252\n",
      "[Epoch 45/50] test MAE: 0.7369831346176603\n",
      "[Epoch 46/50] test MAE: 0.7369807663411495\n",
      "[Epoch 47/50] test MAE: 0.7369797905383869\n",
      "[Epoch 48/50] test MAE: 0.7369799426142903\n",
      "[Epoch 49/50] test MAE: 0.7369801306557436\n",
      "i_fold=2\n",
      "[Epoch 0/50] test MAE: 1.0494751022486852\n",
      "[Epoch 1/50] test MAE: 0.8490555030788463\n",
      "[Epoch 2/50] test MAE: 0.8032554543542039\n",
      "[Epoch 3/50] test MAE: 0.779377125261133\n",
      "[Epoch 4/50] test MAE: 0.764819716904806\n",
      "[Epoch 5/50] test MAE: 0.7551258295289468\n",
      "[Epoch 6/50] test MAE: 0.7482879862583144\n",
      "[Epoch 7/50] test MAE: 0.7431941230405064\n",
      "[Epoch 8/50] test MAE: 0.7393031198730151\n",
      "[Epoch 9/50] test MAE: 0.7363007030538762\n",
      "[Epoch 10/50] test MAE: 0.7339337406122924\n",
      "[Epoch 11/50] test MAE: 0.7320332214372108\n",
      "[Epoch 12/50] test MAE: 0.7304705826933948\n",
      "[Epoch 13/50] test MAE: 0.7291467392215418\n",
      "[Epoch 14/50] test MAE: 0.7280335293556315\n",
      "[Epoch 15/50] test MAE: 0.7271144004827158\n",
      "[Epoch 16/50] test MAE: 0.7263353264315492\n",
      "[Epoch 17/50] test MAE: 0.7256545124521331\n",
      "[Epoch 18/50] test MAE: 0.7250626679209973\n",
      "[Epoch 19/50] test MAE: 0.7245464632940025\n",
      "[Epoch 20/50] test MAE: 0.7240996723860182\n",
      "[Epoch 21/50] test MAE: 0.7237034844615063\n",
      "[Epoch 22/50] test MAE: 0.7233592431458039\n",
      "[Epoch 23/50] test MAE: 0.7230600522684067\n",
      "[Epoch 24/50] test MAE: 0.7228043793893427\n",
      "[Epoch 25/50] test MAE: 0.7225835332784348\n",
      "[Epoch 26/50] test MAE: 0.7223913100723727\n",
      "[Epoch 27/50] test MAE: 0.7222255197343825\n",
      "[Epoch 28/50] test MAE: 0.722086800931489\n",
      "[Epoch 29/50] test MAE: 0.721975614405016\n",
      "[Epoch 30/50] test MAE: 0.7218813851495546\n",
      "[Epoch 31/50] test MAE: 0.7218001376369444\n",
      "[Epoch 32/50] test MAE: 0.7217300937740571\n",
      "[Epoch 33/50] test MAE: 0.7216746908753168\n",
      "[Epoch 34/50] test MAE: 0.7216323964363741\n",
      "[Epoch 35/50] test MAE: 0.7215995597529238\n",
      "[Epoch 36/50] test MAE: 0.7215741927880739\n",
      "[Epoch 37/50] test MAE: 0.7215534093632922\n",
      "[Epoch 38/50] test MAE: 0.721535887635534\n",
      "[Epoch 39/50] test MAE: 0.7215229940647391\n",
      "[Epoch 40/50] test MAE: 0.7215156469983488\n",
      "[Epoch 41/50] test MAE: 0.7215138393668366\n",
      "[Epoch 42/50] test MAE: 0.7215139908226218\n",
      "[Epoch 43/50] test MAE: 0.7215147098052239\n",
      "[Epoch 44/50] test MAE: 0.7215180229812302\n",
      "[Epoch 45/50] test MAE: 0.7215230265850179\n",
      "[Epoch 46/50] test MAE: 0.7215292928029715\n",
      "[Epoch 47/50] test MAE: 0.7215342102124916\n",
      "[Epoch 48/50] test MAE: 0.7215391890135016\n",
      "[Epoch 49/50] test MAE: 0.7215458558872762\n",
      "i_fold=3\n",
      "[Epoch 0/50] test MAE: 1.024769593306337\n",
      "[Epoch 1/50] test MAE: 0.8410863312444355\n",
      "[Epoch 2/50] test MAE: 0.8006942809700044\n",
      "[Epoch 3/50] test MAE: 0.778464504219037\n",
      "[Epoch 4/50] test MAE: 0.7641868384377188\n",
      "[Epoch 5/50] test MAE: 0.7545984428935395\n",
      "[Epoch 6/50] test MAE: 0.7479122723888909\n",
      "[Epoch 7/50] test MAE: 0.7430074593809634\n",
      "[Epoch 8/50] test MAE: 0.739301876418209\n",
      "[Epoch 9/50] test MAE: 0.7363932872053387\n",
      "[Epoch 10/50] test MAE: 0.734105206448113\n",
      "[Epoch 11/50] test MAE: 0.7322920896683003\n",
      "[Epoch 12/50] test MAE: 0.7308371020952583\n",
      "[Epoch 13/50] test MAE: 0.7296400195618965\n",
      "[Epoch 14/50] test MAE: 0.7286561912787263\n",
      "[Epoch 15/50] test MAE: 0.7278456185217592\n",
      "[Epoch 16/50] test MAE: 0.7271718064076176\n",
      "[Epoch 17/50] test MAE: 0.7266178515791993\n",
      "[Epoch 18/50] test MAE: 0.726160220748493\n",
      "[Epoch 19/50] test MAE: 0.725780885389998\n",
      "[Epoch 20/50] test MAE: 0.7254687800269322\n",
      "[Epoch 21/50] test MAE: 0.7252123931530181\n",
      "[Epoch 22/50] test MAE: 0.7250023548749059\n",
      "[Epoch 23/50] test MAE: 0.7248323567301338\n",
      "[Epoch 24/50] test MAE: 0.7246976092296782\n",
      "[Epoch 25/50] test MAE: 0.7245922870620176\n",
      "[Epoch 26/50] test MAE: 0.7245066542254058\n",
      "[Epoch 27/50] test MAE: 0.7244390541125422\n",
      "[Epoch 28/50] test MAE: 0.7243858264779758\n",
      "[Epoch 29/50] test MAE: 0.7243440087884846\n",
      "[Epoch 30/50] test MAE: 0.7243084161273813\n",
      "[Epoch 31/50] test MAE: 0.7242812149227206\n",
      "[Epoch 32/50] test MAE: 0.7242579038342398\n",
      "[Epoch 33/50] test MAE: 0.7242396614556094\n",
      "[Epoch 34/50] test MAE: 0.7242256338948264\n",
      "[Epoch 35/50] test MAE: 0.7242150139174708\n",
      "[Epoch 36/50] test MAE: 0.7242037491167902\n",
      "[Epoch 37/50] test MAE: 0.7241934885187479\n",
      "[Epoch 38/50] test MAE: 0.7241840616651735\n",
      "[Epoch 39/50] test MAE: 0.7241777252506281\n",
      "[Epoch 40/50] test MAE: 0.7241727454483825\n",
      "[Epoch 41/50] test MAE: 0.7241703403163063\n",
      "[Epoch 42/50] test MAE: 0.7241700323282774\n",
      "[Epoch 43/50] test MAE: 0.7241708059244505\n",
      "[Epoch 44/50] test MAE: 0.7241722280143186\n",
      "[Epoch 45/50] test MAE: 0.7241741528530634\n",
      "[Epoch 46/50] test MAE: 0.724176792787633\n",
      "[Epoch 47/50] test MAE: 0.7241808104425075\n",
      "[Epoch 48/50] test MAE: 0.7241867842428008\n",
      "[Epoch 49/50] test MAE: 0.724191913044529\n",
      "i_fold=4\n",
      "[Epoch 0/50] test MAE: 1.0579352677740859\n",
      "[Epoch 1/50] test MAE: 0.8568253209409863\n",
      "[Epoch 2/50] test MAE: 0.8084524524529791\n",
      "[Epoch 3/50] test MAE: 0.7837931531594239\n",
      "[Epoch 4/50] test MAE: 0.7686061025519563\n",
      "[Epoch 5/50] test MAE: 0.758522870269319\n",
      "[Epoch 6/50] test MAE: 0.7514111612613295\n",
      "[Epoch 7/50] test MAE: 0.746196680341723\n",
      "[Epoch 8/50] test MAE: 0.7423035943855464\n",
      "[Epoch 9/50] test MAE: 0.739306239751275\n",
      "[Epoch 10/50] test MAE: 0.736975377217946\n",
      "[Epoch 11/50] test MAE: 0.7351383014897452\n",
      "[Epoch 12/50] test MAE: 0.7336326661637057\n",
      "[Epoch 13/50] test MAE: 0.7323810925710313\n",
      "[Epoch 14/50] test MAE: 0.7313308645497539\n",
      "[Epoch 15/50] test MAE: 0.7304336251783868\n",
      "[Epoch 16/50] test MAE: 0.729676245779376\n",
      "[Epoch 17/50] test MAE: 0.7290519550779299\n",
      "[Epoch 18/50] test MAE: 0.7285368970505417\n",
      "[Epoch 19/50] test MAE: 0.7281053782388139\n",
      "[Epoch 20/50] test MAE: 0.7277493486421607\n",
      "[Epoch 21/50] test MAE: 0.7274548866845965\n",
      "[Epoch 22/50] test MAE: 0.7272010477432185\n",
      "[Epoch 23/50] test MAE: 0.7269779965733352\n",
      "[Epoch 24/50] test MAE: 0.7267915882546211\n",
      "[Epoch 25/50] test MAE: 0.7266294004287293\n",
      "[Epoch 26/50] test MAE: 0.7264842682169079\n",
      "[Epoch 27/50] test MAE: 0.72635915858058\n",
      "[Epoch 28/50] test MAE: 0.726245642732097\n",
      "[Epoch 29/50] test MAE: 0.7261474470698932\n",
      "[Epoch 30/50] test MAE: 0.7260642800089441\n",
      "[Epoch 31/50] test MAE: 0.7259920075259227\n",
      "[Epoch 32/50] test MAE: 0.7259338014954406\n",
      "[Epoch 33/50] test MAE: 0.7258869924627699\n",
      "[Epoch 34/50] test MAE: 0.7258477910987969\n",
      "[Epoch 35/50] test MAE: 0.7258164388632838\n",
      "[Epoch 36/50] test MAE: 0.7257919646452248\n",
      "[Epoch 37/50] test MAE: 0.7257743447382762\n",
      "[Epoch 38/50] test MAE: 0.7257629229451327\n",
      "[Epoch 39/50] test MAE: 0.7257545332748314\n",
      "[Epoch 40/50] test MAE: 0.7257493921242009\n",
      "[Epoch 41/50] test MAE: 0.7257469510639692\n",
      "[Epoch 42/50] test MAE: 0.7257471056039203\n",
      "[Epoch 43/50] test MAE: 0.7257539198852025\n",
      "[Epoch 44/50] test MAE: 0.7257654578464461\n",
      "[Epoch 45/50] test MAE: 0.7257782372324706\n",
      "[Epoch 46/50] test MAE: 0.7257921928081299\n",
      "[Epoch 47/50] test MAE: 0.7258074620539151\n",
      "[Epoch 48/50] test MAE: 0.7258237883040639\n",
      "[Epoch 49/50] test MAE: 0.7258415391818733\n",
      "There are 943 users and 1654 items\n"
     ]
    }
   ],
   "source": [
    "# <!-- collapse=True -->\n",
    "# %%time\n",
    "n_splits = 5\n",
    "max_epochs = 50\n",
    "kf = KFold(n_splits=n_splits, random_state=0, shuffle=True)\n",
    "train_errs = np.zeros((n_splits, max_epochs))\n",
    "test_errs = np.zeros((n_splits, max_epochs))\n",
    "for i_fold, (train_inds, test_inds) in enumerate(kf.split(ratings_df)):\n",
    "    print(\"i_fold={}\".format(i_fold))\n",
    "    train_df, test_df = ratings_df.iloc[train_inds], ratings_df.iloc[test_inds]\n",
    "    # train_df, test_df = ratings_df, ratings_df\n",
    "    baseline_algo = DampedUserMovieBaselineModel(damping_factor=10)\n",
    "    rec = ALSRecommender(k=20, baseline_algo=baseline_algo, verbose=False, max_epochs=max_epochs)\n",
    "    for i_epoch in range(max_epochs):\n",
    "        rec.fit(train_df, n_epochs=1)\n",
    "        preds = rec.predict(test_df[['userId', 'movieId']])\n",
    "        test_err = mean_absolute_error(preds, test_df['rating'])\n",
    "        print(\"[Epoch {}/{}] test MAE: {}\".format(i_epoch, max_epochs, test_err))\n",
    "        # break\n",
    "        test_errs[i_fold, i_epoch] = test_err\n",
    "    train_errs[i_fold, :] = np.array(rec.train_errors)\n",
    "    # break\n",
    "\n",
    "print(f\"There are {len(rec.user_map)} users and {len(rec.item_map)} items\")"
   ]
  },
  {
   "cell_type": "code",
   "execution_count": 16,
   "metadata": {
    "colab": {
     "base_uri": "https://localhost:8080/",
     "height": 469
    },
    "executionInfo": {
     "elapsed": 630,
     "status": "ok",
     "timestamp": 1714996822555,
     "user": {
      "displayName": "오장민 (AI융합학부)",
      "userId": "14191339932351591583"
     },
     "user_tz": -540
    },
    "id": "1v9rGkYrHxv6",
    "outputId": "3f0d3fae-a111-4e8f-eebb-f216f8e68432"
   },
   "outputs": [
    {
     "data": {
      "image/png": "[encoded data removed]",
      "text/plain": [
       "<Figure size 640x480 with 1 Axes>"
      ]
     },
     "metadata": {},
     "output_type": "display_data"
    }
   ],
   "source": [
    "train_avg, train_std = train_errs.mean(axis=0), train_errs.std(axis=0)\n",
    "test_avg, test_std = test_errs.mean(axis=0), test_errs.std(axis=0)\n",
    "l, = plt.plot(np.arange(max_epochs), train_avg, label='Train Error')\n",
    "plt.fill_between(np.arange(max_epochs), train_avg-train_std, train_avg+train_std,\n",
    "                 color=l.get_color(), alpha=0.3)\n",
    "l, = plt.plot(np.arange(max_epochs), test_avg, label='Test Error')\n",
    "plt.fill_between(np.arange(max_epochs), test_avg-test_std, test_avg+test_std,\n",
    "                 color=l.get_color(), alpha=0.3)\n",
    "plt.legend()\n",
    "plt.xlabel('Epoch')\n",
    "plt.ylabel('MAE')\n",
    "plt.title(r'Errors vs Epoch for $k=20$, $n_{ratings}=100K$')\n",
    "plt.show()"
   ]
  },
  {
   "cell_type": "markdown",
   "metadata": {
    "id": "gQAYiXRLHxv6"
   },
   "source": [
    "15 or 20 epochs seems like enough for Test Error to start plateauing.\n",
    "\n",
    "# 5. Find Optimal $k$"
   ]
  },
  {
   "cell_type": "code",
   "execution_count": 17,
   "metadata": {
    "colab": {
     "base_uri": "https://localhost:8080/"
    },
    "executionInfo": {
     "elapsed": 220459,
     "status": "ok",
     "timestamp": 1714997043008,
     "user": {
      "displayName": "오장민 (AI융합학부)",
      "userId": "14191339932351591583"
     },
     "user_tz": -540
    },
    "id": "f6YYOOPIHxv7",
    "outputId": "38a66d32-c978-46c2-bd75-0d319739993a"
   },
   "outputs": [
    {
     "name": "stdout",
     "output_type": "stream",
     "text": [
      "i_fold=0: k=1, k=2, k=5, k=10, k=20, k=50, k=100, \n",
      "i_fold=1: k=1, k=2, k=5, k=10, k=20, k=50, k=100, \n",
      "i_fold=2: k=1, k=2, k=5, k=10, k=20, k=50, k=100, \n",
      "i_fold=3: k=1, k=2, k=5, k=10, k=20, k=50, k=100, \n",
      "i_fold=4: k=1, k=2, k=5, k=10, k=20, k=50, k=100, \n"
     ]
    }
   ],
   "source": [
    "n_splits = 5\n",
    "max_epochs = 15\n",
    "kf = KFold(n_splits=n_splits, random_state=0, shuffle=True)\n",
    "k_list = [1, 2, 5, 10, 20, 50, 100]\n",
    "small_df = ratings_df.iloc[:100000]\n",
    "train_errs = np.zeros((n_splits, len(k_list)))\n",
    "test_errs = np.zeros((n_splits, len(k_list)))\n",
    "for i_fold, (train_inds, test_inds) in enumerate(kf.split(small_df)):\n",
    "    print(\"i_fold={}: \".format(i_fold), end='')\n",
    "    train_df, test_df = small_df.iloc[train_inds], small_df.iloc[test_inds]\n",
    "    baseline_algo = DampedUserMovieBaselineModel(damping_factor=10)\n",
    "    for i_k, k in enumerate(k_list):\n",
    "        print(\"k={}, \".format(k), end='')\n",
    "        rec = ALSRecommender(k=k, baseline_algo=baseline_algo, verbose=False, max_epochs=max_epochs)\n",
    "        rec.fit(train_df)\n",
    "        preds = rec.predict(test_df[['userId', 'movieId']])\n",
    "        test_err = mean_absolute_error(preds, test_df['rating'])\n",
    "        test_errs[i_fold, i_k] = test_err\n",
    "        train_errs[i_fold, i_k] = rec.train_errors[-1]\n",
    "    print()"
   ]
  },
  {
   "cell_type": "code",
   "execution_count": 18,
   "metadata": {
    "colab": {
     "base_uri": "https://localhost:8080/",
     "height": 470
    },
    "executionInfo": {
     "elapsed": 822,
     "status": "ok",
     "timestamp": 1714997043819,
     "user": {
      "displayName": "오장민 (AI융합학부)",
      "userId": "14191339932351591583"
     },
     "user_tz": -540
    },
    "id": "WBzWTN7SHxv7",
    "outputId": "36a91720-d070-4460-e982-486d72bee898"
   },
   "outputs": [
    {
     "data": {
      "image/png": "[encoded data removed]",
      "text/plain": [
       "<Figure size 640x480 with 1 Axes>"
      ]
     },
     "metadata": {},
     "output_type": "display_data"
    }
   ],
   "source": [
    "train_avg, train_std = train_errs.mean(axis=0), train_errs.std(axis=0)\n",
    "test_avg, test_std = test_errs.mean(axis=0), test_errs.std(axis=0)\n",
    "l, = plt.semilogx(k_list, train_avg, label='Train Error')\n",
    "plt.fill_between(k_list, train_avg-train_std, train_avg+train_std,\n",
    "                 color=l.get_color(), alpha=0.3)\n",
    "l, = plt.semilogx(k_list, test_avg, label='Test Error')\n",
    "plt.fill_between(k_list, test_avg-test_std, test_avg+test_std,\n",
    "                 color=l.get_color(), alpha=0.3)\n",
    "plt.xticks(k_list, k_list)\n",
    "plt.legend()\n",
    "plt.xlabel(r'$k$')\n",
    "plt.ylabel('MAE')\n",
    "plt.title(r'Errors vs $k$ after {} epochs'.format(max_epochs))\n",
    "plt.show()"
   ]
  },
  {
   "cell_type": "markdown",
   "metadata": {
    "id": "XpX9UT5tHxv7"
   },
   "source": [
    "It looks like we have a Test Error minimum around $k=10$, although since $k=5$ is so close, I would go with that since it is likely to generalize better.\n",
    "\n",
    "Check out the next notebook where I explore Stochastic Gradient Descent!"
   ]
  },
  {
   "cell_type": "markdown",
   "metadata": {
    "id": "FIsC-_UDtLnB"
   },
   "source": [
    "# Explore Results: Item Matrix"
   ]
  },
  {
   "cell_type": "code",
   "execution_count": 19,
   "metadata": {
    "executionInfo": {
     "elapsed": 971,
     "status": "ok",
     "timestamp": 1714997045501,
     "user": {
      "displayName": "오장민 (AI융합학부)",
      "userId": "14191339932351591583"
     },
     "user_tz": -540
    },
    "id": "c8Q4oVJBkaX9"
   },
   "outputs": [],
   "source": [
    "train_df = pd.read_csv('raw/ml-100k/u1.base', sep='\\t', header=None,\n",
    "                         names=['userId', 'movieId', 'rating', 'timestamp'])\n",
    "train_df['timestamp'] = train_df['timestamp'].apply(datetime.fromtimestamp)\n",
    "train_df = train_df.sort_values('timestamp')\n",
    "test_df = pd.read_csv('raw/ml-100k/u1.test', sep='\\t', header=None,\n",
    "                         names=['userId', 'movieId', 'rating', 'timestamp'])\n",
    "test_df['timestamp'] = test_df['timestamp'].apply(datetime.fromtimestamp)\n",
    "test_df = test_df.sort_values('timestamp')"
   ]
  },
  {
   "cell_type": "code",
   "execution_count": 20,
   "metadata": {
    "executionInfo": {
     "elapsed": 4254,
     "status": "ok",
     "timestamp": 1714997049753,
     "user": {
      "displayName": "오장민 (AI융합학부)",
      "userId": "14191339932351591583"
     },
     "user_tz": -540
    },
    "id": "ICJySJXnj9Si"
   },
   "outputs": [],
   "source": [
    "baseline_algo = DampedUserMovieBaselineModel(damping_factor=10)\n",
    "rec = ALSRecommender(k=10, baseline_algo=baseline_algo, verbose=False, max_epochs=15)\n",
    "rec.fit(train_df)\n",
    "preds = rec.predict(test_df[['userId', 'movieId']])\n",
    "test_err = mean_absolute_error(preds, test_df['rating'])"
   ]
  },
  {
   "cell_type": "code",
   "execution_count": 21,
   "metadata": {
    "executionInfo": {
     "elapsed": 4,
     "status": "ok",
     "timestamp": 1714997049753,
     "user": {
      "displayName": "오장민 (AI융합학부)",
      "userId": "14191339932351591583"
     },
     "user_tz": -540
    },
    "id": "Fp2-qbtRlT7P"
   },
   "outputs": [],
   "source": [
    "from sklearn.metrics.pairwise import cosine_similarity"
   ]
  },
  {
   "cell_type": "code",
   "execution_count": 22,
   "metadata": {
    "executionInfo": {
     "elapsed": 546,
     "status": "ok",
     "timestamp": 1714997050297,
     "user": {
      "displayName": "오장민 (AI융합학부)",
      "userId": "14191339932351591583"
     },
     "user_tz": -540
    },
    "id": "K0ArRObglkZp"
   },
   "outputs": [],
   "source": [
    "item_similarity_matrix = cosine_similarity(rec.V)\n",
    "np.fill_diagonal(item_similarity_matrix, -1)\n",
    "knn_indices = np.argsort(item_similarity_matrix, axis=1)[:, ::-1][:, :10]\n",
    "sample_range = np.arange(len(knn_indices))[:, None]\n",
    "knn_similarities = item_similarity_matrix[sample_range, knn_indices]"
   ]
  },
  {
   "cell_type": "code",
   "execution_count": null,
   "metadata": {
    "id": "e5vgXi9lmXdI"
   },
   "outputs": [],
   "source": [
    "itemidx_to_itemno = pd.Series(rec.item_map.index, index=rec.item_map.values)"
   ]
  },
  {
   "cell_type": "code",
   "execution_count": null,
   "metadata": {
    "id": "_6RnAdoSmu81"
   },
   "outputs": [],
   "source": [
    "item_info_df = pd.read_csv('raw/ml-100k/u.item', encoding_errors='replace', sep='|', header=None)[[0,1,2]]\n",
    "item_info_df.columns = ['item_no', 'title', 'release_dt']\n",
    "itemno_info_df = item_info_df.set_index('item_no')"
   ]
  },
  {
   "cell_type": "code",
   "execution_count": null,
   "metadata": {
    "colab": {
     "base_uri": "https://localhost:8080/",
     "height": 425
    },
    "executionInfo": {
     "elapsed": 271,
     "status": "ok",
     "timestamp": 1684219370561,
     "user": {
      "displayName": "오장민 (정보시스템공학과)",
      "userId": "14191339932351591583"
     },
     "user_tz": -540
    },
    "id": "JH25Fbd8sbVf",
    "outputId": "fb0b9982-6ce8-498e-ea52-e449878c356a"
   },
   "outputs": [
    {
     "data": {
      "text/html": [
       "\n",
       "  <div id=\"df-a2b141dc-10af-4c21-a9b8-63eb7835a644\">\n",
       "    <div class=\"colab-df-container\">\n",
       "      <div>\n",
       "<style scoped>\n",
       "    .dataframe tbody tr th:only-of-type {\n",
       "        vertical-align: middle;\n",
       "    }\n",
       "\n",
       "    .dataframe tbody tr th {\n",
       "        vertical-align: top;\n",
       "    }\n",
       "\n",
       "    .dataframe thead th {\n",
       "        text-align: right;\n",
       "    }\n",
       "</style>\n",
       "<table border=\"1\" class=\"dataframe\">\n",
       "  <thead>\n",
       "    <tr style=\"text-align: right;\">\n",
       "      <th></th>\n",
       "      <th>title</th>\n",
       "      <th>release_dt</th>\n",
       "    </tr>\n",
       "    <tr>\n",
       "      <th>item_no</th>\n",
       "      <th></th>\n",
       "      <th></th>\n",
       "    </tr>\n",
       "  </thead>\n",
       "  <tbody>\n",
       "    <tr>\n",
       "      <th>227</th>\n",
       "      <td>Star Trek VI: The Undiscovered Country (1991)</td>\n",
       "      <td>01-Jan-1991</td>\n",
       "    </tr>\n",
       "    <tr>\n",
       "      <th>230</th>\n",
       "      <td>Star Trek IV: The Voyage Home (1986)</td>\n",
       "      <td>01-Jan-1986</td>\n",
       "    </tr>\n",
       "    <tr>\n",
       "      <th>229</th>\n",
       "      <td>Star Trek III: The Search for Spock (1984)</td>\n",
       "      <td>01-Jan-1984</td>\n",
       "    </tr>\n",
       "    <tr>\n",
       "      <th>380</th>\n",
       "      <td>Star Trek: Generations (1994)</td>\n",
       "      <td>01-Jan-1994</td>\n",
       "    </tr>\n",
       "    <tr>\n",
       "      <th>222</th>\n",
       "      <td>Star Trek: First Contact (1996)</td>\n",
       "      <td>22-Nov-1996</td>\n",
       "    </tr>\n",
       "    <tr>\n",
       "      <th>228</th>\n",
       "      <td>Star Trek: The Wrath of Khan (1982)</td>\n",
       "      <td>01-Jan-1982</td>\n",
       "    </tr>\n",
       "    <tr>\n",
       "      <th>31</th>\n",
       "      <td>Crimson Tide (1995)</td>\n",
       "      <td>01-Jan-1995</td>\n",
       "    </tr>\n",
       "    <tr>\n",
       "      <th>2</th>\n",
       "      <td>GoldenEye (1995)</td>\n",
       "      <td>01-Jan-1995</td>\n",
       "    </tr>\n",
       "    <tr>\n",
       "      <th>164</th>\n",
       "      <td>Abyss, The (1989)</td>\n",
       "      <td>01-Jan-1989</td>\n",
       "    </tr>\n",
       "    <tr>\n",
       "      <th>470</th>\n",
       "      <td>Tombstone (1993)</td>\n",
       "      <td>01-Jan-1993</td>\n",
       "    </tr>\n",
       "    <tr>\n",
       "      <th>431</th>\n",
       "      <td>Highlander (1986)</td>\n",
       "      <td>01-Jan-1986</td>\n",
       "    </tr>\n",
       "  </tbody>\n",
       "</table>\n",
       "</div>\n",
       "      <button class=\"colab-df-convert\" onclick=\"convertToInteractive('df-a2b141dc-10af-4c21-a9b8-63eb7835a644')\"\n",
       "              title=\"Convert this dataframe to an interactive table.\"\n",
       "              style=\"display:none;\">\n",
       "        \n",
       "  <svg xmlns=\"http://www.w3.org/2000/svg\" height=\"24px\"viewBox=\"0 0 24 24\"\n",
       "       width=\"24px\">\n",
       "    <path d=\"M0 0h24v24H0V0z\" fill=\"none\"/>\n",
       "    <path d=\"M18.56 5.44l.94 2.06.94-2.06 2.06-.94-2.06-.94-.94-2.06-.94 2.06-2.06.94zm-11 1L8.5 8.5l.94-2.06 2.06-.94-2.06-.94L8.5 2.5l-.94 2.06-2.06.94zm10 10l.94 2.06.94-2.06 2.06-.94-2.06-.94-.94-2.06-.94 2.06-2.06.94z\"/><path d=\"M17.41 7.96l-1.37-1.37c-.4-.4-.92-.59-1.43-.59-.52 0-1.04.2-1.43.59L10.3 9.45l-7.72 7.72c-.78.78-.78 2.05 0 2.83L4 21.41c.39.39.9.59 1.41.59.51 0 1.02-.2 1.41-.59l7.78-7.78 2.81-2.81c.8-.78.8-2.07 0-2.86zM5.41 20L4 18.59l7.72-7.72 1.47 1.35L5.41 20z\"/>\n",
       "  </svg>\n",
       "      </button>\n",
       "      \n",
       "  <style>\n",
       "    .colab-df-container {\n",
       "      display:flex;\n",
       "      flex-wrap:wrap;\n",
       "      gap: 12px;\n",
       "    }\n",
       "\n",
       "    .colab-df-convert {\n",
       "      background-color: #E8F0FE;\n",
       "      border: none;\n",
       "      border-radius: 50%;\n",
       "      cursor: pointer;\n",
       "      display: none;\n",
       "      fill: #1967D2;\n",
       "      height: 32px;\n",
       "      padding: 0 0 0 0;\n",
       "      width: 32px;\n",
       "    }\n",
       "\n",
       "    .colab-df-convert:hover {\n",
       "      background-color: #E2EBFA;\n",
       "      box-shadow: 0px 1px 2px rgba(60, 64, 67, 0.3), 0px 1px 3px 1px rgba(60, 64, 67, 0.15);\n",
       "      fill: #174EA6;\n",
       "    }\n",
       "\n",
       "    [theme=dark] .colab-df-convert {\n",
       "      background-color: #3B4455;\n",
       "      fill: #D2E3FC;\n",
       "    }\n",
       "\n",
       "    [theme=dark] .colab-df-convert:hover {\n",
       "      background-color: #434B5C;\n",
       "      box-shadow: 0px 1px 3px 1px rgba(0, 0, 0, 0.15);\n",
       "      filter: drop-shadow(0px 1px 2px rgba(0, 0, 0, 0.3));\n",
       "      fill: #FFFFFF;\n",
       "    }\n",
       "  </style>\n",
       "\n",
       "      <script>\n",
       "        const buttonEl =\n",
       "          document.querySelector('#df-a2b141dc-10af-4c21-a9b8-63eb7835a644 button.colab-df-convert');\n",
       "        buttonEl.style.display =\n",
       "          google.colab.kernel.accessAllowed ? 'block' : 'none';\n",
       "\n",
       "        async function convertToInteractive(key) {\n",
       "          const element = document.querySelector('#df-a2b141dc-10af-4c21-a9b8-63eb7835a644');\n",
       "          const dataTable =\n",
       "            await google.colab.kernel.invokeFunction('convertToInteractive',\n",
       "                                                     [key], {});\n",
       "          if (!dataTable) return;\n",
       "\n",
       "          const docLinkHtml = 'Like what you see? Visit the ' +\n",
       "            '<a target=\"_blank\" href=https://colab.research.google.com/notebooks/data_table.ipynb>data table notebook</a>'\n",
       "            + ' to learn more about interactive tables.';\n",
       "          element.innerHTML = '';\n",
       "          dataTable['output_type'] = 'display_data';\n",
       "          await google.colab.output.renderOutput(dataTable, element);\n",
       "          const docLink = document.createElement('div');\n",
       "          docLink.innerHTML = docLinkHtml;\n",
       "          element.appendChild(docLink);\n",
       "        }\n",
       "      </script>\n",
       "    </div>\n",
       "  </div>\n",
       "  "
      ],
      "text/plain": [
       "                                                 title   release_dt\n",
       "item_no                                                            \n",
       "227      Star Trek VI: The Undiscovered Country (1991)  01-Jan-1991\n",
       "230               Star Trek IV: The Voyage Home (1986)  01-Jan-1986\n",
       "229         Star Trek III: The Search for Spock (1984)  01-Jan-1984\n",
       "380                      Star Trek: Generations (1994)  01-Jan-1994\n",
       "222                    Star Trek: First Contact (1996)  22-Nov-1996\n",
       "228                Star Trek: The Wrath of Khan (1982)  01-Jan-1982\n",
       "31                                 Crimson Tide (1995)  01-Jan-1995\n",
       "2                                     GoldenEye (1995)  01-Jan-1995\n",
       "164                                  Abyss, The (1989)  01-Jan-1989\n",
       "470                                   Tombstone (1993)  01-Jan-1993\n",
       "431                                  Highlander (1986)  01-Jan-1986"
      ]
     },
     "execution_count": 17,
     "metadata": {},
     "output_type": "execute_result"
    }
   ],
   "source": [
    "itemno_info_df.loc[[itemidx_to_itemno[i]] + list(itemidx_to_itemno[knn_indices[i]])]"
   ]
  }
 ],
 "metadata": {
  "colab": {
   "provenance": [
    {
     "file_id": "https://github.com/benlindsay/movielens-analysis/blob/master/04_ALS.ipynb",
     "timestamp": 1651459462148
    }
   ],
   "toc_visible": true
  },
  "kernelspec": {
   "display_name": "Python 3",
   "language": "python",
   "name": "python3"
  },
  "language_info": {
   "codemirror_mode": {
    "name": "ipython",
    "version": 3
   },
   "file_extension": ".py",
   "mimetype": "text/x-python",
   "name": "python",
   "nbconvert_exporter": "python",
   "pygments_lexer": "ipython3",
   "version": "3.6.4"
  }
 },
 "nbformat": 4,
 "nbformat_minor": 0
}
